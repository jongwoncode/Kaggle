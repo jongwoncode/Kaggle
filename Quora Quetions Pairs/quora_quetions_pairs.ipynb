{
 "cells": [
  {
   "attachments": {},
   "cell_type": "markdown",
   "metadata": {},
   "source": [
    "# 💬[Kaggle] Quora Quetions Pairs\n",
    "\n",
    "* **Competition Site** : <https://www.kaggle.com/competitions/quora-question-pairs/data>\n",
    "\n",
    "\n",
    "* **Quora** : 질문을 하고 다른 사용자들로부터 답변을 받을 수 있는 서비스\n",
    "  - **Target** : 이 서비스에 올라온 질문들 중 어던 질문이 서로 유사한지 판단하는 모델을 만듬. [텍스트 유사도]\n",
    "  - **Preprocessing** : **문장의 길이와 어휘 빈도 분석**을 통한 전처리\n",
    "  - **Model** : Quara에서는 중복 검사를 **Random Forest**로 진행하고 있음."
   ]
  },
  {
   "attachments": {},
   "cell_type": "markdown",
   "metadata": {},
   "source": [
    "# 👻Library Load"
   ]
  },
  {
   "cell_type": "code",
   "execution_count": 22,
   "metadata": {},
   "outputs": [],
   "source": [
    "import os\n",
    "import json\n",
    "from pathlib import Path\n",
    "from joblib import dump, load\n",
    "import joblib\n",
    "import warnings\n",
    "warnings.filterwarnings(\"ignore\")\n",
    "\n",
    "# EDA & Visualization\n",
    "import numpy as np\n",
    "import pandas as pd\n",
    "import matplotlib.pyplot as plt\n",
    "import seaborn as sns\n",
    "%matplotlib inline\n",
    "\n",
    "# preprocessing library\n",
    "import re\n",
    "from bs4 import BeautifulSoup\n",
    "from tensorflow.keras.preprocessing.text import Tokenizer\n",
    "from tensorflow.keras.preprocessing.sequence import pad_sequences\n",
    "\n",
    "# Train/Test Split\n",
    "from sklearn.model_selection import train_test_split, cross_val_score, GridSearchCV\n",
    "\n",
    "# Classification Model\n",
    "from sklearn.linear_model import LogisticRegression\n",
    "from sklearn.ensemble import RandomForestClassifier\n",
    "from sklearn.tree import DecisionTreeClassifier\n",
    "from xgboost import XGBClassifier\n",
    "\n",
    "\n",
    "# Metric\n",
    "from sklearn.metrics import accuracy_score, log_loss, make_scorer\n",
    "\n",
    "\n",
    "# DL Model\n",
    "import tensorflow as tf\n",
    "from tensorflow.keras.models import Model\n",
    "from tensorflow.keras.layers import Input, Dense, Dropout, BatchNormalization\n",
    "from tensorflow.keras.activations import relu, sigmoid\n",
    "from tensorflow.keras.initializers import RandomNormal\n",
    "from tensorflow.keras.constraints import MaxNorm \n",
    "from tensorflow.keras.callbacks import EarlyStopping, ModelCheckpoint\n",
    "\n",
    "SEED_NUM = 1234\n",
    "tf.random.set_seed(SEED_NUM)\n"
   ]
  },
  {
   "cell_type": "code",
   "execution_count": 2,
   "metadata": {},
   "outputs": [],
   "source": [
    "DATA_IN_PATH = os.path.join(os.getcwd(), 'data')\n",
    "train_data = pd.read_csv(os.path.join(DATA_IN_PATH, 'train.csv'))"
   ]
  },
  {
   "cell_type": "code",
   "execution_count": 3,
   "metadata": {},
   "outputs": [
    {
     "data": {
      "text/html": [
       "<div>\n",
       "<style scoped>\n",
       "    .dataframe tbody tr th:only-of-type {\n",
       "        vertical-align: middle;\n",
       "    }\n",
       "\n",
       "    .dataframe tbody tr th {\n",
       "        vertical-align: top;\n",
       "    }\n",
       "\n",
       "    .dataframe thead th {\n",
       "        text-align: right;\n",
       "    }\n",
       "</style>\n",
       "<table border=\"1\" class=\"dataframe\">\n",
       "  <thead>\n",
       "    <tr style=\"text-align: right;\">\n",
       "      <th></th>\n",
       "      <th>id</th>\n",
       "      <th>qid1</th>\n",
       "      <th>qid2</th>\n",
       "      <th>question1</th>\n",
       "      <th>question2</th>\n",
       "      <th>is_duplicate</th>\n",
       "    </tr>\n",
       "  </thead>\n",
       "  <tbody>\n",
       "    <tr>\n",
       "      <th>0</th>\n",
       "      <td>0</td>\n",
       "      <td>1</td>\n",
       "      <td>2</td>\n",
       "      <td>What is the step by step guide to invest in sh...</td>\n",
       "      <td>What is the step by step guide to invest in sh...</td>\n",
       "      <td>0</td>\n",
       "    </tr>\n",
       "    <tr>\n",
       "      <th>1</th>\n",
       "      <td>1</td>\n",
       "      <td>3</td>\n",
       "      <td>4</td>\n",
       "      <td>What is the story of Kohinoor (Koh-i-Noor) Dia...</td>\n",
       "      <td>What would happen if the Indian government sto...</td>\n",
       "      <td>0</td>\n",
       "    </tr>\n",
       "    <tr>\n",
       "      <th>2</th>\n",
       "      <td>2</td>\n",
       "      <td>5</td>\n",
       "      <td>6</td>\n",
       "      <td>How can I increase the speed of my internet co...</td>\n",
       "      <td>How can Internet speed be increased by hacking...</td>\n",
       "      <td>0</td>\n",
       "    </tr>\n",
       "    <tr>\n",
       "      <th>3</th>\n",
       "      <td>3</td>\n",
       "      <td>7</td>\n",
       "      <td>8</td>\n",
       "      <td>Why am I mentally very lonely? How can I solve...</td>\n",
       "      <td>Find the remainder when [math]23^{24}[/math] i...</td>\n",
       "      <td>0</td>\n",
       "    </tr>\n",
       "    <tr>\n",
       "      <th>4</th>\n",
       "      <td>4</td>\n",
       "      <td>9</td>\n",
       "      <td>10</td>\n",
       "      <td>Which one dissolve in water quikly sugar, salt...</td>\n",
       "      <td>Which fish would survive in salt water?</td>\n",
       "      <td>0</td>\n",
       "    </tr>\n",
       "  </tbody>\n",
       "</table>\n",
       "</div>"
      ],
      "text/plain": [
       "   id  qid1  qid2                                          question1  \\\n",
       "0   0     1     2  What is the step by step guide to invest in sh...   \n",
       "1   1     3     4  What is the story of Kohinoor (Koh-i-Noor) Dia...   \n",
       "2   2     5     6  How can I increase the speed of my internet co...   \n",
       "3   3     7     8  Why am I mentally very lonely? How can I solve...   \n",
       "4   4     9    10  Which one dissolve in water quikly sugar, salt...   \n",
       "\n",
       "                                           question2  is_duplicate  \n",
       "0  What is the step by step guide to invest in sh...             0  \n",
       "1  What would happen if the Indian government sto...             0  \n",
       "2  How can Internet speed be increased by hacking...             0  \n",
       "3  Find the remainder when [math]23^{24}[/math] i...             0  \n",
       "4            Which fish would survive in salt water?             0  "
      ]
     },
     "execution_count": 3,
     "metadata": {},
     "output_type": "execute_result"
    }
   ],
   "source": [
    "train_data.head()"
   ]
  },
  {
   "cell_type": "code",
   "execution_count": 4,
   "metadata": {},
   "outputs": [
    {
     "name": "stdout",
     "output_type": "stream",
     "text": [
      "파일 크기 : \n",
      "sample_submission.csv         22.35MB\n",
      "test.csv                      477.59MB\n",
      "train.csv                     63.4MB\n"
     ]
    }
   ],
   "source": [
    "print(\"파일 크기 : \")\n",
    "for file in os.listdir(DATA_IN_PATH) : \n",
    "    if 'csv' in file and 'zip' not in file : \n",
    "        print(file.ljust(30) + str(round(os.path.getsize(os.path.join(DATA_IN_PATH,file)) / 1000000, 2)) + 'MB')"
   ]
  },
  {
   "cell_type": "code",
   "execution_count": 5,
   "metadata": {},
   "outputs": [
    {
     "name": "stdout",
     "output_type": "stream",
     "text": [
      "전체 학습 데이터의 개수 : 404290\n"
     ]
    }
   ],
   "source": [
    "print(\"전체 학습 데이터의 개수 : {}\".format(len(train_data)))"
   ]
  },
  {
   "attachments": {},
   "cell_type": "markdown",
   "metadata": {},
   "source": [
    "**nan 값 확인**"
   ]
  },
  {
   "cell_type": "code",
   "execution_count": 8,
   "metadata": {},
   "outputs": [
    {
     "name": "stdout",
     "output_type": "stream",
     "text": [
      "<class 'pandas.core.frame.DataFrame'>\n",
      "RangeIndex: 404290 entries, 0 to 404289\n",
      "Data columns (total 6 columns):\n",
      " #   Column        Non-Null Count   Dtype \n",
      "---  ------        --------------   ----- \n",
      " 0   id            404290 non-null  int64 \n",
      " 1   qid1          404290 non-null  int64 \n",
      " 2   qid2          404290 non-null  int64 \n",
      " 3   question1     404289 non-null  object\n",
      " 4   question2     404288 non-null  object\n",
      " 5   is_duplicate  404290 non-null  int64 \n",
      "dtypes: int64(4), object(2)\n",
      "memory usage: 18.5+ MB\n"
     ]
    }
   ],
   "source": [
    "train_data.info()"
   ]
  },
  {
   "cell_type": "code",
   "execution_count": 9,
   "metadata": {},
   "outputs": [
    {
     "data": {
      "text/html": [
       "<div>\n",
       "<style scoped>\n",
       "    .dataframe tbody tr th:only-of-type {\n",
       "        vertical-align: middle;\n",
       "    }\n",
       "\n",
       "    .dataframe tbody tr th {\n",
       "        vertical-align: top;\n",
       "    }\n",
       "\n",
       "    .dataframe thead th {\n",
       "        text-align: right;\n",
       "    }\n",
       "</style>\n",
       "<table border=\"1\" class=\"dataframe\">\n",
       "  <thead>\n",
       "    <tr style=\"text-align: right;\">\n",
       "      <th></th>\n",
       "      <th>id</th>\n",
       "      <th>qid1</th>\n",
       "      <th>qid2</th>\n",
       "      <th>question1</th>\n",
       "      <th>question2</th>\n",
       "      <th>is_duplicate</th>\n",
       "    </tr>\n",
       "  </thead>\n",
       "  <tbody>\n",
       "    <tr>\n",
       "      <th>363362</th>\n",
       "      <td>363362</td>\n",
       "      <td>493340</td>\n",
       "      <td>493341</td>\n",
       "      <td>NaN</td>\n",
       "      <td>My Chinese name is Haichao Yu. What English na...</td>\n",
       "      <td>0</td>\n",
       "    </tr>\n",
       "  </tbody>\n",
       "</table>\n",
       "</div>"
      ],
      "text/plain": [
       "            id    qid1    qid2 question1  \\\n",
       "363362  363362  493340  493341       NaN   \n",
       "\n",
       "                                                question2  is_duplicate  \n",
       "363362  My Chinese name is Haichao Yu. What English na...             0  "
      ]
     },
     "metadata": {},
     "output_type": "display_data"
    },
    {
     "data": {
      "text/html": [
       "<div>\n",
       "<style scoped>\n",
       "    .dataframe tbody tr th:only-of-type {\n",
       "        vertical-align: middle;\n",
       "    }\n",
       "\n",
       "    .dataframe tbody tr th {\n",
       "        vertical-align: top;\n",
       "    }\n",
       "\n",
       "    .dataframe thead th {\n",
       "        text-align: right;\n",
       "    }\n",
       "</style>\n",
       "<table border=\"1\" class=\"dataframe\">\n",
       "  <thead>\n",
       "    <tr style=\"text-align: right;\">\n",
       "      <th></th>\n",
       "      <th>id</th>\n",
       "      <th>qid1</th>\n",
       "      <th>qid2</th>\n",
       "      <th>question1</th>\n",
       "      <th>question2</th>\n",
       "      <th>is_duplicate</th>\n",
       "    </tr>\n",
       "  </thead>\n",
       "  <tbody>\n",
       "    <tr>\n",
       "      <th>105780</th>\n",
       "      <td>105780</td>\n",
       "      <td>174363</td>\n",
       "      <td>174364</td>\n",
       "      <td>How can I develop android app?</td>\n",
       "      <td>NaN</td>\n",
       "      <td>0</td>\n",
       "    </tr>\n",
       "    <tr>\n",
       "      <th>201841</th>\n",
       "      <td>201841</td>\n",
       "      <td>303951</td>\n",
       "      <td>174364</td>\n",
       "      <td>How can I create an Android app?</td>\n",
       "      <td>NaN</td>\n",
       "      <td>0</td>\n",
       "    </tr>\n",
       "  </tbody>\n",
       "</table>\n",
       "</div>"
      ],
      "text/plain": [
       "            id    qid1    qid2                         question1 question2  \\\n",
       "105780  105780  174363  174364    How can I develop android app?       NaN   \n",
       "201841  201841  303951  174364  How can I create an Android app?       NaN   \n",
       "\n",
       "        is_duplicate  \n",
       "105780             0  \n",
       "201841             0  "
      ]
     },
     "metadata": {},
     "output_type": "display_data"
    }
   ],
   "source": [
    "bool_q1 = pd.isnull(train_data['question1'])\n",
    "bool_q2 = pd.isnull(train_data['question2'])\n",
    "display(train_data[bool_q1])\n",
    "display(train_data[bool_q2])"
   ]
  },
  {
   "attachments": {},
   "cell_type": "markdown",
   "metadata": {},
   "source": [
    "**두 질문을 한번에 분석하기 위해 질문들 합치기**"
   ]
  },
  {
   "cell_type": "code",
   "execution_count": 10,
   "metadata": {},
   "outputs": [
    {
     "data": {
      "text/plain": [
       "0    What is the step by step guide to invest in sh...\n",
       "1    What is the story of Kohinoor (Koh-i-Noor) Dia...\n",
       "2    How can I increase the speed of my internet co...\n",
       "3    Why am I mentally very lonely? How can I solve...\n",
       "4    Which one dissolve in water quikly sugar, salt...\n",
       "dtype: object"
      ]
     },
     "execution_count": 10,
     "metadata": {},
     "output_type": "execute_result"
    }
   ],
   "source": [
    "train_set = pd.Series(train_data['question1'].tolist() + train_data['question2'].tolist()).astype(str)\n",
    "train_set.head()"
   ]
  },
  {
   "attachments": {},
   "cell_type": "markdown",
   "metadata": {},
   "source": [
    "----------------------"
   ]
  },
  {
   "attachments": {},
   "cell_type": "markdown",
   "metadata": {},
   "source": [
    "# 👻EDA\n",
    "\n",
    "1. **질문 중복 분석**\n",
    "2. **라벨 빈도 분석**\n",
    "3. **문자 분석**\n",
    "4. **단어 분석**"
   ]
  },
  {
   "attachments": {},
   "cell_type": "markdown",
   "metadata": {},
   "source": [
    "## 🤡[EDA] 질문 중복 분석"
   ]
  },
  {
   "cell_type": "code",
   "execution_count": 25,
   "metadata": {},
   "outputs": [
    {
     "name": "stdout",
     "output_type": "stream",
     "text": [
      "Train 데이터의 총 질문 수 : 537361\n",
      "반복해서 나타나는 질문의 수 : 111873\n"
     ]
    }
   ],
   "source": [
    "print('Train 데이터의 총 질문 수 : {}'.format(len(np.unique(train_set))))\n",
    "print('반복해서 나타나는 질문의 수 : {}'.format(np.sum(train_set.value_counts()>1)))\n"
   ]
  },
  {
   "cell_type": "code",
   "execution_count": 45,
   "metadata": {},
   "outputs": [
    {
     "name": "stdout",
     "output_type": "stream",
     "text": [
      "중복 최대 개수 : 161\n",
      "중복 최소 개수 : 1\n",
      "중복 평균 개수 : 1.50472401234924\n",
      "중복 표준편차  : 1.9114373539452214\n",
      "중복 중간 길이 : 1.0\n",
      "제1사분위 중복 : 1.0\n",
      "제3사분위 중복 : 1.0\n",
      "90% 중복 개수 : 2.0\n",
      "95% 중복 개수 : 3.0\n",
      "99% 중복 개수 : 9.0\n"
     ]
    },
    {
     "data": {
      "text/plain": [
       "Text(0, 0.5, 'Number of occurrence of questions')"
      ]
     },
     "execution_count": 45,
     "metadata": {},
     "output_type": "execute_result"
    },
    {
     "data": {
      "image/png": "[encoded data removed]",
      "text/plain": [
       "<Figure size 1200x300 with 2 Axes>"
      ]
     },
     "metadata": {},
     "output_type": "display_data"
    }
   ],
   "source": [
    "# 질문 중복 횟수에 대한 통계량\n",
    "print('중복 최대 개수 : {}'.format(np.max(train_set.value_counts())))\n",
    "print('중복 최소 개수 : {}'.format(np.min(train_set.value_counts())))\n",
    "print('중복 평균 개수 : {}'.format(np.mean(train_set.value_counts())))\n",
    "print('중복 표준편차  : {}'.format(np.std(train_set.value_counts())))\n",
    "print('중복 중간 길이 : {}'.format(np.median(train_set.value_counts())))\n",
    "print('제1사분위 중복 : {}'.format(np.percentile(train_set.value_counts(), 25)))\n",
    "print('제3사분위 중복 : {}'.format(np.percentile(train_set.value_counts(), 75)))\n",
    "print('90% 중복 개수 : {}'.format(np.percentile(train_set.value_counts(), 90)))\n",
    "print('95% 중복 개수 : {}'.format(np.percentile(train_set.value_counts(), 95)))\n",
    "print('99% 중복 개수 : {}'.format(np.percentile(train_set.value_counts(), 99)))\n",
    "\n",
    "\n",
    "\n",
    "# Histogram & Box plot\n",
    "fig, axes = plt.subplots(nrows=1, ncols=2, figsize=(12, 3))\n",
    "axes[0].hist(train_set.value_counts(), bins=50, alpha=0.5, color='r', label='word');\n",
    "axes[0].set_yscale('log')\n",
    "axes[0].set_title('Log-Histogram of question appearance counts')\n",
    "axes[0].set_xlabel('Number of occurrences of question')\n",
    "axes[0].set_ylabel('Number of questions')\n",
    "\n",
    "axes[1].boxplot([train_set.value_counts()], labels=['counts'], showmeans=True);\n",
    "axes[1].set_title('Boxplot of question appearance counts')\n",
    "axes[1].set_ylabel('Number of occurrence of questions')"
   ]
  },
  {
   "cell_type": "code",
   "execution_count": 49,
   "metadata": {},
   "outputs": [
    {
     "data": {
      "text/plain": [
       "(-0.5, 799.5, 599.5, -0.5)"
      ]
     },
     "execution_count": 49,
     "metadata": {},
     "output_type": "execute_result"
    },
    {
     "data": {
      "image/png": "[encoded data removed]",
      "text/plain": [
       "<Figure size 1000x600 with 1 Axes>"
      ]
     },
     "metadata": {},
     "output_type": "display_data"
    }
   ],
   "source": [
    "from wordcloud import WordCloud\n",
    "cloud = WordCloud(width=800, height=600).generate(\" \".join(train_set.astype(str)))\n",
    "plt.figure(figsize=(10, 6))\n",
    "plt.imshow(cloud)\n",
    "plt.axis('off')"
   ]
  },
  {
   "attachments": {},
   "cell_type": "markdown",
   "metadata": {},
   "source": [
    "## 🤡[EDA] 라벨 빈도 분석"
   ]
  },
  {
   "cell_type": "code",
   "execution_count": 54,
   "metadata": {},
   "outputs": [
    {
     "name": "stderr",
     "output_type": "stream",
     "text": [
      "c:\\Users\\user\\anaconda3\\envs\\nlpproject\\lib\\site-packages\\seaborn\\_decorators.py:36: FutureWarning: Pass the following variable as a keyword arg: x. From version 0.12, the only valid positional argument will be `data`, and passing other arguments without an explicit keyword will result in an error or misinterpretation.\n",
      "  warnings.warn(\n"
     ]
    },
    {
     "data": {
      "image/png": "[encoded data removed]",
      "text/plain": [
       "<Figure size 600x300 with 1 Axes>"
      ]
     },
     "metadata": {},
     "output_type": "display_data"
    }
   ],
   "source": [
    "# 라벨 빈도 분석\n",
    "fig, axe = plt.subplots(ncols=1)\n",
    "fig.set_size_inches(6, 3)\n",
    "sns.countplot(train_data['is_duplicate']);"
   ]
  },
  {
   "cell_type": "code",
   "execution_count": 57,
   "metadata": {},
   "outputs": [
    {
     "name": "stdout",
     "output_type": "stream",
     "text": [
      "중복 데이터 : 149263, 중복 아닌 데이터 : 255027\n"
     ]
    }
   ],
   "source": [
    "print(f\"중복 데이터 : {train_data['is_duplicate'].value_counts()[1]}, 중복 아닌 데이터 : {train_data['is_duplicate'].value_counts()[0]}\")"
   ]
  },
  {
   "attachments": {},
   "cell_type": "markdown",
   "metadata": {},
   "source": [
    "* 라벨의 분포가 한쪽으로 편향되어 있음. 전처리 과정에서 라벨의 분포를 균형있게 맞춰줘야 함."
   ]
  },
  {
   "attachments": {},
   "cell_type": "markdown",
   "metadata": {},
   "source": [
    "## 🤡[EDA] 문자 분석"
   ]
  },
  {
   "cell_type": "code",
   "execution_count": 58,
   "metadata": {},
   "outputs": [],
   "source": [
    "# 텍스트 데이터 길이 분석\n",
    "train_length = train_set.apply(len)"
   ]
  },
  {
   "cell_type": "code",
   "execution_count": 64,
   "metadata": {},
   "outputs": [
    {
     "name": "stdout",
     "output_type": "stream",
     "text": [
      "질문 길이 최대값 : 1169\n",
      "질문 길이 최소값 : 1\n",
      "질문 길이 평균값 : 59.82254817086745\n",
      "질문 길이 표준편차  : 31.963731729209687\n",
      "질문 길이 중간 길이 : 51.0\n",
      "질문 길이 제1사분위 : 39.0\n",
      "질문 길이 제3사분위 : 72.0\n"
     ]
    },
    {
     "data": {
      "text/plain": [
       "Text(0, 0.5, 'Question length')"
      ]
     },
     "execution_count": 64,
     "metadata": {},
     "output_type": "execute_result"
    },
    {
     "data": {
      "image/png": "[encoded data removed]",
      "text/plain": [
       "<Figure size 1500x300 with 3 Axes>"
      ]
     },
     "metadata": {},
     "output_type": "display_data"
    }
   ],
   "source": [
    "# 질문 길이에 대한 통계량\n",
    "print('질문 길이 최대값 : {}'.format(np.max(train_length)))\n",
    "print('질문 길이 최소값 : {}'.format(np.min(train_length)))\n",
    "print('질문 길이 평균값 : {}'.format(np.mean(train_length)))\n",
    "print('질문 길이 표준편차  : {}'.format(np.std(train_length)))\n",
    "print('질문 길이 중간 길이 : {}'.format(np.median(train_length)))\n",
    "print('질문 길이 제1사분위 : {}'.format(np.percentile(train_length, 25)))\n",
    "print('질문 길이 제3사분위 : {}'.format(np.percentile(train_length, 75)))\n",
    "\n",
    "# Histogram & Box plot\n",
    "fig, axes = plt.subplots(nrows=1, ncols=3, figsize=(15, 3))\n",
    "axes[0].hist(train_length, bins=200, range = [0, 200], alpha=0.9, color='r', density=False, label='Train Question Length');\n",
    "axes[0].set_title('Histogram of question length')\n",
    "axes[0].set_xlabel('question length')\n",
    "axes[0].set_ylabel('Count')\n",
    "\n",
    "axes[1].hist(train_length, bins=200, range = [0, 200], alpha=0.5, color='r', density=True, label='Train Question Length');\n",
    "axes[1].set_title('Normalized Histogram of question length')\n",
    "axes[1].set_xlabel('question length')\n",
    "axes[1].set_ylabel('Probability')\n",
    "\n",
    "axes[2].boxplot(train_length, labels=['char counts'], showmeans=True);\n",
    "axes[2].set_title('Boxplot of question length')\n",
    "axes[2].set_ylabel('Question length')"
   ]
  },
  {
   "attachments": {},
   "cell_type": "markdown",
   "metadata": {},
   "source": [
    "## 🤡[EDA] 단어 분석"
   ]
  },
  {
   "cell_type": "code",
   "execution_count": 185,
   "metadata": {},
   "outputs": [],
   "source": [
    "train_word_count = train_set.apply(lambda x : len(x.split(' ')))"
   ]
  },
  {
   "cell_type": "code",
   "execution_count": 188,
   "metadata": {},
   "outputs": [
    {
     "data": {
      "text/plain": [
       "Text(0, 0.5, 'Probability')"
      ]
     },
     "execution_count": 188,
     "metadata": {},
     "output_type": "execute_result"
    },
    {
     "data": {
      "image/png": "[encoded data removed]",
      "text/plain": [
       "<Figure size 800x400 with 1 Axes>"
      ]
     },
     "metadata": {},
     "output_type": "display_data"
    }
   ],
   "source": [
    "plt.figure(figsize=(8, 4))\n",
    "plt.hist(train_word_count, bins=50, range=[0, 50], facecolor='r', density=True, label='Train')\n",
    "plt.title('Normalized histogram of word count in questions', fontsize=15)\n",
    "plt.legend()\n",
    "plt.xlabel('Number of words', fontsize=10)\n",
    "plt.ylabel('Probability', fontsize=10)\n"
   ]
  },
  {
   "cell_type": "code",
   "execution_count": 189,
   "metadata": {},
   "outputs": [
    {
     "name": "stdout",
     "output_type": "stream",
     "text": [
      "단어 길이 최대값 : 237\n",
      "단어 길이 최소값 : 1\n",
      "단어 길이 평균값 : 11.064855672908061\n",
      "단어 길이 표준편차  : 5.889164008512459\n",
      "단어 길이 중간 길이 : 10.0\n",
      "단어 길이 제1사분위 : 7.0\n",
      "단어 길이 제3사분위 : 13.0\n",
      "단어 길이 80% : 14.0\n",
      "단어 길이 90% : 18.0\n",
      "단어 길이 99% : 31.0\n"
     ]
    }
   ],
   "source": [
    "# 질문 길이에 대한 통계량\n",
    "print('단어 길이 최대값 : {}'.format(np.max(train_word_count)))\n",
    "print('단어 길이 최소값 : {}'.format(np.min(train_word_count)))\n",
    "print('단어 길이 평균값 : {}'.format(np.mean(train_word_count)))\n",
    "print('단어 길이 표준편차  : {}'.format(np.std(train_word_count)))\n",
    "print('단어 길이 중간 길이 : {}'.format(np.median(train_word_count)))\n",
    "print('단어 길이 제1사분위 : {}'.format(np.percentile(train_word_count, 25)))\n",
    "print('단어 길이 제3사분위 : {}'.format(np.percentile(train_word_count, 75)))\n",
    "print('단어 길이 80% : {}'.format(np.percentile(train_word_count, 80)))\n",
    "print('단어 길이 90% : {}'.format(np.percentile(train_word_count, 90)))\n",
    "print('단어 길이 99% : {}'.format(np.percentile(train_word_count, 99)))\n"
   ]
  },
  {
   "attachments": {},
   "cell_type": "markdown",
   "metadata": {},
   "source": [
    "### 🤪 **단어 내용 분석**\n",
    "\n",
    "* 💬%,$,₹,€,@ : 특수한 상황에서 사용하는 문자 확인\n",
    "* 💬수학 기호 확인\n",
    "* 💬문자로 치환 가능한 큰 숫자 확인 ex) '1,000,000,000', '1,000,000'\n",
    "* 💬HTML Tag 확인\n",
    "\n",
    "* **Reference : https://www.kaggle.com/code/utkarsh293/tf-idf-weighted-word2vec-model-using-xgboost/notebook**\n",
    "\n",
    "### 💬%,$,₹,€,@ : 특수한 상황에서 사용하는 문자 확인"
   ]
  },
  {
   "cell_type": "code",
   "execution_count": 22,
   "metadata": {},
   "outputs": [],
   "source": [
    "def find_special_str(q) :\n",
    "    for s in q.split() :\n",
    "        if s in ['$', '₹', '€', '@', '#'] :\n",
    "            return True\n",
    "    return False        \n",
    "special_str = train_set.apply(find_special_str)"
   ]
  },
  {
   "cell_type": "code",
   "execution_count": 23,
   "metadata": {},
   "outputs": [
    {
     "data": {
      "text/plain": [
       "161       I got job offer @ Chelmsford-Essex, London wit...\n",
       "385                        What does @ mean as an emoticon?\n",
       "2422      I want a real and effective way to make $ 500 ...\n",
       "8678      A normal distribution with mean 37 and standar...\n",
       "11631                  How do I make an extra $ 500 a week?\n",
       "                                ...                        \n",
       "784804            What are the best laptops under ₹ 60,000?\n",
       "784991    What are the best games that are compatible on...\n",
       "792521    Symbols: What is this @ sign called other than...\n",
       "798709    Why does the RPM indicator blink when I ride t...\n",
       "805669                             What is # in C language?\n",
       "Length: 162, dtype: object"
      ]
     },
     "execution_count": 23,
     "metadata": {},
     "output_type": "execute_result"
    }
   ],
   "source": [
    "train_set[special_str]"
   ]
  },
  {
   "attachments": {},
   "cell_type": "markdown",
   "metadata": {},
   "source": [
    "### 💬수학 기호 확인"
   ]
  },
  {
   "cell_type": "code",
   "execution_count": 32,
   "metadata": {},
   "outputs": [
    {
     "data": {
      "text/plain": [
       "362       How do I find the zeros of the polynomial func...\n",
       "764       What is [math]x[/math] if [math]x+\\left(\\dfrac...\n",
       "1275      How do I integrate [math]v^3(a^2-v^2)^{\\frac{1...\n",
       "1658           What is the formula of [math](a+b)^3[/math]?\n",
       "2712      What is [math]\\sqrt {2+\\sqrt {2+\\sqrt {2+\\sqrt...\n",
       "                                ...                        \n",
       "802690    What is limit of [math]\\dfrac{1^4+2^4+3^4....n...\n",
       "803404       What is the inverse of[math] f(x) =4^x[/math]?\n",
       "805245    What are some good examples of [math]E=mc^2[/m...\n",
       "805529    For any [math]A_{n\\times n}[/math], is it poss...\n",
       "806079    What is the angle of intersection of the curve...\n",
       "Length: 949, dtype: object"
      ]
     },
     "execution_count": 32,
     "metadata": {},
     "output_type": "execute_result"
    }
   ],
   "source": [
    "math_str = train_set.apply(lambda x : '[math]' in x)\n",
    "train_set[math_str]"
   ]
  },
  {
   "attachments": {},
   "cell_type": "markdown",
   "metadata": {},
   "source": [
    "### 💬문자로 치환 가능한 큰 숫자 확인 ex) '1,000,000,000', '1,000,000'"
   ]
  },
  {
   "cell_type": "code",
   "execution_count": 38,
   "metadata": {},
   "outputs": [
    {
     "data": {
      "text/plain": [
       "Series([], dtype: object)"
      ]
     },
     "execution_count": 38,
     "metadata": {},
     "output_type": "execute_result"
    }
   ],
   "source": [
    "def find_bignum_str(q) :\n",
    "    for s in q.split() :\n",
    "        if s in [',000,000,000 ',',000,000 ',',000 ', r'([0-9]+)000000000', r'([0-9]+)000000', r'([0-9]+)000'] :\n",
    "            return True\n",
    "    return False      \n",
    "bignum_str = train_set.apply(find_bignum_str)\n",
    "train_set[bignum_str]"
   ]
  },
  {
   "cell_type": "code",
   "execution_count": null,
   "metadata": {},
   "outputs": [],
   "source": [
    "qmarks = np.mean(train_set.apply(lambda x : '?' in x))                                      # 물음표가 있는지 확인.\n",
    "fullstop = np.mean(train_set.apply(lambda x : '.' in x))                                    # 마침표 확인\n",
    "capital_first = np.mean(train_set.apply(lambda x : x[0].isupper()))                         # 첫 글자 대문자인지 확인\n",
    "capitals = np.mean(train_set.apply(lambda x : max([y.isupper() for y in x])))               # 대문자가 있는지 확인"
   ]
  },
  {
   "cell_type": "code",
   "execution_count": 40,
   "metadata": {},
   "outputs": [
    {
     "name": "stdout",
     "output_type": "stream",
     "text": [
      "?가 있는 질문           : 99.87%\n",
      ".가 있는 질문           : 6.31%\n",
      "$,₹,€,@,#가 있는 질문   : 0.02%\n",
      "수학 기호가 있는 질문    : 0.12%\n",
      "첫 글자 대문자인 질문    : 99.81%\n",
      "대문자가 있는 질문       : 99.95%\n"
     ]
    }
   ],
   "source": [
    "# 질문 단어 구성 대한 통계량\n",
    "print('?가 있는 질문           : {:.2f}%'.format(qmarks*100))\n",
    "print('.가 있는 질문           : {:.2f}%'.format(fullstop*100))\n",
    "print('$,₹,€,@,#가 있는 질문   : {:.2f}%'.format(len(train_set[special_str])/len(train_set)*100))\n",
    "print('수학 기호가 있는 질문    : {:.2f}%'.format(len(train_set[math_str])/len(train_set)*100))\n",
    "print('첫 글자 대문자인 질문    : {:.2f}%'.format(capital_first*100))\n",
    "print('대문자가 있는 질문       : {:.2f}%'.format(capitals*100))"
   ]
  },
  {
   "attachments": {},
   "cell_type": "markdown",
   "metadata": {},
   "source": [
    "----------------------"
   ]
  },
  {
   "attachments": {},
   "cell_type": "markdown",
   "metadata": {},
   "source": [
    "# 👻Preprocessing\n",
    "\n",
    "* 🤡**Null 값 처리**\n",
    "* 🤡**중복 데이터 제거**\n",
    "* 🤡**DownSampling : positive/negative비율 맞춰주기**\n",
    "* 🤡**단어 전처리**\n",
    "    * 💬%,$,₹,€,@,# : 특수한 상황에서 사용하는 문자 변환\n",
    "    * 💬**수학 기호 제거**\n",
    "    * 💬**단어 축소 표현(contradictions) 확장**\n",
    "    * 💬**불용어 처리**\n",
    "    * 💬**HTML Tag 제거**\n",
    "    * 💬**puntuation 기호 제거**\n",
    "    * 💬**double spacebar 제거**\n",
    "    * 💬**양 옆 공백 제거**\n",
    "\n",
    "* 🤡**Word2Vec**\n",
    "* 🤡**TF-IDF**\n",
    "* 🤡**TF-IDF weighted Word2Vec**\n"
   ]
  },
  {
   "cell_type": "code",
   "execution_count": 13,
   "metadata": {},
   "outputs": [],
   "source": [
    "DATA_IN_PATH = os.path.join(os.getcwd(), 'data')\n",
    "train_data = pd.read_csv(os.path.join(DATA_IN_PATH, 'train.csv'))"
   ]
  },
  {
   "cell_type": "code",
   "execution_count": 14,
   "metadata": {},
   "outputs": [],
   "source": [
    "before_len = len(train_data)"
   ]
  },
  {
   "attachments": {},
   "cell_type": "markdown",
   "metadata": {},
   "source": [
    "## 🤡null값 삭제"
   ]
  },
  {
   "cell_type": "code",
   "execution_count": 15,
   "metadata": {},
   "outputs": [],
   "source": [
    "bool_q1 = pd.isnull(train_data['question1'])\n",
    "bool_q2 = pd.isnull(train_data['question2'])\n",
    "null_q1, null_q2 = bool_q1.sum(), bool_q2.sum()"
   ]
  },
  {
   "cell_type": "code",
   "execution_count": 16,
   "metadata": {},
   "outputs": [
    {
     "data": {
      "text/html": [
       "<div>\n",
       "<style scoped>\n",
       "    .dataframe tbody tr th:only-of-type {\n",
       "        vertical-align: middle;\n",
       "    }\n",
       "\n",
       "    .dataframe tbody tr th {\n",
       "        vertical-align: top;\n",
       "    }\n",
       "\n",
       "    .dataframe thead th {\n",
       "        text-align: right;\n",
       "    }\n",
       "</style>\n",
       "<table border=\"1\" class=\"dataframe\">\n",
       "  <thead>\n",
       "    <tr style=\"text-align: right;\">\n",
       "      <th></th>\n",
       "      <th>id</th>\n",
       "      <th>qid1</th>\n",
       "      <th>qid2</th>\n",
       "      <th>question1</th>\n",
       "      <th>question2</th>\n",
       "      <th>is_duplicate</th>\n",
       "    </tr>\n",
       "  </thead>\n",
       "  <tbody>\n",
       "    <tr>\n",
       "      <th>363362</th>\n",
       "      <td>363362</td>\n",
       "      <td>493340</td>\n",
       "      <td>493341</td>\n",
       "      <td>NaN</td>\n",
       "      <td>My Chinese name is Haichao Yu. What English na...</td>\n",
       "      <td>0</td>\n",
       "    </tr>\n",
       "  </tbody>\n",
       "</table>\n",
       "</div>"
      ],
      "text/plain": [
       "            id    qid1    qid2 question1  \\\n",
       "363362  363362  493340  493341       NaN   \n",
       "\n",
       "                                                question2  is_duplicate  \n",
       "363362  My Chinese name is Haichao Yu. What English na...             0  "
      ]
     },
     "metadata": {},
     "output_type": "display_data"
    },
    {
     "data": {
      "text/html": [
       "<div>\n",
       "<style scoped>\n",
       "    .dataframe tbody tr th:only-of-type {\n",
       "        vertical-align: middle;\n",
       "    }\n",
       "\n",
       "    .dataframe tbody tr th {\n",
       "        vertical-align: top;\n",
       "    }\n",
       "\n",
       "    .dataframe thead th {\n",
       "        text-align: right;\n",
       "    }\n",
       "</style>\n",
       "<table border=\"1\" class=\"dataframe\">\n",
       "  <thead>\n",
       "    <tr style=\"text-align: right;\">\n",
       "      <th></th>\n",
       "      <th>id</th>\n",
       "      <th>qid1</th>\n",
       "      <th>qid2</th>\n",
       "      <th>question1</th>\n",
       "      <th>question2</th>\n",
       "      <th>is_duplicate</th>\n",
       "    </tr>\n",
       "  </thead>\n",
       "  <tbody>\n",
       "    <tr>\n",
       "      <th>105780</th>\n",
       "      <td>105780</td>\n",
       "      <td>174363</td>\n",
       "      <td>174364</td>\n",
       "      <td>How can I develop android app?</td>\n",
       "      <td>NaN</td>\n",
       "      <td>0</td>\n",
       "    </tr>\n",
       "    <tr>\n",
       "      <th>201841</th>\n",
       "      <td>201841</td>\n",
       "      <td>303951</td>\n",
       "      <td>174364</td>\n",
       "      <td>How can I create an Android app?</td>\n",
       "      <td>NaN</td>\n",
       "      <td>0</td>\n",
       "    </tr>\n",
       "  </tbody>\n",
       "</table>\n",
       "</div>"
      ],
      "text/plain": [
       "            id    qid1    qid2                         question1 question2  \\\n",
       "105780  105780  174363  174364    How can I develop android app?       NaN   \n",
       "201841  201841  303951  174364  How can I create an Android app?       NaN   \n",
       "\n",
       "        is_duplicate  \n",
       "105780             0  \n",
       "201841             0  "
      ]
     },
     "metadata": {},
     "output_type": "display_data"
    }
   ],
   "source": [
    "display(train_data[bool_q1])\n",
    "display(train_data[bool_q2])"
   ]
  },
  {
   "cell_type": "code",
   "execution_count": 17,
   "metadata": {},
   "outputs": [],
   "source": [
    "train_data.dropna(inplace=True)"
   ]
  },
  {
   "cell_type": "code",
   "execution_count": 18,
   "metadata": {},
   "outputs": [
    {
     "data": {
      "text/html": [
       "<div>\n",
       "<style scoped>\n",
       "    .dataframe tbody tr th:only-of-type {\n",
       "        vertical-align: middle;\n",
       "    }\n",
       "\n",
       "    .dataframe tbody tr th {\n",
       "        vertical-align: top;\n",
       "    }\n",
       "\n",
       "    .dataframe thead th {\n",
       "        text-align: right;\n",
       "    }\n",
       "</style>\n",
       "<table border=\"1\" class=\"dataframe\">\n",
       "  <thead>\n",
       "    <tr style=\"text-align: right;\">\n",
       "      <th></th>\n",
       "      <th>id</th>\n",
       "      <th>qid1</th>\n",
       "      <th>qid2</th>\n",
       "      <th>question1</th>\n",
       "      <th>question2</th>\n",
       "      <th>is_duplicate</th>\n",
       "    </tr>\n",
       "  </thead>\n",
       "  <tbody>\n",
       "  </tbody>\n",
       "</table>\n",
       "</div>"
      ],
      "text/plain": [
       "Empty DataFrame\n",
       "Columns: [id, qid1, qid2, question1, question2, is_duplicate]\n",
       "Index: []"
      ]
     },
     "metadata": {},
     "output_type": "display_data"
    },
    {
     "data": {
      "text/html": [
       "<div>\n",
       "<style scoped>\n",
       "    .dataframe tbody tr th:only-of-type {\n",
       "        vertical-align: middle;\n",
       "    }\n",
       "\n",
       "    .dataframe tbody tr th {\n",
       "        vertical-align: top;\n",
       "    }\n",
       "\n",
       "    .dataframe thead th {\n",
       "        text-align: right;\n",
       "    }\n",
       "</style>\n",
       "<table border=\"1\" class=\"dataframe\">\n",
       "  <thead>\n",
       "    <tr style=\"text-align: right;\">\n",
       "      <th></th>\n",
       "      <th>id</th>\n",
       "      <th>qid1</th>\n",
       "      <th>qid2</th>\n",
       "      <th>question1</th>\n",
       "      <th>question2</th>\n",
       "      <th>is_duplicate</th>\n",
       "    </tr>\n",
       "  </thead>\n",
       "  <tbody>\n",
       "  </tbody>\n",
       "</table>\n",
       "</div>"
      ],
      "text/plain": [
       "Empty DataFrame\n",
       "Columns: [id, qid1, qid2, question1, question2, is_duplicate]\n",
       "Index: []"
      ]
     },
     "metadata": {},
     "output_type": "display_data"
    }
   ],
   "source": [
    "bool_q1 = pd.isnull(train_data['question1'])\n",
    "bool_q2 = pd.isnull(train_data['question2'])\n",
    "display(train_data[bool_q1])\n",
    "display(train_data[bool_q2])"
   ]
  },
  {
   "cell_type": "code",
   "execution_count": 19,
   "metadata": {},
   "outputs": [
    {
     "name": "stdout",
     "output_type": "stream",
     "text": [
      "Null값 제거 전 : 404290, question1 Null 개수 : 1 question2 Null 개수 : 2, Null값 제거 후 : 404287\n"
     ]
    }
   ],
   "source": [
    "print(f'Null값 제거 전 : {before_len}, question1 Null 개수 : {null_q1} question2 Null 개수 : {null_q2}, Null값 제거 후 : {len(train_data)}')"
   ]
  },
  {
   "cell_type": "code",
   "execution_count": 20,
   "metadata": {},
   "outputs": [
    {
     "data": {
      "text/plain": [
       "id               int64\n",
       "qid1             int64\n",
       "qid2             int64\n",
       "question1       object\n",
       "question2       object\n",
       "is_duplicate     int64\n",
       "dtype: object"
      ]
     },
     "execution_count": 20,
     "metadata": {},
     "output_type": "execute_result"
    }
   ],
   "source": [
    "train_data.dtypes"
   ]
  },
  {
   "attachments": {},
   "cell_type": "markdown",
   "metadata": {},
   "source": [
    "## 🤡중복 데이터 제거"
   ]
  },
  {
   "cell_type": "code",
   "execution_count": 21,
   "metadata": {},
   "outputs": [
    {
     "name": "stdout",
     "output_type": "stream",
     "text": [
      "중복 제거 전 개수 : 404287\n",
      "중복 제거 전 후 : 404287\n"
     ]
    }
   ],
   "source": [
    "print(f\"중복 제거 전 개수 : {len(train_data)}\")\n",
    "train_data = train_data.drop_duplicates()\n",
    "print(f\"중복 제거 전 후 : {len(train_data)}\")"
   ]
  },
  {
   "attachments": {},
   "cell_type": "markdown",
   "metadata": {},
   "source": [
    "## 🤡DownSampling : positive/negative비율 맞춰주기"
   ]
  },
  {
   "cell_type": "code",
   "execution_count": 22,
   "metadata": {},
   "outputs": [
    {
     "name": "stdout",
     "output_type": "stream",
     "text": [
      "긍정 질문 개수 : 149263\n",
      "부정 질문 개수 : 149263\n"
     ]
    }
   ],
   "source": [
    "train_pos_data = train_data.loc[train_data['is_duplicate'] == 1]\n",
    "train_neg_data = train_data.loc[train_data['is_duplicate'] == 0]\n",
    "\n",
    "class_difference = len(train_neg_data)- len(train_pos_data)\n",
    "sample_frac = 1 - (class_difference/len(train_neg_data))\n",
    "\n",
    "# down sampling\n",
    "train_neg_data = train_neg_data.sample(frac=sample_frac)\n",
    "\n",
    "print(\"긍정 질문 개수 : {}\".format(len(train_pos_data)))\n",
    "print(\"부정 질문 개수 : {}\".format(len(train_neg_data)))"
   ]
  },
  {
   "cell_type": "code",
   "execution_count": 23,
   "metadata": {},
   "outputs": [],
   "source": [
    "train_data = pd.concat([train_neg_data, train_pos_data])"
   ]
  },
  {
   "attachments": {},
   "cell_type": "markdown",
   "metadata": {},
   "source": [
    "## 🤡**단어 전처리**\n",
    "\n",
    "* 💬**대문자 소문자로 변환**\n",
    "\n",
    "* 💬**\\%,\\$,₹,€,\\@,# : 특수한 상황에서 사용하는 문자 변환**\n",
    "\n",
    "* 💬**수학 기호 제거**\n",
    "\n",
    "* 💬**단어 축소 표현(contradictions) 확장**\n",
    "\n",
    "* 💬**불용어(stop words) 처리**\n",
    "\n",
    "* 💬**HTML Tag 제거**\n",
    "\n",
    "* 💬**puntuation 기호 제거**\n",
    "\n",
    "* 💬**double spacebar 제거**\n",
    "\n",
    "* 💬**양 옆 공백 제거(strip)**"
   ]
  },
  {
   "cell_type": "code",
   "execution_count": 24,
   "metadata": {},
   "outputs": [],
   "source": [
    "from nltk.corpus import stopwords\n",
    "'''[Reference]\n",
    "1. preprocessing process : https://www.kaggle.com/code/utkarsh293/tf-idf-weighted-word2vec-model-using-xgboost/notebook\n",
    "2. contractions : https://en.wikipedia.org/wiki/Wikipedia%3aList_of_English_contractions\n",
    "\n",
    "'''\n",
    "STOP_WORDS = stopwords.words(\"english\")\n",
    "PUNTUATION_FILTERS = '[^a-z0-9A-Z_]'\n",
    "DOUBLE_FILTERS = '\\s+'\n",
    "change_filter = re.compile(PUNTUATION_FILTERS)\n",
    "double_filter = re.compile(DOUBLE_FILTERS)\n",
    "\n",
    "def preprocess(q):\n",
    "    # 대문자 소문자로 변환, 양옆 공백 제거\n",
    "    q = str(q).lower().strip()\n",
    "    \n",
    "    # 특수한 상황에 쓰이는 문자열 변환\n",
    "    q = q.replace('%', ' percent')\n",
    "    q = q.replace('$', ' dollar ')\n",
    "    q = q.replace('₹', ' rupee ')\n",
    "    q = q.replace('€', ' euro ')\n",
    "    q = q.replace('@', ' at ')\n",
    "    \n",
    "    # 수학 기호 제거 \n",
    "    q = q.replace('[math]', '')\n",
    "    \n",
    "    # Decontracting words\n",
    "    contractions = { \n",
    "    \"ain't\": \"am not\",\n",
    "    \"aren't\": \"are not\",\n",
    "    \"can't\": \"can not\",\n",
    "    \"can't've\": \"can not have\",\n",
    "    \"'cause\": \"because\",\n",
    "    \"could've\": \"could have\",\n",
    "    \"couldn't\": \"could not\",\n",
    "    \"couldn't've\": \"could not have\",\n",
    "    \"didn't\": \"did not\",\n",
    "    \"doesn't\": \"does not\",\n",
    "    \"don't\": \"do not\",\n",
    "    \"hadn't\": \"had not\",\n",
    "    \"hadn't've\": \"had not have\",\n",
    "    \"hasn't\": \"has not\",\n",
    "    \"haven't\": \"have not\",\n",
    "    \"he'd\": \"he would\",\n",
    "    \"he'd've\": \"he would have\",\n",
    "    \"he'll\": \"he will\",\n",
    "    \"he'll've\": \"he will have\",\n",
    "    \"he's\": \"he is\",\n",
    "    \"how'd\": \"how did\",\n",
    "    \"how'd'y\": \"how do you\",\n",
    "    \"how'll\": \"how will\",\n",
    "    \"how's\": \"how is\",\n",
    "    \"i'd\": \"i would\",\n",
    "    \"i'd've\": \"i would have\",\n",
    "    \"i'll\": \"i will\",\n",
    "    \"i'll've\": \"i will have\",\n",
    "    \"i'm\": \"i am\",\n",
    "    \"i've\": \"i have\",\n",
    "    \"isn't\": \"is not\",\n",
    "    \"it'd\": \"it would\",\n",
    "    \"it'd've\": \"it would have\",\n",
    "    \"it'll\": \"it will\",\n",
    "    \"it'll've\": \"it will have\",\n",
    "    \"it's\": \"it is\",\n",
    "    \"let's\": \"let us\",\n",
    "    \"ma'am\": \"madam\",\n",
    "    \"mayn't\": \"may not\",\n",
    "    \"might've\": \"might have\",\n",
    "    \"mightn't\": \"might not\",\n",
    "    \"mightn't've\": \"might not have\",\n",
    "    \"must've\": \"must have\",\n",
    "    \"mustn't\": \"must not\",\n",
    "    \"mustn't've\": \"must not have\",\n",
    "    \"needn't\": \"need not\",\n",
    "    \"needn't've\": \"need not have\",\n",
    "    \"o'clock\": \"of the clock\",\n",
    "    \"oughtn't\": \"ought not\",\n",
    "    \"oughtn't've\": \"ought not have\",\n",
    "    \"shan't\": \"shall not\",\n",
    "    \"sha'n't\": \"shall not\",\n",
    "    \"shan't've\": \"shall not have\",\n",
    "    \"she'd\": \"she would\",\n",
    "    \"she'd've\": \"she would have\",\n",
    "    \"she'll\": \"she will\",\n",
    "    \"she'll've\": \"she will have\",\n",
    "    \"she's\": \"she is\",\n",
    "    \"should've\": \"should have\",\n",
    "    \"shouldn't\": \"should not\",\n",
    "    \"shouldn't've\": \"should not have\",\n",
    "    \"so've\": \"so have\",\n",
    "    \"so's\": \"so as\",\n",
    "    \"that'd\": \"that would\",\n",
    "    \"that'd've\": \"that would have\",\n",
    "    \"that's\": \"that is\",\n",
    "    \"there'd\": \"there would\",\n",
    "    \"there'd've\": \"there would have\",\n",
    "    \"there's\": \"there is\",\n",
    "    \"they'd\": \"they would\",\n",
    "    \"they'd've\": \"they would have\",\n",
    "    \"they'll\": \"they will\",\n",
    "    \"they'll've\": \"they will have\",\n",
    "    \"they're\": \"they are\",\n",
    "    \"they've\": \"they have\",\n",
    "    \"to've\": \"to have\",\n",
    "    \"wasn't\": \"was not\",\n",
    "    \"we'd\": \"we would\",\n",
    "    \"we'd've\": \"we would have\",\n",
    "    \"we'll\": \"we will\",\n",
    "    \"we'll've\": \"we will have\",\n",
    "    \"we're\": \"we are\",\n",
    "    \"we've\": \"we have\",\n",
    "    \"weren't\": \"were not\",\n",
    "    \"what'll\": \"what will\",\n",
    "    \"what'll've\": \"what will have\",\n",
    "    \"what're\": \"what are\",\n",
    "    \"what's\": \"what is\",\n",
    "    \"what've\": \"what have\",\n",
    "    \"when's\": \"when is\",\n",
    "    \"when've\": \"when have\",\n",
    "    \"where'd\": \"where did\",\n",
    "    \"where's\": \"where is\",\n",
    "    \"where've\": \"where have\",\n",
    "    \"who'll\": \"who will\",\n",
    "    \"who'll've\": \"who will have\",\n",
    "    \"who's\": \"who is\",\n",
    "    \"who've\": \"who have\",\n",
    "    \"why's\": \"why is\",\n",
    "    \"why've\": \"why have\",\n",
    "    \"will've\": \"will have\",\n",
    "    \"won't\": \"will not\",\n",
    "    \"won't've\": \"will not have\",\n",
    "    \"would've\": \"would have\",\n",
    "    \"wouldn't\": \"would not\",\n",
    "    \"wouldn't've\": \"would not have\",\n",
    "    \"y'all\": \"you all\",\n",
    "    \"y'all'd\": \"you all would\",\n",
    "    \"y'all'd've\": \"you all would have\",\n",
    "    \"y'all're\": \"you all are\",\n",
    "    \"y'all've\": \"you all have\",\n",
    "    \"you'd\": \"you would\",\n",
    "    \"you'd've\": \"you would have\",\n",
    "    \"you'll\": \"you will\",\n",
    "    \"you'll've\": \"you will have\",\n",
    "    \"you're\": \"you are\",\n",
    "    \"you've\": \"you have\"\n",
    "    }\n",
    "\n",
    "    # 압축 표현 확장\n",
    "    q_decontracted = []\n",
    "    for word in q.split():\n",
    "        if word in contractions:\n",
    "            word = contractions[word]\n",
    "        # 불용어 처리\n",
    "        if word not in STOP_WORDS : \n",
    "            q_decontracted.append(word)\n",
    "\n",
    "    q = ' '.join(q_decontracted)\n",
    "    q = q.replace(\"'ve\", \" have\")\n",
    "    q = q.replace(\"n't\", \" not\")\n",
    "    q = q.replace(\"'re\", \" are\")\n",
    "    q = q.replace(\"'ll\", \" will\")\n",
    "    \n",
    "    # HTML tags 제거\n",
    "    q = BeautifulSoup(q)\n",
    "    q = q.get_text()\n",
    "    \n",
    "    # puntuation 기호 제거\n",
    "    q = re.sub(change_filter, \" \", q)\n",
    "    # 이중 띄어쓰기 띄어쓰기 하나로 변경\n",
    "    q = re.sub(double_filter, \" \", q)\n",
    "    # 마지막으로 양 옆 공백 제거 후 반환 \n",
    "    return q.strip()"
   ]
  },
  {
   "cell_type": "code",
   "execution_count": 25,
   "metadata": {},
   "outputs": [],
   "source": [
    "q1_lst = [s for s in train_data['question1']]\n",
    "q2_lst = [s for s in train_data['question2']]\n",
    "\n",
    "filtered_q1, filtered_q2 = list(), list()\n",
    "\n",
    "for q in q1_lst :\n",
    "    filtered_q1.append(preprocess(q))\n",
    "for q in q2_lst :\n",
    "    filtered_q2.append(preprocess(q))"
   ]
  },
  {
   "attachments": {},
   "cell_type": "markdown",
   "metadata": {},
   "source": [
    "## 🤡Word2Vec"
   ]
  },
  {
   "cell_type": "code",
   "execution_count": 26,
   "metadata": {},
   "outputs": [],
   "source": [
    "import gensim\n",
    "\n",
    "questions = filtered_q1 + filtered_q2\n",
    "\n",
    "ques_sent = []\n",
    "for sentence in questions:\n",
    "    ques_sent.append(gensim.utils.simple_preprocess(sentence))\n",
    "\n",
    "model  = gensim.models.Word2Vec(window=2,min_count=3,sg=1,vector_size=128)\n",
    "model.build_vocab(ques_sent)\n",
    "model.train(corpus_iterable=ques_sent,total_examples= model.corpus_count, epochs=model.epochs)\n",
    "w2v = dict(zip(model.wv.index_to_key, (model.wv.vectors.round(6))))\n"
   ]
  },
  {
   "attachments": {},
   "cell_type": "markdown",
   "metadata": {},
   "source": [
    "## 🤡TF-IDF "
   ]
  },
  {
   "cell_type": "code",
   "execution_count": 28,
   "metadata": {},
   "outputs": [],
   "source": [
    "from sklearn.feature_extraction.text import TfidfVectorizer"
   ]
  },
  {
   "cell_type": "code",
   "execution_count": 29,
   "metadata": {},
   "outputs": [
    {
     "data": {
      "text/plain": [
       "<597052x69371 sparse matrix of type '<class 'numpy.float64'>'\n",
       "\twith 3249452 stored elements in Compressed Sparse Row format>"
      ]
     },
     "execution_count": 29,
     "metadata": {},
     "output_type": "execute_result"
    }
   ],
   "source": [
    "tfidf1 = TfidfVectorizer()\n",
    "tfidf1.fit_transform(questions)"
   ]
  },
  {
   "attachments": {},
   "cell_type": "markdown",
   "metadata": {},
   "source": [
    "## 🤡TF-IDF weighted Word2Vec "
   ]
  },
  {
   "cell_type": "code",
   "execution_count": null,
   "metadata": {},
   "outputs": [],
   "source": [
    "word2weight = [(w, round(tfidf1.idf_[i])) for w, i in tfidf1.vocabulary_.items()]\n",
    "word2weight = dict(word2weight)"
   ]
  },
  {
   "cell_type": "code",
   "execution_count": 73,
   "metadata": {},
   "outputs": [
    {
     "data": {
      "text/plain": [
       "[('donald', 0.8374648094177246),\n",
       " ('trumps', 0.705585777759552),\n",
       " ('sanders', 0.6899927258491516),\n",
       " ('democrats', 0.6791077852249146),\n",
       " ('mike', 0.6653683185577393),\n",
       " ('cruz', 0.6641175746917725),\n",
       " ('putin', 0.6502425074577332),\n",
       " ('giuliani', 0.6495426893234253),\n",
       " ('promises', 0.6490954756736755),\n",
       " ('bernie', 0.6471933722496033),\n",
       " ('pence', 0.6466492414474487),\n",
       " ('concede', 0.6445223093032837),\n",
       " ('begging', 0.6436761617660522),\n",
       " ('reagan', 0.6434751749038696),\n",
       " ('endorsed', 0.642966628074646)]"
      ]
     },
     "execution_count": 73,
     "metadata": {},
     "output_type": "execute_result"
    }
   ],
   "source": [
    "model.wv.similar_by_word('trump',topn=15)"
   ]
  },
  {
   "cell_type": "code",
   "execution_count": 51,
   "metadata": {},
   "outputs": [],
   "source": [
    "def document_vector(doc):\n",
    "    if len(doc.split()) < 2:\n",
    "        return np.zeros(shape=(128))\n",
    "    else:\n",
    "        doc_vec = []\n",
    "        tfidf_weight_sum = 0\n",
    "        for word in doc.split():\n",
    "            if word in w2v.keys() and word in word2weight.keys():\n",
    "                split = doc.split()\n",
    "                tfidf_weight = word2weight[word]*(split.count(word)/len(split))\n",
    "                product = (w2v[word]*tfidf_weight)\n",
    "                doc_vec.append(product)\n",
    "                tfidf_weight_sum += tfidf_weight\n",
    "        if len(doc_vec) == 0:\n",
    "            return np.zeros(shape=(128))\n",
    "        else:\n",
    "            return np.round(np.sum(doc_vec,axis=0)/tfidf_weight_sum,6)"
   ]
  },
  {
   "cell_type": "code",
   "execution_count": 52,
   "metadata": {},
   "outputs": [
    {
     "name": "stderr",
     "output_type": "stream",
     "text": [
      "100%|██████████| 298526/298526 [00:10<00:00, 27611.25it/s]\n",
      "100%|██████████| 298526/298526 [00:10<00:00, 28543.54it/s]\n"
     ]
    }
   ],
   "source": [
    "from tqdm import tqdm\n",
    "\n",
    "q1_train, q2_train = [], []\n",
    "\n",
    "for doc in tqdm(filtered_q1) :\n",
    "    q1_train.append(document_vector(doc))\n",
    "\n",
    "for doc in tqdm(filtered_q2) :\n",
    "    q2_train.append(document_vector(doc))"
   ]
  },
  {
   "cell_type": "code",
   "execution_count": 57,
   "metadata": {},
   "outputs": [],
   "source": [
    "q1_train = np.array(q1_train)\n",
    "q2_train = np.array(q2_train)"
   ]
  },
  {
   "cell_type": "code",
   "execution_count": 82,
   "metadata": {},
   "outputs": [],
   "source": [
    "labels = np.array(train_data['is_duplicate'], dtype=int)"
   ]
  },
  {
   "attachments": {},
   "cell_type": "markdown",
   "metadata": {},
   "source": [
    "🥳**전처리 데이터 크기 확인**"
   ]
  },
  {
   "cell_type": "code",
   "execution_count": 84,
   "metadata": {},
   "outputs": [
    {
     "name": "stdout",
     "output_type": "stream",
     "text": [
      "Shape of question1 data          : (298526, 128)\n",
      "Shape of question2 data          : (298526, 128)\n",
      "Shape of label data              : (298526,)\n",
      "MIN/Max value of question1 data  : -2.362/1.901\n",
      "MIN/Max value of question2 data  : -2.362/1.901\n"
     ]
    }
   ],
   "source": [
    "print('Shape of question1 data          : {}'.format(q1_train.shape))\n",
    "print('Shape of question2 data          : {}'.format(q2_train.shape))\n",
    "print('Shape of label data              : {}'.format(labels.shape))\n",
    "print('MIN/Max value of question1 data  : {:.3f}/{:.3f}'.format(q1_train.min(),q1_train.max()))\n",
    "print('MIN/Max value of question2 data  : {:.3f}/{:.3f}'.format(q2_train.min(),q2_train.max()))\n"
   ]
  },
  {
   "attachments": {},
   "cell_type": "markdown",
   "metadata": {},
   "source": [
    "🥳**전처리 데이터 저장**"
   ]
  },
  {
   "cell_type": "code",
   "execution_count": 63,
   "metadata": {},
   "outputs": [
    {
     "name": "stdout",
     "output_type": "stream",
     "text": [
      "[Already Exist] : c:\\Users\\user\\Desktop\\github\\Kaggle\\Quora Quetions Pairs\\preprocessed\n"
     ]
    }
   ],
   "source": [
    "PREPROCESSED_PATH = os.path.join(os.getcwd(), 'preprocessed')\n",
    "if os.path.exists(PREPROCESSED_PATH) :\n",
    "    print(f'[Already Exist] : {PREPROCESSED_PATH}')\n",
    "else :\n",
    "    os.makedirs(PREPROCESSED_PATH)\n",
    "    print(f'[Make Folder] : {PREPROCESSED_PATH}')"
   ]
  },
  {
   "cell_type": "code",
   "execution_count": 64,
   "metadata": {},
   "outputs": [],
   "source": [
    "PREPROCESSED_PATH = os.path.join(os.getcwd(), 'preprocessed')\n",
    "\n",
    "TRAIN_Q1_DATA = 'q1_train_1d.npy'\n",
    "TRAIN_Q2_DATA = 'q1_train_1d.npy'\n",
    "TRAIN_LABEL = 'label_train.npy'\n",
    "\n",
    "np.save(open(os.path.join(PREPROCESSED_PATH, TRAIN_Q1_DATA), 'wb'), q1_train)\n",
    "np.save(open(os.path.join(PREPROCESSED_PATH, TRAIN_Q2_DATA), 'wb'), q2_train)\n",
    "np.save(open(os.path.join(PREPROCESSED_PATH, TRAIN_LABEL), 'wb'), labels)\n"
   ]
  },
  {
   "attachments": {},
   "cell_type": "markdown",
   "metadata": {},
   "source": [
    "## 🤡평가 데이터 전처리\n",
    "\n",
    "* 🌈**Valid id 추출, 중복 데이터 제거**\n",
    "* 🌈**단어 전처리**\n",
    "* 🌈**TF-IDF weighted Word2Vec**"
   ]
  },
  {
   "cell_type": "code",
   "execution_count": 322,
   "metadata": {},
   "outputs": [
    {
     "data": {
      "text/html": [
       "<div>\n",
       "<style scoped>\n",
       "    .dataframe tbody tr th:only-of-type {\n",
       "        vertical-align: middle;\n",
       "    }\n",
       "\n",
       "    .dataframe tbody tr th {\n",
       "        vertical-align: top;\n",
       "    }\n",
       "\n",
       "    .dataframe thead th {\n",
       "        text-align: right;\n",
       "    }\n",
       "</style>\n",
       "<table border=\"1\" class=\"dataframe\">\n",
       "  <thead>\n",
       "    <tr style=\"text-align: right;\">\n",
       "      <th></th>\n",
       "      <th>test_id</th>\n",
       "      <th>question1</th>\n",
       "      <th>question2</th>\n",
       "    </tr>\n",
       "  </thead>\n",
       "  <tbody>\n",
       "    <tr>\n",
       "      <th>0</th>\n",
       "      <td>0</td>\n",
       "      <td>How does the Surface Pro himself 4 compare wit...</td>\n",
       "      <td>Why did Microsoft choose core m3 and not core ...</td>\n",
       "    </tr>\n",
       "    <tr>\n",
       "      <th>1</th>\n",
       "      <td>1</td>\n",
       "      <td>Should I have a hair transplant at age 24? How...</td>\n",
       "      <td>How much cost does hair transplant require?</td>\n",
       "    </tr>\n",
       "    <tr>\n",
       "      <th>2</th>\n",
       "      <td>2</td>\n",
       "      <td>What but is the best way to send money from Ch...</td>\n",
       "      <td>What you send money to China?</td>\n",
       "    </tr>\n",
       "    <tr>\n",
       "      <th>3</th>\n",
       "      <td>3</td>\n",
       "      <td>Which food not emulsifiers?</td>\n",
       "      <td>What foods fibre?</td>\n",
       "    </tr>\n",
       "    <tr>\n",
       "      <th>4</th>\n",
       "      <td>4</td>\n",
       "      <td>How \"aberystwyth\" start reading?</td>\n",
       "      <td>How their can I start reading?</td>\n",
       "    </tr>\n",
       "    <tr>\n",
       "      <th>...</th>\n",
       "      <td>...</td>\n",
       "      <td>...</td>\n",
       "      <td>...</td>\n",
       "    </tr>\n",
       "    <tr>\n",
       "      <th>3563470</th>\n",
       "      <td>2345791</td>\n",
       "      <td>How do Peaks (TV series): Why did Leland kill ...</td>\n",
       "      <td>What is the most study scene in twin peaks?</td>\n",
       "    </tr>\n",
       "    <tr>\n",
       "      <th>3563471</th>\n",
       "      <td>2345792</td>\n",
       "      <td>What does be \"in transit\" mean on FedEx tracking?</td>\n",
       "      <td>How question FedEx packages delivered?</td>\n",
       "    </tr>\n",
       "    <tr>\n",
       "      <th>3563472</th>\n",
       "      <td>2345793</td>\n",
       "      <td>What are some famous Romanian drinks (alcoholi...</td>\n",
       "      <td>Can a non-alcoholic restaurant be a huge success?</td>\n",
       "    </tr>\n",
       "    <tr>\n",
       "      <th>3563473</th>\n",
       "      <td>2345794</td>\n",
       "      <td>What were the best and worst things about publ...</td>\n",
       "      <td>What are the best and worst things examination...</td>\n",
       "    </tr>\n",
       "    <tr>\n",
       "      <th>3563474</th>\n",
       "      <td>2345795</td>\n",
       "      <td>What is the best medication equation erectile ...</td>\n",
       "      <td>How do I out get rid of Erectile Dysfunction?</td>\n",
       "    </tr>\n",
       "  </tbody>\n",
       "</table>\n",
       "<p>3563475 rows × 3 columns</p>\n",
       "</div>"
      ],
      "text/plain": [
       "         test_id                                          question1  \\\n",
       "0              0  How does the Surface Pro himself 4 compare wit...   \n",
       "1              1  Should I have a hair transplant at age 24? How...   \n",
       "2              2  What but is the best way to send money from Ch...   \n",
       "3              3                        Which food not emulsifiers?   \n",
       "4              4                   How \"aberystwyth\" start reading?   \n",
       "...          ...                                                ...   \n",
       "3563470  2345791  How do Peaks (TV series): Why did Leland kill ...   \n",
       "3563471  2345792  What does be \"in transit\" mean on FedEx tracking?   \n",
       "3563472  2345793  What are some famous Romanian drinks (alcoholi...   \n",
       "3563473  2345794  What were the best and worst things about publ...   \n",
       "3563474  2345795  What is the best medication equation erectile ...   \n",
       "\n",
       "                                                 question2  \n",
       "0        Why did Microsoft choose core m3 and not core ...  \n",
       "1              How much cost does hair transplant require?  \n",
       "2                            What you send money to China?  \n",
       "3                                        What foods fibre?  \n",
       "4                           How their can I start reading?  \n",
       "...                                                    ...  \n",
       "3563470        What is the most study scene in twin peaks?  \n",
       "3563471             How question FedEx packages delivered?  \n",
       "3563472  Can a non-alcoholic restaurant be a huge success?  \n",
       "3563473  What are the best and worst things examination...  \n",
       "3563474      How do I out get rid of Erectile Dysfunction?  \n",
       "\n",
       "[3563475 rows x 3 columns]"
      ]
     },
     "execution_count": 322,
     "metadata": {},
     "output_type": "execute_result"
    }
   ],
   "source": [
    "test_data = pd.read_csv(os.path.join(DATA_IN_PATH, 'test.csv'), encoding='utf-8')\n",
    "test_data"
   ]
  },
  {
   "attachments": {},
   "cell_type": "markdown",
   "metadata": {},
   "source": [
    "🌈**Valid id 추출, 중복 데이터 제거**"
   ]
  },
  {
   "cell_type": "code",
   "execution_count": 323,
   "metadata": {},
   "outputs": [],
   "source": [
    "valid_ids = [type(x) == int for x in test_data.test_id]\n",
    "test_data = test_data[valid_ids].drop_duplicates()"
   ]
  },
  {
   "attachments": {},
   "cell_type": "markdown",
   "metadata": {},
   "source": [
    "**🌈단어 전처리**"
   ]
  },
  {
   "cell_type": "code",
   "execution_count": 327,
   "metadata": {},
   "outputs": [
    {
     "name": "stderr",
     "output_type": "stream",
     "text": [
      "100%|██████████| 2345796/2345796 [01:05<00:00, 35595.96it/s]\n",
      "100%|██████████| 2345796/2345796 [07:00<00:00, 5582.85it/s]\n",
      "100%|██████████| 2345796/2345796 [06:37<00:00, 5898.62it/s]\n"
     ]
    }
   ],
   "source": [
    "from tqdm import tqdm\n",
    "\n",
    "test_q1, test_q2, test_id = [], [], []\n",
    "for i in tqdm(test_data.index) :\n",
    "    test_q1.append(test_data.loc[i, 'question1'])\n",
    "    test_q2.append(test_data.loc[i, 'question2'])\n",
    "    test_id.append(test_data.loc[i, 'test_id'])\n",
    "\n",
    "test_filtered_q1 = list()\n",
    "test_filtered_q2 = list()\n",
    "\n",
    "# TEST Data 문자 전처리\n",
    "for question in tqdm(test_q1) :\n",
    "    test_filtered_q1.append(preprocess(question))\n",
    "\n",
    "for question in tqdm(test_q2) :\n",
    "    test_filtered_q2.append(preprocess(question))"
   ]
  },
  {
   "attachments": {},
   "cell_type": "markdown",
   "metadata": {},
   "source": [
    "**🌈TF-IDF weighted Word2Vec**"
   ]
  },
  {
   "cell_type": "code",
   "execution_count": 328,
   "metadata": {},
   "outputs": [
    {
     "name": "stderr",
     "output_type": "stream",
     "text": [
      "100%|██████████| 2345796/2345796 [01:25<00:00, 27543.55it/s]\n",
      "100%|██████████| 2345796/2345796 [01:25<00:00, 27510.46it/s]\n"
     ]
    }
   ],
   "source": [
    "from tqdm import tqdm\n",
    "\n",
    "q1_test, q2_test = [], []\n",
    "\n",
    "for doc in tqdm(test_filtered_q1) :\n",
    "    q1_test.append(document_vector(doc))\n",
    "\n",
    "for doc in tqdm(test_filtered_q2) :\n",
    "    q2_test.append(document_vector(doc))"
   ]
  },
  {
   "cell_type": "code",
   "execution_count": 329,
   "metadata": {},
   "outputs": [],
   "source": [
    "q1_test = np.array(q1_test)\n",
    "q2_test = np.array(q2_test)\n",
    "test_id = np.array(test_id)"
   ]
  },
  {
   "attachments": {},
   "cell_type": "markdown",
   "metadata": {},
   "source": [
    "**확인 및 저장**"
   ]
  },
  {
   "cell_type": "code",
   "execution_count": 330,
   "metadata": {},
   "outputs": [
    {
     "name": "stdout",
     "output_type": "stream",
     "text": [
      "Shape of question1 data          : (2345796, 128)\n",
      "Shape of question2 data          : (2345796, 128)\n",
      "MIN/Max value of question1 data  : -2.362/1.919\n",
      "MIN/Max value of question2 data  : -2.362/1.919\n"
     ]
    }
   ],
   "source": [
    "print('Shape of question1 data          : {}'.format(q1_test.shape))\n",
    "print('Shape of question2 data          : {}'.format(q2_test.shape))\n",
    "print('MIN/Max value of question1 data  : {:.3f}/{:.3f}'.format(q1_test.min(),q1_test.max()))\n",
    "print('MIN/Max value of question2 data  : {:.3f}/{:.3f}'.format(q2_test.min(),q2_test.max()))"
   ]
  },
  {
   "cell_type": "code",
   "execution_count": 331,
   "metadata": {},
   "outputs": [],
   "source": [
    "PREPROCESSED_PATH = os.path.join(os.getcwd(), 'preprocessed')\n",
    "\n",
    "TEST_IDX = 'test_id_1d.npy'\n",
    "TEST_Q1_DATA = 'q1_test_1d.npy'\n",
    "TEST_Q2_DATA = 'q1_test_1d.npy'\n",
    "\n",
    "np.save(open(os.path.join(PREPROCESSED_PATH, TEST_IDX), 'wb'), test_id)\n",
    "np.save(open(os.path.join(PREPROCESSED_PATH, TEST_Q1_DATA), 'wb'), q1_test)\n",
    "np.save(open(os.path.join(PREPROCESSED_PATH, TEST_Q2_DATA), 'wb'), q2_test)"
   ]
  },
  {
   "cell_type": "code",
   "execution_count": 332,
   "metadata": {},
   "outputs": [
    {
     "name": "stdout",
     "output_type": "stream",
     "text": [
      "파일 크기 : \n",
      "q1_test_1d.npy                2.4GB\n",
      "test_id_1d.npy                0.01GB\n",
      "test_index_1d.npy             0.01GB\n",
      "test_null_index_1d.npy        0.0GB\n"
     ]
    }
   ],
   "source": [
    "print('파일 크기 : ')\n",
    "for file in os.listdir(PREPROCESSED_PATH) :\n",
    "    if 'test' in file :\n",
    "        print(file.ljust(30) + str(round(os.path.getsize(os.path.join(PREPROCESSED_PATH, file))/1000000000, 2)) + 'GB')"
   ]
  },
  {
   "attachments": {},
   "cell_type": "markdown",
   "metadata": {},
   "source": [
    "# 👻Model Train\n",
    "\n",
    "1. 🤡**Model 1 : Random Forest**\n",
    "  * 🌈**Concatenate 1D Train Data (sum : axis = 1)**\n",
    "  * 🌈**Train/Test Split**\n",
    "  * 🌈**Classification ML Model Selection(Logistic Regression, Random Forest, Decision Tree, XGBoost)**\n",
    "  * 🌈**Random Forest Model**\n",
    "  * 🌈**Predict Test Data and go to Kaggle!!**\n",
    "\n",
    "2. 🤡**Model 2 : Wide and Deep**\n",
    "  * 🌈**Not Concatenate 1D Train Data**\n",
    "  * 🌈**Standard Scaling**\n",
    "  * 🌈**Train/Test Split**\n",
    "  * 🌈**Wide and Deep Model**\n",
    "  * 🌈**Predict Test Data and go to Kaggle!!**\n",
    "\n",
    "3. 🤡**Model 3 : NMF + Wide and Deep**\n",
    "  * 🌈**Not Concatenate 1D Train Data**\n",
    "  * 🌈**NMF Train Data**\n",
    "  * 🌈**Standard Scaling**\n",
    "  * 🌈**Train/Test Split**\n",
    "  * 🌈**Wide and Deep Model**\n",
    "  * 🌈**Predict Test Data and go to Kaggle!!**\n"
   ]
  },
  {
   "attachments": {},
   "cell_type": "markdown",
   "metadata": {},
   "source": [
    "## 🤡**Model 1 : Random Forest**\n",
    "\n",
    "### 🌈**Concatenate 1D Train Data (sum : axis = 1)**"
   ]
  },
  {
   "cell_type": "code",
   "execution_count": 86,
   "metadata": {},
   "outputs": [
    {
     "name": "stdout",
     "output_type": "stream",
     "text": [
      "[Q1 Shape] : (298526, 128), [Q2 Shape] : (298526, 128)\n",
      "[Stack Shape] : (298526, 2, 128)\n"
     ]
    }
   ],
   "source": [
    "PREPROCESSED_PATH = os.path.join(os.getcwd(), 'preprocessed')\n",
    "TRAIN_Q1_DATA = 'q1_train_1d.npy'\n",
    "TRAIN_Q2_DATA = 'q2_train_1d.npy'\n",
    "TRAIN_LABEL_DATA = 'label_train_1d.npy'\n",
    "\n",
    "train_q1_data = np.load(open(os.path.join(PREPROCESSED_PATH, TRAIN_Q1_DATA), 'rb'))\n",
    "train_q2_data = np.load(open(os.path.join(PREPROCESSED_PATH, TRAIN_Q2_DATA), 'rb'))\n",
    "train_labels = np.load(open(os.path.join(PREPROCESSED_PATH, TRAIN_LABEL_DATA), 'rb'))\n",
    "\n",
    "print(f'[Q1 Shape] : {train_q1_data.shape}, [Q2 Shape] : {train_q2_data.shape}')\n",
    "\n",
    "train_inputs = np.stack((train_q1_data, train_q2_data), axis=1)\n",
    "\n",
    "print(f'[Stack Shape] : {train_inputs.shape}')"
   ]
  },
  {
   "attachments": {},
   "cell_type": "markdown",
   "metadata": {},
   "source": [
    "### 🌈**Train/Test Split**"
   ]
  },
  {
   "cell_type": "code",
   "execution_count": 88,
   "metadata": {},
   "outputs": [
    {
     "name": "stdout",
     "output_type": "stream",
     "text": [
      "[X_train/y_train Shape] : (208968, 128)/(208968,)\n",
      "[X_eval/y_eval Shape] : (89558, 128)/(89558,)\n"
     ]
    }
   ],
   "source": [
    "RANDOM_SEED = 42\n",
    "TEST_SPLIT = 0.3\n",
    "\n",
    "X_train, X_eval, y_train, y_eval = train_test_split(train_inputs.sum(axis=1), train_labels, test_size=TEST_SPLIT, random_state=RANDOM_SEED)\n",
    "evals = [(X_train, y_train), (X_eval, y_eval)]\n",
    "\n",
    "print(f'[X_train/y_train Shape] : {X_train.shape}/{y_train.shape}')\n",
    "print(f'[X_eval/y_eval Shape] : {X_eval.shape}/{y_eval.shape}')"
   ]
  },
  {
   "attachments": {},
   "cell_type": "markdown",
   "metadata": {},
   "source": [
    "### 🌈**Classification ML Model Selection(Logistic Regression, Random Forest, Decision Tree, XGBoost)**\n",
    "\n",
    "\n",
    "* 본격적인 파라미터 튜닝 전 어떤 모델이 좋은 성능을 내는지 파악."
   ]
  },
  {
   "cell_type": "code",
   "execution_count": 89,
   "metadata": {},
   "outputs": [
    {
     "name": "stdout",
     "output_type": "stream",
     "text": [
      "LogisticRegression [EVAL] Log Loss : 0.6131\n",
      "RandomForestClassifier [EVAL] Log Loss : 0.4856\n",
      "[12:38:33] WARNING: ..\\src\\learner.cc:576: \n",
      "Parameters: { \"eval_set\" } might not be used.\n",
      "\n",
      "  This could be a false alarm, with some parameters getting used by language bindings but\n",
      "  then being mistakenly passed down to XGBoost core, or some parameter actually being used\n",
      "  but getting flagged wrongly here. Please open an issue if you find any such cases.\n",
      "\n",
      "\n",
      "XGBClassifier [EVAL] Log Loss : 0.5065\n",
      "DecisionTreeClassifier [EVAL] Log Loss : 10.9973\n"
     ]
    }
   ],
   "source": [
    "lr_model = LogisticRegression(solver='liblinear', max_iter=100)\n",
    "rf_model = RandomForestClassifier()\n",
    "dt_model = DecisionTreeClassifier()\n",
    "xgb_model = XGBClassifier(eval_set=evals, eval_metric='logloss')\n",
    "\n",
    "for model in [lr_model, rf_model, xgb_model, dt_model] :\n",
    "    model.fit(X_train, y_train)\n",
    "    model_eval_predict_proba = model.predict_proba(X_eval)\n",
    "    print(model.__class__.__name__, '[EVAL] Log Loss : {0:.4f}'.format(log_loss(y_eval, model_eval_predict_proba)))"
   ]
  },
  {
   "attachments": {},
   "cell_type": "markdown",
   "metadata": {},
   "source": [
    "### 🌈**Random Forest Model**\n",
    "\n",
    "* Random Forest 모델이 기본 파라미터에서 가장 좋은 성능을 보여줌.\n",
    "* 튜닝을 통해 약간의 성능을 개선 시켜봄\n",
    "\n",
    "**😎Grid Search CV를 통한 Hyper parameter 탐색**"
   ]
  },
  {
   "cell_type": "code",
   "execution_count": 90,
   "metadata": {},
   "outputs": [
    {
     "data": {
      "text/html": [
       "<style>#sk-container-id-1 {color: black;background-color: white;}#sk-container-id-1 pre{padding: 0;}#sk-container-id-1 div.sk-toggleable {background-color: white;}#sk-container-id-1 label.sk-toggleable__label {cursor: pointer;display: block;width: 100%;margin-bottom: 0;padding: 0.3em;box-sizing: border-box;text-align: center;}#sk-container-id-1 label.sk-toggleable__label-arrow:before {content: \"▸\";float: left;margin-right: 0.25em;color: #696969;}#sk-container-id-1 label.sk-toggleable__label-arrow:hover:before {color: black;}#sk-container-id-1 div.sk-estimator:hover label.sk-toggleable__label-arrow:before {color: black;}#sk-container-id-1 div.sk-toggleable__content {max-height: 0;max-width: 0;overflow: hidden;text-align: left;background-color: #f0f8ff;}#sk-container-id-1 div.sk-toggleable__content pre {margin: 0.2em;color: black;border-radius: 0.25em;background-color: #f0f8ff;}#sk-container-id-1 input.sk-toggleable__control:checked~div.sk-toggleable__content {max-height: 200px;max-width: 100%;overflow: auto;}#sk-container-id-1 input.sk-toggleable__control:checked~label.sk-toggleable__label-arrow:before {content: \"▾\";}#sk-container-id-1 div.sk-estimator input.sk-toggleable__control:checked~label.sk-toggleable__label {background-color: #d4ebff;}#sk-container-id-1 div.sk-label input.sk-toggleable__control:checked~label.sk-toggleable__label {background-color: #d4ebff;}#sk-container-id-1 input.sk-hidden--visually {border: 0;clip: rect(1px 1px 1px 1px);clip: rect(1px, 1px, 1px, 1px);height: 1px;margin: -1px;overflow: hidden;padding: 0;position: absolute;width: 1px;}#sk-container-id-1 div.sk-estimator {font-family: monospace;background-color: #f0f8ff;border: 1px dotted black;border-radius: 0.25em;box-sizing: border-box;margin-bottom: 0.5em;}#sk-container-id-1 div.sk-estimator:hover {background-color: #d4ebff;}#sk-container-id-1 div.sk-parallel-item::after {content: \"\";width: 100%;border-bottom: 1px solid gray;flex-grow: 1;}#sk-container-id-1 div.sk-label:hover label.sk-toggleable__label {background-color: #d4ebff;}#sk-container-id-1 div.sk-serial::before {content: \"\";position: absolute;border-left: 1px solid gray;box-sizing: border-box;top: 0;bottom: 0;left: 50%;z-index: 0;}#sk-container-id-1 div.sk-serial {display: flex;flex-direction: column;align-items: center;background-color: white;padding-right: 0.2em;padding-left: 0.2em;position: relative;}#sk-container-id-1 div.sk-item {position: relative;z-index: 1;}#sk-container-id-1 div.sk-parallel {display: flex;align-items: stretch;justify-content: center;background-color: white;position: relative;}#sk-container-id-1 div.sk-item::before, #sk-container-id-1 div.sk-parallel-item::before {content: \"\";position: absolute;border-left: 1px solid gray;box-sizing: border-box;top: 0;bottom: 0;left: 50%;z-index: -1;}#sk-container-id-1 div.sk-parallel-item {display: flex;flex-direction: column;z-index: 1;position: relative;background-color: white;}#sk-container-id-1 div.sk-parallel-item:first-child::after {align-self: flex-end;width: 50%;}#sk-container-id-1 div.sk-parallel-item:last-child::after {align-self: flex-start;width: 50%;}#sk-container-id-1 div.sk-parallel-item:only-child::after {width: 0;}#sk-container-id-1 div.sk-dashed-wrapped {border: 1px dashed gray;margin: 0 0.4em 0.5em 0.4em;box-sizing: border-box;padding-bottom: 0.4em;background-color: white;}#sk-container-id-1 div.sk-label label {font-family: monospace;font-weight: bold;display: inline-block;line-height: 1.2em;}#sk-container-id-1 div.sk-label-container {text-align: center;}#sk-container-id-1 div.sk-container {/* jupyter's `normalize.less` sets `[hidden] { display: none; }` but bootstrap.min.css set `[hidden] { display: none !important; }` so we also need the `!important` here to be able to override the default hidden behavior on the sphinx rendered scikit-learn.org. See: https://github.com/scikit-learn/scikit-learn/issues/21755 */display: inline-block !important;position: relative;}#sk-container-id-1 div.sk-text-repr-fallback {display: none;}</style><div id=\"sk-container-id-1\" class=\"sk-top-container\"><div class=\"sk-text-repr-fallback\"><pre>GridSearchCV(cv=4, estimator=RandomForestClassifier(n_estimators=200),\n",
       "             n_jobs=-1,\n",
       "             param_grid={&#x27;max_depth&#x27;: [3, 8, 16, 24, 32],\n",
       "                         &#x27;min_samples_leaf&#x27;: [1, 6],\n",
       "                         &#x27;min_samples_split&#x27;: [2, 8]},\n",
       "             scoring=make_scorer(log_loss, greater_is_better=False, needs_proba=True))</pre><b>In a Jupyter environment, please rerun this cell to show the HTML representation or trust the notebook. <br />On GitHub, the HTML representation is unable to render, please try loading this page with nbviewer.org.</b></div><div class=\"sk-container\" hidden><div class=\"sk-item sk-dashed-wrapped\"><div class=\"sk-label-container\"><div class=\"sk-label sk-toggleable\"><input class=\"sk-toggleable__control sk-hidden--visually\" id=\"sk-estimator-id-1\" type=\"checkbox\" ><label for=\"sk-estimator-id-1\" class=\"sk-toggleable__label sk-toggleable__label-arrow\">GridSearchCV</label><div class=\"sk-toggleable__content\"><pre>GridSearchCV(cv=4, estimator=RandomForestClassifier(n_estimators=200),\n",
       "             n_jobs=-1,\n",
       "             param_grid={&#x27;max_depth&#x27;: [3, 8, 16, 24, 32],\n",
       "                         &#x27;min_samples_leaf&#x27;: [1, 6],\n",
       "                         &#x27;min_samples_split&#x27;: [2, 8]},\n",
       "             scoring=make_scorer(log_loss, greater_is_better=False, needs_proba=True))</pre></div></div></div><div class=\"sk-parallel\"><div class=\"sk-parallel-item\"><div class=\"sk-item\"><div class=\"sk-label-container\"><div class=\"sk-label sk-toggleable\"><input class=\"sk-toggleable__control sk-hidden--visually\" id=\"sk-estimator-id-2\" type=\"checkbox\" ><label for=\"sk-estimator-id-2\" class=\"sk-toggleable__label sk-toggleable__label-arrow\">estimator: RandomForestClassifier</label><div class=\"sk-toggleable__content\"><pre>RandomForestClassifier(n_estimators=200)</pre></div></div></div><div class=\"sk-serial\"><div class=\"sk-item\"><div class=\"sk-estimator sk-toggleable\"><input class=\"sk-toggleable__control sk-hidden--visually\" id=\"sk-estimator-id-3\" type=\"checkbox\" ><label for=\"sk-estimator-id-3\" class=\"sk-toggleable__label sk-toggleable__label-arrow\">RandomForestClassifier</label><div class=\"sk-toggleable__content\"><pre>RandomForestClassifier(n_estimators=200)</pre></div></div></div></div></div></div></div></div></div></div>"
      ],
      "text/plain": [
       "GridSearchCV(cv=4, estimator=RandomForestClassifier(n_estimators=200),\n",
       "             n_jobs=-1,\n",
       "             param_grid={'max_depth': [3, 8, 16, 24, 32],\n",
       "                         'min_samples_leaf': [1, 6],\n",
       "                         'min_samples_split': [2, 8]},\n",
       "             scoring=make_scorer(log_loss, greater_is_better=False, needs_proba=True))"
      ]
     },
     "execution_count": 90,
     "metadata": {},
     "output_type": "execute_result"
    }
   ],
   "source": [
    "rf_model = RandomForestClassifier(n_estimators=200)\n",
    "params = {'max_depth' : [3, 8, 16, 24, 32],\n",
    "          'min_samples_leaf' : [1, 6],\n",
    "          'min_samples_split' : [2, 8]}\n",
    "\n",
    "# log loss\n",
    "logloss = make_scorer(log_loss, greater_is_better=False, needs_proba=True)\n",
    "gridcv = GridSearchCV(rf_model, param_grid=params, cv=4, scoring=logloss, n_jobs=-1)\n",
    "gridcv.fit(X_train, y_train)"
   ]
  },
  {
   "cell_type": "code",
   "execution_count": 91,
   "metadata": {},
   "outputs": [
    {
     "name": "stdout",
     "output_type": "stream",
     "text": [
      "[BEST PARAMS] :  {'max_depth': 32, 'min_samples_leaf': 1, 'min_samples_split': 2} -0.4902\n"
     ]
    }
   ],
   "source": [
    "print(f'[BEST PARAMS] : ', gridcv.best_params_, round(gridcv.best_score_, 4) )"
   ]
  },
  {
   "cell_type": "code",
   "execution_count": 92,
   "metadata": {},
   "outputs": [
    {
     "name": "stdout",
     "output_type": "stream",
     "text": [
      "RandomForestClassifier [EVAL] Log Loss : 0.4848\n"
     ]
    },
    {
     "data": {
      "text/plain": [
       "['c:\\\\Users\\\\user\\\\Desktop\\\\github\\\\Kaggle\\\\Quora Quetions Pairs\\\\model\\\\rf_model.joblib']"
      ]
     },
     "execution_count": 92,
     "metadata": {},
     "output_type": "execute_result"
    }
   ],
   "source": [
    "rf_model = gridcv.best_estimator_\n",
    "rf_test_predict_proba = rf_model.predict_proba(X_eval)\n",
    "\n",
    "print(rf_model.__class__.__name__, '[EVAL] Log Loss : {0:.4f}'.format(log_loss(y_eval, rf_test_predict_proba)))\n",
    "\n",
    "MODEL_PATH = os.path.join(os.getcwd(), 'model')\n",
    "\n",
    "# save parameter\n",
    "rf_parameter = json.dumps(gridcv.best_params_)\n",
    "with open(os.path.join(MODEL_PATH, 'rf_parmas.jon'), \"w\") as file :\n",
    "    file.write(rf_parameter)\n",
    "\n",
    "# save model\n",
    "dump(rf_model, os.path.join(MODEL_PATH, 'rf_model.joblib'))"
   ]
  },
  {
   "attachments": {},
   "cell_type": "markdown",
   "metadata": {},
   "source": [
    "**😎추가 튜닝**"
   ]
  },
  {
   "cell_type": "code",
   "execution_count": 119,
   "metadata": {},
   "outputs": [],
   "source": [
    "kwargs = {'n_estimators' : 300, 'max_depth' : 40, 'min_samples_leaf':1, 'min_samples_split':2, 'n_jobs':-1}"
   ]
  },
  {
   "cell_type": "code",
   "execution_count": 120,
   "metadata": {},
   "outputs": [
    {
     "name": "stdout",
     "output_type": "stream",
     "text": [
      "RandomForestClassifier [EVAL] Log Loss : 0.4809\n"
     ]
    }
   ],
   "source": [
    "self_tune_rf_model = RandomForestClassifier(**kwargs)\n",
    "self_tune_rf_model.fit(X_train, y_train)\n",
    "rf_test_predict_proba = self_tune_rf_model.predict_proba(X_eval)\n",
    "\n",
    "print(self_tune_rf_model.__class__.__name__, '[EVAL] Log Loss : {0:.4f}'.format(log_loss(y_eval, rf_test_predict_proba)))"
   ]
  },
  {
   "attachments": {},
   "cell_type": "markdown",
   "metadata": {},
   "source": [
    "**😎BEST Model 저장**"
   ]
  },
  {
   "cell_type": "code",
   "execution_count": null,
   "metadata": {},
   "outputs": [],
   "source": [
    "# save parameter\n",
    "rf_parameter = json.dumps(kwargs)\n",
    "with open(os.path.join(MODEL_PATH, 'rf_parmas.jon'), \"w\") as file :\n",
    "    file.write(rf_parameter)\n",
    "# save model\n",
    "dump(self_tune_rf_model, os.path.join(MODEL_PATH, 'rf_model.joblib'))"
   ]
  },
  {
   "attachments": {},
   "cell_type": "markdown",
   "metadata": {},
   "source": [
    "### 🌈**Predict Test Data and go to Kaggle!!**"
   ]
  },
  {
   "attachments": {},
   "cell_type": "markdown",
   "metadata": {},
   "source": [
    "**😎예측을 위한 Test 전처리 data load**"
   ]
  },
  {
   "cell_type": "code",
   "execution_count": 333,
   "metadata": {},
   "outputs": [
    {
     "name": "stdout",
     "output_type": "stream",
     "text": [
      "[Q1 Shape] : (2345796, 128), [Q2 Shape] : (2345796, 128), [TEST ID] : (2345796,),\n"
     ]
    }
   ],
   "source": [
    "PREPROCESSED_PATH = os.path.join(os.getcwd(), 'preprocessed')\n",
    "\n",
    "TEST_ID = 'test_id_1d.npy'\n",
    "TEST_Q1_DATA = 'q1_test_1d.npy'\n",
    "TEST_Q2_DATA = 'q1_test_1d.npy'\n",
    "\n",
    "test_q1_data = np.load(open(os.path.join(PREPROCESSED_PATH, TEST_Q1_DATA), 'rb'))\n",
    "test_q2_data = np.load(open(os.path.join(PREPROCESSED_PATH, TEST_Q2_DATA), 'rb'))\n",
    "test_id = np.load(open(os.path.join(PREPROCESSED_PATH, TEST_ID), 'rb'))\n",
    "\n",
    "print(f'[Q1 Shape] : {test_q1_data.shape}, [Q2 Shape] : {test_q2_data.shape}, [TEST ID] : {test_id.shape},')"
   ]
  },
  {
   "cell_type": "code",
   "execution_count": 334,
   "metadata": {},
   "outputs": [
    {
     "name": "stdout",
     "output_type": "stream",
     "text": [
      "[Test Shape] : (2345796, 128)\n"
     ]
    }
   ],
   "source": [
    "test_inputs = np.stack((test_q1_data, test_q2_data), axis=1).sum(axis=1)\n",
    "print(f'[Test Shape] : {test_inputs.shape}')"
   ]
  },
  {
   "attachments": {},
   "cell_type": "markdown",
   "metadata": {},
   "source": [
    "**😎BEST Model 예측**"
   ]
  },
  {
   "cell_type": "code",
   "execution_count": 335,
   "metadata": {},
   "outputs": [],
   "source": [
    "rf_test_predict_proba = self_tune_rf_model.predict_proba(test_inputs)"
   ]
  },
  {
   "cell_type": "code",
   "execution_count": 337,
   "metadata": {},
   "outputs": [
    {
     "data": {
      "text/plain": [
       "array([[0.5620183 , 0.4379817 ],\n",
       "       [0.44728172, 0.55271828],\n",
       "       [0.49197365, 0.50802635],\n",
       "       ...,\n",
       "       [0.75297028, 0.24702972],\n",
       "       [0.75054909, 0.24945091],\n",
       "       [0.1       , 0.9       ]])"
      ]
     },
     "execution_count": 337,
     "metadata": {},
     "output_type": "execute_result"
    }
   ],
   "source": [
    "rf_test_predict_proba"
   ]
  },
  {
   "attachments": {},
   "cell_type": "markdown",
   "metadata": {},
   "source": [
    "**😎Kaggle 제출 파일 생성**"
   ]
  },
  {
   "cell_type": "code",
   "execution_count": 340,
   "metadata": {},
   "outputs": [],
   "source": [
    "prob = [x[1] for x in rf_test_predict_proba]\n",
    "output = pd.DataFrame({'test_id' : test_id, 'is_duplicate' : prob})\n",
    "\n",
    "SUBMISSION_PATH = os.path.join(os.getcwd(), 'submission')\n",
    "output.to_csv(os.path.join(SUBMISSION_PATH, 'submission_rf.csv'), index=False)"
   ]
  },
  {
   "attachments": {},
   "cell_type": "markdown",
   "metadata": {},
   "source": [
    "### 🌈 **log loss : private(0.59850), public(0.59721)**\n",
    "\n",
    "![image](./image/random_forest.JPG)\n"
   ]
  },
  {
   "attachments": {},
   "cell_type": "markdown",
   "metadata": {},
   "source": [
    "---------------"
   ]
  },
  {
   "attachments": {},
   "cell_type": "markdown",
   "metadata": {},
   "source": [
    "## 🤡**Model 2 : Wide and Deep**\n",
    "\n",
    "### 🌈**Not Concatenate 1D Train Data**\n"
   ]
  },
  {
   "cell_type": "code",
   "execution_count": 4,
   "metadata": {},
   "outputs": [
    {
     "name": "stdout",
     "output_type": "stream",
     "text": [
      "[Q1 Shape] : (298526, 128), [Q2 Shape] : (298526, 128)\n"
     ]
    }
   ],
   "source": [
    "PREPROCESSED_PATH = os.path.join(os.getcwd(), 'preprocessed')\n",
    "TRAIN_Q1_DATA = 'q1_train_1d.npy'\n",
    "TRAIN_Q2_DATA = 'q2_train_1d.npy'\n",
    "TRAIN_LABEL_DATA = 'label_train_1d.npy'\n",
    "\n",
    "train_q1_data = np.load(open(os.path.join(PREPROCESSED_PATH, TRAIN_Q1_DATA), 'rb'))\n",
    "train_q2_data = np.load(open(os.path.join(PREPROCESSED_PATH, TRAIN_Q2_DATA), 'rb'))\n",
    "train_labels = np.load(open(os.path.join(PREPROCESSED_PATH, TRAIN_LABEL_DATA), 'rb'))\n",
    "\n",
    "print(f'[Q1 Shape] : {train_q1_data.shape}, [Q2 Shape] : {train_q2_data.shape}')"
   ]
  },
  {
   "attachments": {},
   "cell_type": "markdown",
   "metadata": {},
   "source": [
    "### 🌈**Standard Scaling**"
   ]
  },
  {
   "cell_type": "code",
   "execution_count": 46,
   "metadata": {},
   "outputs": [],
   "source": [
    "from sklearn.preprocessing import StandardScaler\n",
    "\n",
    "sdscaler = StandardScaler()\n",
    "sdscaler.fit(np.concatenate([train_q1_data,train_q2_data]))\n",
    "sdscaled_train_q1 = sdscaler.transform(train_q1_data)\n",
    "sdscaled_train_q2 = sdscaler.transform(train_q2_data)\n",
    "\n",
    "joblib.dump(sdscaler, os.path.join(MODEL_PATH, 'scaler.joblib'))"
   ]
  },
  {
   "attachments": {},
   "cell_type": "markdown",
   "metadata": {},
   "source": [
    "### 🌈**Train/Test Split**\n",
    "### 🌈**Wide and Deep Model**"
   ]
  },
  {
   "cell_type": "code",
   "execution_count": 36,
   "metadata": {},
   "outputs": [],
   "source": [
    "model_name = 'wide_and_deep'\n",
    "BATCH_SIZE = 512\n",
    "NUM_EPOCHS = 300\n",
    "VALIDATION_SPLIT = 0.3\n",
    "\n",
    "kwargs = {'model_name' : model_name,\n",
    "          'input_dim' : 128,\n",
    "          'wide_hidden_dim' : [512, 256, 128],\n",
    "          'deep_hidden_dim' : [128, 64],\n",
    "          'output_dim'      : 1,\n",
    "          'dropout'         : 0.5\n",
    "}\n",
    "\n",
    "class Wide_And_Deep(tf.keras.Model) :\n",
    "    def __init__(self, **kwargs) :\n",
    "        super(Wide_And_Deep, self).__init__(name=kwargs['model_name'])\n",
    "        # wide part\n",
    "        self.wide_layer = []\n",
    "        for i in range(3) :\n",
    "            wide_dense = Dense(units=kwargs['wide_hidden_dim'][i], activation=relu, kernel_constraint=MaxNorm(max_value=3.))\n",
    "            wide_dropout = Dropout(rate=kwargs['dropout'])\n",
    "            wide_batch = BatchNormalization(beta_initializer=RandomNormal(mean=0.0, stddev=0.05 ))\n",
    "            self.wide_layer.append([wide_dense, wide_dropout, wide_batch])\n",
    "\n",
    "        # Deep part\n",
    "        self.deep_layer = []\n",
    "        for i in range(2) :\n",
    "            deep_dense = Dense(units=kwargs['deep_hidden_dim'][i], activation=relu, kernel_constraint=MaxNorm(max_value=3.))\n",
    "            deep_dropout = Dropout(rate=kwargs['dropout'])\n",
    "            deep_batch = BatchNormalization(beta_initializer=RandomNormal(mean=0.0, stddev=0.05 ))\n",
    "            self.deep_layer.append([deep_dense, deep_dropout, deep_batch])\n",
    "        \n",
    "        # Output part\n",
    "        self.out = Dense(units=kwargs['output_dim'], activation=sigmoid)\n",
    "\n",
    "    def call(self, input) :\n",
    "        input_q1, input_q2 = input[0], input[1]\n",
    "\n",
    "        # Wide q1, q2 part\n",
    "        for i in range(len(self.wide_layer)) :\n",
    "            for j in range(len(self.wide_layer[i])) :\n",
    "                input_q1 = self.wide_layer[i][j](input_q1)\n",
    "                input_q2 = self.wide_layer[i][j](input_q2)\n",
    "\n",
    "        # Concatenate Wide layer output\n",
    "        after_wide = tf.concat([input_q1, input_q2], axis=-1)\n",
    "\n",
    "        # Deep part\n",
    "        for i in range(len(self.deep_layer)) :\n",
    "            for j in range(len(self.deep_layer[i])) :\n",
    "                after_wide = self.deep_layer[i][j](after_wide)\n",
    "        \n",
    "        # Otput layer\n",
    "        x = self.out(after_wide)\n",
    "        return x"
   ]
  },
  {
   "cell_type": "code",
   "execution_count": 48,
   "metadata": {},
   "outputs": [],
   "source": [
    "# Build Model\n",
    "model = Wide_And_Deep(**kwargs)\n",
    "model.compile(optimizer=tf.keras.optimizers.Adam(),\n",
    "                loss = tf.keras.losses.BinaryCrossentropy(),\n",
    "                metrics=[tf.keras.metrics.BinaryCrossentropy(name='binary_crossentropy')])\n",
    "\n",
    "# callback funtion\n",
    "es_callback = EarlyStopping(monitor='val_binary_crossentropy', min_delta = 0.001, patience=30)\n",
    "checkpoint_path = os.path.join(MODEL_PATH, 'wide_and_deep.h5')\n",
    "cp_callback = ModelCheckpoint(checkpoint_path, monitor='val_binary_crossentropy', verbose=1, save_best_only=True, save_weights_only=True)"
   ]
  },
  {
   "cell_type": "code",
   "execution_count": 49,
   "metadata": {},
   "outputs": [
    {
     "name": "stdout",
     "output_type": "stream",
     "text": [
      "Epoch 1/300\n",
      "408/409 [============================>.] - ETA: 0s - loss: 0.5805 - binary_crossentropy: 0.5805\n",
      "Epoch 1: val_binary_crossentropy improved from inf to 1.47216, saving model to c:\\Users\\user\\Desktop\\github\\Kaggle\\Quora Quetions Pairs\\model\\wide_and_deep.h5\n",
      "409/409 [==============================] - 13s 25ms/step - loss: 0.5805 - binary_crossentropy: 0.5805 - val_loss: 1.4722 - val_binary_crossentropy: 1.4722\n",
      "Epoch 2/300\n",
      "409/409 [==============================] - ETA: 0s - loss: 0.5116 - binary_crossentropy: 0.5116\n",
      "Epoch 2: val_binary_crossentropy improved from 1.47216 to 1.35472, saving model to c:\\Users\\user\\Desktop\\github\\Kaggle\\Quora Quetions Pairs\\model\\wide_and_deep.h5\n",
      "409/409 [==============================] - 10s 25ms/step - loss: 0.5116 - binary_crossentropy: 0.5116 - val_loss: 1.3547 - val_binary_crossentropy: 1.3547\n",
      "Epoch 3/300\n",
      "409/409 [==============================] - ETA: 0s - loss: 0.4952 - binary_crossentropy: 0.4952\n",
      "Epoch 3: val_binary_crossentropy improved from 1.35472 to 1.29282, saving model to c:\\Users\\user\\Desktop\\github\\Kaggle\\Quora Quetions Pairs\\model\\wide_and_deep.h5\n",
      "409/409 [==============================] - 10s 24ms/step - loss: 0.4952 - binary_crossentropy: 0.4952 - val_loss: 1.2928 - val_binary_crossentropy: 1.2928\n",
      "Epoch 4/300\n",
      "409/409 [==============================] - ETA: 0s - loss: 0.4845 - binary_crossentropy: 0.4845\n",
      "Epoch 4: val_binary_crossentropy improved from 1.29282 to 1.21889, saving model to c:\\Users\\user\\Desktop\\github\\Kaggle\\Quora Quetions Pairs\\model\\wide_and_deep.h5\n",
      "409/409 [==============================] - 10s 24ms/step - loss: 0.4845 - binary_crossentropy: 0.4845 - val_loss: 1.2189 - val_binary_crossentropy: 1.2189\n",
      "Epoch 5/300\n",
      "408/409 [============================>.] - ETA: 0s - loss: 0.4771 - binary_crossentropy: 0.4771\n",
      "Epoch 5: val_binary_crossentropy improved from 1.21889 to 1.16081, saving model to c:\\Users\\user\\Desktop\\github\\Kaggle\\Quora Quetions Pairs\\model\\wide_and_deep.h5\n",
      "409/409 [==============================] - 12s 29ms/step - loss: 0.4771 - binary_crossentropy: 0.4771 - val_loss: 1.1608 - val_binary_crossentropy: 1.1608\n",
      "Epoch 6/300\n",
      "409/409 [==============================] - ETA: 0s - loss: 0.4712 - binary_crossentropy: 0.4712\n",
      "Epoch 6: val_binary_crossentropy improved from 1.16081 to 1.15049, saving model to c:\\Users\\user\\Desktop\\github\\Kaggle\\Quora Quetions Pairs\\model\\wide_and_deep.h5\n",
      "409/409 [==============================] - 11s 26ms/step - loss: 0.4712 - binary_crossentropy: 0.4712 - val_loss: 1.1505 - val_binary_crossentropy: 1.1505\n",
      "Epoch 7/300\n",
      "408/409 [============================>.] - ETA: 0s - loss: 0.4674 - binary_crossentropy: 0.4674\n",
      "Epoch 7: val_binary_crossentropy improved from 1.15049 to 1.14120, saving model to c:\\Users\\user\\Desktop\\github\\Kaggle\\Quora Quetions Pairs\\model\\wide_and_deep.h5\n",
      "409/409 [==============================] - 10s 25ms/step - loss: 0.4674 - binary_crossentropy: 0.4674 - val_loss: 1.1412 - val_binary_crossentropy: 1.1412\n",
      "Epoch 8/300\n",
      "409/409 [==============================] - ETA: 0s - loss: 0.4625 - binary_crossentropy: 0.4625\n",
      "Epoch 8: val_binary_crossentropy improved from 1.14120 to 1.12034, saving model to c:\\Users\\user\\Desktop\\github\\Kaggle\\Quora Quetions Pairs\\model\\wide_and_deep.h5\n",
      "409/409 [==============================] - 10s 25ms/step - loss: 0.4625 - binary_crossentropy: 0.4625 - val_loss: 1.1203 - val_binary_crossentropy: 1.1203\n",
      "Epoch 9/300\n",
      "409/409 [==============================] - ETA: 0s - loss: 0.4604 - binary_crossentropy: 0.4604\n",
      "Epoch 9: val_binary_crossentropy did not improve from 1.12034\n",
      "409/409 [==============================] - 10s 25ms/step - loss: 0.4604 - binary_crossentropy: 0.4604 - val_loss: 1.1300 - val_binary_crossentropy: 1.1300\n",
      "Epoch 10/300\n",
      "408/409 [============================>.] - ETA: 0s - loss: 0.4573 - binary_crossentropy: 0.4573\n",
      "Epoch 10: val_binary_crossentropy improved from 1.12034 to 1.07758, saving model to c:\\Users\\user\\Desktop\\github\\Kaggle\\Quora Quetions Pairs\\model\\wide_and_deep.h5\n",
      "409/409 [==============================] - 10s 24ms/step - loss: 0.4573 - binary_crossentropy: 0.4573 - val_loss: 1.0776 - val_binary_crossentropy: 1.0776\n",
      "Epoch 11/300\n",
      "409/409 [==============================] - ETA: 0s - loss: 0.4555 - binary_crossentropy: 0.4555\n",
      "Epoch 11: val_binary_crossentropy improved from 1.07758 to 1.07092, saving model to c:\\Users\\user\\Desktop\\github\\Kaggle\\Quora Quetions Pairs\\model\\wide_and_deep.h5\n",
      "409/409 [==============================] - 10s 24ms/step - loss: 0.4555 - binary_crossentropy: 0.4555 - val_loss: 1.0709 - val_binary_crossentropy: 1.0709\n",
      "Epoch 12/300\n",
      "407/409 [============================>.] - ETA: 0s - loss: 0.4522 - binary_crossentropy: 0.4522\n",
      "Epoch 12: val_binary_crossentropy did not improve from 1.07092\n",
      "409/409 [==============================] - 9s 23ms/step - loss: 0.4524 - binary_crossentropy: 0.4524 - val_loss: 1.0742 - val_binary_crossentropy: 1.0742\n",
      "Epoch 13/300\n",
      "409/409 [==============================] - ETA: 0s - loss: 0.4497 - binary_crossentropy: 0.4497\n",
      "Epoch 13: val_binary_crossentropy did not improve from 1.07092\n",
      "409/409 [==============================] - 9s 23ms/step - loss: 0.4497 - binary_crossentropy: 0.4497 - val_loss: 1.0731 - val_binary_crossentropy: 1.0731\n",
      "Epoch 14/300\n",
      "408/409 [============================>.] - ETA: 0s - loss: 0.4474 - binary_crossentropy: 0.4474\n",
      "Epoch 14: val_binary_crossentropy improved from 1.07092 to 1.03874, saving model to c:\\Users\\user\\Desktop\\github\\Kaggle\\Quora Quetions Pairs\\model\\wide_and_deep.h5\n",
      "409/409 [==============================] - 11s 26ms/step - loss: 0.4474 - binary_crossentropy: 0.4474 - val_loss: 1.0387 - val_binary_crossentropy: 1.0387\n",
      "Epoch 15/300\n",
      "409/409 [==============================] - ETA: 0s - loss: 0.4448 - binary_crossentropy: 0.4448\n",
      "Epoch 15: val_binary_crossentropy did not improve from 1.03874\n",
      "409/409 [==============================] - 10s 25ms/step - loss: 0.4448 - binary_crossentropy: 0.4448 - val_loss: 1.0580 - val_binary_crossentropy: 1.0580\n",
      "Epoch 16/300\n",
      "409/409 [==============================] - ETA: 0s - loss: 0.4441 - binary_crossentropy: 0.4441\n",
      "Epoch 16: val_binary_crossentropy did not improve from 1.03874\n",
      "409/409 [==============================] - 10s 24ms/step - loss: 0.4441 - binary_crossentropy: 0.4441 - val_loss: 1.0617 - val_binary_crossentropy: 1.0617\n",
      "Epoch 17/300\n",
      "409/409 [==============================] - ETA: 0s - loss: 0.4420 - binary_crossentropy: 0.4420\n",
      "Epoch 17: val_binary_crossentropy did not improve from 1.03874\n",
      "409/409 [==============================] - 11s 26ms/step - loss: 0.4420 - binary_crossentropy: 0.4420 - val_loss: 1.0691 - val_binary_crossentropy: 1.0691\n",
      "Epoch 18/300\n",
      "407/409 [============================>.] - ETA: 0s - loss: 0.4393 - binary_crossentropy: 0.4393\n",
      "Epoch 18: val_binary_crossentropy did not improve from 1.03874\n",
      "409/409 [==============================] - 10s 24ms/step - loss: 0.4393 - binary_crossentropy: 0.4393 - val_loss: 1.0992 - val_binary_crossentropy: 1.0992\n",
      "Epoch 19/300\n",
      "407/409 [============================>.] - ETA: 0s - loss: 0.4388 - binary_crossentropy: 0.4388\n",
      "Epoch 19: val_binary_crossentropy did not improve from 1.03874\n",
      "409/409 [==============================] - 10s 24ms/step - loss: 0.4387 - binary_crossentropy: 0.4387 - val_loss: 1.0945 - val_binary_crossentropy: 1.0945\n",
      "Epoch 20/300\n",
      "409/409 [==============================] - ETA: 0s - loss: 0.4360 - binary_crossentropy: 0.4360\n",
      "Epoch 20: val_binary_crossentropy improved from 1.03874 to 1.02275, saving model to c:\\Users\\user\\Desktop\\github\\Kaggle\\Quora Quetions Pairs\\model\\wide_and_deep.h5\n",
      "409/409 [==============================] - 10s 25ms/step - loss: 0.4360 - binary_crossentropy: 0.4360 - val_loss: 1.0227 - val_binary_crossentropy: 1.0227\n",
      "Epoch 21/300\n",
      "407/409 [============================>.] - ETA: 0s - loss: 0.4352 - binary_crossentropy: 0.4352\n",
      "Epoch 21: val_binary_crossentropy did not improve from 1.02275\n",
      "409/409 [==============================] - 10s 24ms/step - loss: 0.4352 - binary_crossentropy: 0.4352 - val_loss: 1.1048 - val_binary_crossentropy: 1.1048\n",
      "Epoch 22/300\n",
      "406/409 [============================>.] - ETA: 0s - loss: 0.4332 - binary_crossentropy: 0.4332\n",
      "Epoch 22: val_binary_crossentropy did not improve from 1.02275\n",
      "409/409 [==============================] - 9s 23ms/step - loss: 0.4332 - binary_crossentropy: 0.4332 - val_loss: 1.0931 - val_binary_crossentropy: 1.0931\n",
      "Epoch 23/300\n",
      "408/409 [============================>.] - ETA: 0s - loss: 0.4320 - binary_crossentropy: 0.4320\n",
      "Epoch 23: val_binary_crossentropy did not improve from 1.02275\n",
      "409/409 [==============================] - 9s 22ms/step - loss: 0.4320 - binary_crossentropy: 0.4320 - val_loss: 1.0251 - val_binary_crossentropy: 1.0251\n",
      "Epoch 24/300\n",
      "408/409 [============================>.] - ETA: 0s - loss: 0.4304 - binary_crossentropy: 0.4304\n",
      "Epoch 24: val_binary_crossentropy did not improve from 1.02275\n",
      "409/409 [==============================] - 9s 23ms/step - loss: 0.4304 - binary_crossentropy: 0.4304 - val_loss: 1.0444 - val_binary_crossentropy: 1.0444\n",
      "Epoch 25/300\n",
      "408/409 [============================>.] - ETA: 0s - loss: 0.4291 - binary_crossentropy: 0.4291\n",
      "Epoch 25: val_binary_crossentropy did not improve from 1.02275\n",
      "409/409 [==============================] - 10s 25ms/step - loss: 0.4291 - binary_crossentropy: 0.4291 - val_loss: 1.0990 - val_binary_crossentropy: 1.0990\n",
      "Epoch 26/300\n",
      "408/409 [============================>.] - ETA: 0s - loss: 0.4277 - binary_crossentropy: 0.4277\n",
      "Epoch 26: val_binary_crossentropy did not improve from 1.02275\n",
      "409/409 [==============================] - 9s 23ms/step - loss: 0.4277 - binary_crossentropy: 0.4277 - val_loss: 1.0683 - val_binary_crossentropy: 1.0683\n",
      "Epoch 27/300\n",
      "409/409 [==============================] - ETA: 0s - loss: 0.4257 - binary_crossentropy: 0.4257\n",
      "Epoch 27: val_binary_crossentropy did not improve from 1.02275\n",
      "409/409 [==============================] - 9s 23ms/step - loss: 0.4257 - binary_crossentropy: 0.4257 - val_loss: 1.0774 - val_binary_crossentropy: 1.0774\n",
      "Epoch 28/300\n",
      "406/409 [============================>.] - ETA: 0s - loss: 0.4245 - binary_crossentropy: 0.4245\n",
      "Epoch 28: val_binary_crossentropy did not improve from 1.02275\n",
      "409/409 [==============================] - 9s 22ms/step - loss: 0.4246 - binary_crossentropy: 0.4246 - val_loss: 1.0676 - val_binary_crossentropy: 1.0676\n",
      "Epoch 29/300\n",
      "407/409 [============================>.] - ETA: 0s - loss: 0.4235 - binary_crossentropy: 0.4235\n",
      "Epoch 29: val_binary_crossentropy did not improve from 1.02275\n",
      "409/409 [==============================] - 9s 23ms/step - loss: 0.4234 - binary_crossentropy: 0.4234 - val_loss: 1.1077 - val_binary_crossentropy: 1.1077\n",
      "Epoch 30/300\n",
      "408/409 [============================>.] - ETA: 0s - loss: 0.4232 - binary_crossentropy: 0.4232\n",
      "Epoch 30: val_binary_crossentropy did not improve from 1.02275\n",
      "409/409 [==============================] - 10s 24ms/step - loss: 0.4232 - binary_crossentropy: 0.4232 - val_loss: 1.1261 - val_binary_crossentropy: 1.1261\n",
      "Epoch 31/300\n",
      "408/409 [============================>.] - ETA: 0s - loss: 0.4201 - binary_crossentropy: 0.4201\n",
      "Epoch 31: val_binary_crossentropy did not improve from 1.02275\n",
      "409/409 [==============================] - 10s 24ms/step - loss: 0.4201 - binary_crossentropy: 0.4201 - val_loss: 1.0467 - val_binary_crossentropy: 1.0467\n",
      "Epoch 32/300\n",
      "407/409 [============================>.] - ETA: 0s - loss: 0.4192 - binary_crossentropy: 0.4192\n",
      "Epoch 32: val_binary_crossentropy improved from 1.02275 to 1.01269, saving model to c:\\Users\\user\\Desktop\\github\\Kaggle\\Quora Quetions Pairs\\model\\wide_and_deep.h5\n",
      "409/409 [==============================] - 10s 23ms/step - loss: 0.4193 - binary_crossentropy: 0.4193 - val_loss: 1.0127 - val_binary_crossentropy: 1.0127\n",
      "Epoch 33/300\n",
      "407/409 [============================>.] - ETA: 0s - loss: 0.4188 - binary_crossentropy: 0.4188\n",
      "Epoch 33: val_binary_crossentropy did not improve from 1.01269\n",
      "409/409 [==============================] - 10s 24ms/step - loss: 0.4188 - binary_crossentropy: 0.4188 - val_loss: 1.1065 - val_binary_crossentropy: 1.1065\n",
      "Epoch 34/300\n",
      "409/409 [==============================] - ETA: 0s - loss: 0.4182 - binary_crossentropy: 0.4182\n",
      "Epoch 34: val_binary_crossentropy did not improve from 1.01269\n",
      "409/409 [==============================] - 9s 23ms/step - loss: 0.4182 - binary_crossentropy: 0.4182 - val_loss: 1.0618 - val_binary_crossentropy: 1.0618\n",
      "Epoch 35/300\n",
      "409/409 [==============================] - ETA: 0s - loss: 0.4165 - binary_crossentropy: 0.4165\n",
      "Epoch 35: val_binary_crossentropy did not improve from 1.01269\n",
      "409/409 [==============================] - 11s 26ms/step - loss: 0.4165 - binary_crossentropy: 0.4165 - val_loss: 1.1212 - val_binary_crossentropy: 1.1212\n",
      "Epoch 36/300\n",
      "407/409 [============================>.] - ETA: 0s - loss: 0.4163 - binary_crossentropy: 0.4163\n",
      "Epoch 36: val_binary_crossentropy did not improve from 1.01269\n",
      "409/409 [==============================] - 10s 25ms/step - loss: 0.4162 - binary_crossentropy: 0.4162 - val_loss: 1.0333 - val_binary_crossentropy: 1.0333\n",
      "Epoch 37/300\n",
      "408/409 [============================>.] - ETA: 0s - loss: 0.4148 - binary_crossentropy: 0.4148\n",
      "Epoch 37: val_binary_crossentropy did not improve from 1.01269\n",
      "409/409 [==============================] - 10s 23ms/step - loss: 0.4148 - binary_crossentropy: 0.4148 - val_loss: 1.0483 - val_binary_crossentropy: 1.0483\n",
      "Epoch 38/300\n",
      "408/409 [============================>.] - ETA: 0s - loss: 0.4135 - binary_crossentropy: 0.4135\n",
      "Epoch 38: val_binary_crossentropy did not improve from 1.01269\n",
      "409/409 [==============================] - 10s 23ms/step - loss: 0.4135 - binary_crossentropy: 0.4135 - val_loss: 1.0849 - val_binary_crossentropy: 1.0849\n",
      "Epoch 39/300\n",
      "409/409 [==============================] - ETA: 0s - loss: 0.4133 - binary_crossentropy: 0.4133\n",
      "Epoch 39: val_binary_crossentropy did not improve from 1.01269\n",
      "409/409 [==============================] - 10s 24ms/step - loss: 0.4133 - binary_crossentropy: 0.4133 - val_loss: 1.1000 - val_binary_crossentropy: 1.1000\n",
      "Epoch 40/300\n",
      "409/409 [==============================] - ETA: 0s - loss: 0.4115 - binary_crossentropy: 0.4115\n",
      "Epoch 40: val_binary_crossentropy did not improve from 1.01269\n",
      "409/409 [==============================] - 10s 24ms/step - loss: 0.4115 - binary_crossentropy: 0.4115 - val_loss: 1.1275 - val_binary_crossentropy: 1.1275\n",
      "Epoch 41/300\n",
      "409/409 [==============================] - ETA: 0s - loss: 0.4117 - binary_crossentropy: 0.4117\n",
      "Epoch 41: val_binary_crossentropy did not improve from 1.01269\n",
      "409/409 [==============================] - 10s 25ms/step - loss: 0.4117 - binary_crossentropy: 0.4117 - val_loss: 1.1547 - val_binary_crossentropy: 1.1547\n",
      "Epoch 42/300\n",
      "408/409 [============================>.] - ETA: 0s - loss: 0.4100 - binary_crossentropy: 0.4100\n",
      "Epoch 42: val_binary_crossentropy did not improve from 1.01269\n",
      "409/409 [==============================] - 10s 24ms/step - loss: 0.4101 - binary_crossentropy: 0.4101 - val_loss: 1.0742 - val_binary_crossentropy: 1.0742\n",
      "Epoch 43/300\n",
      "409/409 [==============================] - ETA: 0s - loss: 0.4097 - binary_crossentropy: 0.4097\n",
      "Epoch 43: val_binary_crossentropy did not improve from 1.01269\n",
      "409/409 [==============================] - 10s 23ms/step - loss: 0.4097 - binary_crossentropy: 0.4097 - val_loss: 1.1126 - val_binary_crossentropy: 1.1126\n",
      "Epoch 44/300\n",
      "409/409 [==============================] - ETA: 0s - loss: 0.4077 - binary_crossentropy: 0.4077\n",
      "Epoch 44: val_binary_crossentropy did not improve from 1.01269\n",
      "409/409 [==============================] - 10s 24ms/step - loss: 0.4077 - binary_crossentropy: 0.4077 - val_loss: 1.1052 - val_binary_crossentropy: 1.1052\n",
      "Epoch 45/300\n",
      "408/409 [============================>.] - ETA: 0s - loss: 0.4092 - binary_crossentropy: 0.4092\n",
      "Epoch 45: val_binary_crossentropy did not improve from 1.01269\n",
      "409/409 [==============================] - 10s 24ms/step - loss: 0.4093 - binary_crossentropy: 0.4093 - val_loss: 1.0863 - val_binary_crossentropy: 1.0863\n",
      "Epoch 46/300\n",
      "408/409 [============================>.] - ETA: 0s - loss: 0.4069 - binary_crossentropy: 0.4069\n",
      "Epoch 46: val_binary_crossentropy did not improve from 1.01269\n",
      "409/409 [==============================] - 10s 24ms/step - loss: 0.4069 - binary_crossentropy: 0.4069 - val_loss: 1.1144 - val_binary_crossentropy: 1.1144\n",
      "Epoch 47/300\n",
      "408/409 [============================>.] - ETA: 0s - loss: 0.4063 - binary_crossentropy: 0.4063\n",
      "Epoch 47: val_binary_crossentropy did not improve from 1.01269\n",
      "409/409 [==============================] - 9s 23ms/step - loss: 0.4063 - binary_crossentropy: 0.4063 - val_loss: 1.1204 - val_binary_crossentropy: 1.1204\n",
      "Epoch 48/300\n",
      "408/409 [============================>.] - ETA: 0s - loss: 0.4061 - binary_crossentropy: 0.4061\n",
      "Epoch 48: val_binary_crossentropy did not improve from 1.01269\n",
      "409/409 [==============================] - 9s 22ms/step - loss: 0.4060 - binary_crossentropy: 0.4060 - val_loss: 1.0612 - val_binary_crossentropy: 1.0612\n",
      "Epoch 49/300\n",
      "407/409 [============================>.] - ETA: 0s - loss: 0.4057 - binary_crossentropy: 0.4057\n",
      "Epoch 49: val_binary_crossentropy did not improve from 1.01269\n",
      "409/409 [==============================] - 9s 22ms/step - loss: 0.4057 - binary_crossentropy: 0.4057 - val_loss: 1.0922 - val_binary_crossentropy: 1.0922\n",
      "Epoch 50/300\n",
      "407/409 [============================>.] - ETA: 0s - loss: 0.4035 - binary_crossentropy: 0.4035\n",
      "Epoch 50: val_binary_crossentropy did not improve from 1.01269\n",
      "409/409 [==============================] - 9s 23ms/step - loss: 0.4036 - binary_crossentropy: 0.4036 - val_loss: 1.1253 - val_binary_crossentropy: 1.1253\n",
      "Epoch 51/300\n",
      "407/409 [============================>.] - ETA: 0s - loss: 0.4042 - binary_crossentropy: 0.4042\n",
      "Epoch 51: val_binary_crossentropy did not improve from 1.01269\n",
      "409/409 [==============================] - 10s 24ms/step - loss: 0.4042 - binary_crossentropy: 0.4042 - val_loss: 1.1330 - val_binary_crossentropy: 1.1330\n",
      "Epoch 52/300\n",
      "407/409 [============================>.] - ETA: 0s - loss: 0.4022 - binary_crossentropy: 0.4022\n",
      "Epoch 52: val_binary_crossentropy did not improve from 1.01269\n",
      "409/409 [==============================] - 10s 24ms/step - loss: 0.4023 - binary_crossentropy: 0.4023 - val_loss: 1.1100 - val_binary_crossentropy: 1.1100\n",
      "Epoch 53/300\n",
      "407/409 [============================>.] - ETA: 0s - loss: 0.4014 - binary_crossentropy: 0.4014\n",
      "Epoch 53: val_binary_crossentropy did not improve from 1.01269\n",
      "409/409 [==============================] - 9s 22ms/step - loss: 0.4013 - binary_crossentropy: 0.4013 - val_loss: 1.1011 - val_binary_crossentropy: 1.1011\n",
      "Epoch 54/300\n",
      "407/409 [============================>.] - ETA: 0s - loss: 0.4013 - binary_crossentropy: 0.4013\n",
      "Epoch 54: val_binary_crossentropy did not improve from 1.01269\n",
      "409/409 [==============================] - 10s 24ms/step - loss: 0.4014 - binary_crossentropy: 0.4014 - val_loss: 1.1149 - val_binary_crossentropy: 1.1149\n",
      "Epoch 55/300\n",
      "408/409 [============================>.] - ETA: 0s - loss: 0.4002 - binary_crossentropy: 0.4002\n",
      "Epoch 55: val_binary_crossentropy did not improve from 1.01269\n",
      "409/409 [==============================] - 10s 24ms/step - loss: 0.4003 - binary_crossentropy: 0.4003 - val_loss: 1.0848 - val_binary_crossentropy: 1.0848\n",
      "Epoch 56/300\n",
      "407/409 [============================>.] - ETA: 0s - loss: 0.4001 - binary_crossentropy: 0.4001\n",
      "Epoch 56: val_binary_crossentropy did not improve from 1.01269\n",
      "409/409 [==============================] - 10s 24ms/step - loss: 0.4001 - binary_crossentropy: 0.4001 - val_loss: 1.1872 - val_binary_crossentropy: 1.1872\n",
      "Epoch 57/300\n",
      "409/409 [==============================] - ETA: 0s - loss: 0.3993 - binary_crossentropy: 0.3993\n",
      "Epoch 57: val_binary_crossentropy did not improve from 1.01269\n",
      "409/409 [==============================] - 10s 24ms/step - loss: 0.3993 - binary_crossentropy: 0.3993 - val_loss: 1.1253 - val_binary_crossentropy: 1.1253\n",
      "Epoch 58/300\n",
      "408/409 [============================>.] - ETA: 0s - loss: 0.3984 - binary_crossentropy: 0.3984\n",
      "Epoch 58: val_binary_crossentropy did not improve from 1.01269\n",
      "409/409 [==============================] - 9s 23ms/step - loss: 0.3984 - binary_crossentropy: 0.3984 - val_loss: 1.1460 - val_binary_crossentropy: 1.1460\n",
      "Epoch 59/300\n",
      "407/409 [============================>.] - ETA: 0s - loss: 0.3978 - binary_crossentropy: 0.3978\n",
      "Epoch 59: val_binary_crossentropy did not improve from 1.01269\n",
      "409/409 [==============================] - 9s 23ms/step - loss: 0.3978 - binary_crossentropy: 0.3978 - val_loss: 1.1475 - val_binary_crossentropy: 1.1475\n",
      "Epoch 60/300\n",
      "407/409 [============================>.] - ETA: 0s - loss: 0.3968 - binary_crossentropy: 0.3968\n",
      "Epoch 60: val_binary_crossentropy did not improve from 1.01269\n",
      "409/409 [==============================] - 9s 23ms/step - loss: 0.3967 - binary_crossentropy: 0.3967 - val_loss: 1.1615 - val_binary_crossentropy: 1.1615\n",
      "Epoch 61/300\n",
      "408/409 [============================>.] - ETA: 0s - loss: 0.3967 - binary_crossentropy: 0.3967\n",
      "Epoch 61: val_binary_crossentropy did not improve from 1.01269\n",
      "409/409 [==============================] - 9s 23ms/step - loss: 0.3966 - binary_crossentropy: 0.3966 - val_loss: 1.1686 - val_binary_crossentropy: 1.1686\n",
      "Epoch 62/300\n",
      "407/409 [============================>.] - ETA: 0s - loss: 0.3954 - binary_crossentropy: 0.3954\n",
      "Epoch 62: val_binary_crossentropy did not improve from 1.01269\n",
      "409/409 [==============================] - 9s 23ms/step - loss: 0.3953 - binary_crossentropy: 0.3953 - val_loss: 1.1949 - val_binary_crossentropy: 1.1949\n"
     ]
    }
   ],
   "source": [
    "history = model.fit([sdscaled_train_q1, sdscaled_train_q2], train_labels, batch_size=BATCH_SIZE, epochs=NUM_EPOCHS,\n",
    "                    validation_split=VALIDATION_SPLIT, callbacks=[es_callback, cp_callback])"
   ]
  },
  {
   "attachments": {},
   "cell_type": "markdown",
   "metadata": {},
   "source": [
    "### 🌈**Predict Test Data and go to Kaggle!!**\n",
    "\n",
    "\n",
    "**😎예측을 위한 Test 전처리 data load**"
   ]
  },
  {
   "cell_type": "code",
   "execution_count": 54,
   "metadata": {},
   "outputs": [
    {
     "name": "stdout",
     "output_type": "stream",
     "text": [
      "[Q1 Shape] : (2345796, 128), [Q2 Shape] : (2345796, 128), [TEST ID] : (2345796,),\n"
     ]
    }
   ],
   "source": [
    "PREPROCESSED_PATH = os.path.join(os.getcwd(), 'preprocessed')\n",
    "\n",
    "TEST_ID = 'test_id_1d.npy'\n",
    "TEST_Q1_DATA = 'q1_test_1d.npy'\n",
    "TEST_Q2_DATA = 'q1_test_1d.npy'\n",
    "\n",
    "test_q1_data = np.load(open(os.path.join(PREPROCESSED_PATH, TEST_Q1_DATA), 'rb'))\n",
    "test_q2_data = np.load(open(os.path.join(PREPROCESSED_PATH, TEST_Q2_DATA), 'rb'))\n",
    "test_id = np.load(open(os.path.join(PREPROCESSED_PATH, TEST_ID), 'rb'))\n",
    "\n",
    "print(f'[Q1 Shape] : {test_q1_data.shape}, [Q2 Shape] : {test_q2_data.shape}, [TEST ID] : {test_id.shape},')"
   ]
  },
  {
   "attachments": {},
   "cell_type": "markdown",
   "metadata": {},
   "source": [
    "**😎Scaler 적용**"
   ]
  },
  {
   "cell_type": "code",
   "execution_count": 55,
   "metadata": {},
   "outputs": [],
   "source": [
    "test_q1_data = sdscaler.transform(test_q1_data)\n",
    "test_q2_data = sdscaler.transform(test_q2_data)"
   ]
  },
  {
   "attachments": {},
   "cell_type": "markdown",
   "metadata": {},
   "source": [
    "**😎BEST Model 예측**"
   ]
  },
  {
   "cell_type": "code",
   "execution_count": 56,
   "metadata": {},
   "outputs": [],
   "source": [
    "MODEL_PARAMS = os.path.join(MODEL_PATH, 'wide_and_deep.h5')\n",
    "\n",
    "wide_and_deep_model = Wide_And_Deep(**kwargs)\n",
    "wide_and_deep_model.build(input_shape=(None, 2, 128))\n",
    "wide_and_deep_model.load_weights(MODEL_PARAMS)"
   ]
  },
  {
   "cell_type": "code",
   "execution_count": 57,
   "metadata": {},
   "outputs": [
    {
     "name": "stdout",
     "output_type": "stream",
     "text": [
      "73307/73307 [==============================] - 571s 8ms/step\n"
     ]
    }
   ],
   "source": [
    "wide_and_deep_test_predict_proba = wide_and_deep_model.predict([test_q1_data, test_q2_data])"
   ]
  },
  {
   "attachments": {},
   "cell_type": "markdown",
   "metadata": {},
   "source": [
    "**😎Kaggle 제출 파일 생성**"
   ]
  },
  {
   "cell_type": "code",
   "execution_count": 58,
   "metadata": {},
   "outputs": [],
   "source": [
    "prob = [x[0] for x in wide_and_deep_test_predict_proba]\n",
    "output = pd.DataFrame({'test_id' : test_id, 'is_duplicate' : prob})\n",
    "\n",
    "SUBMISSION_PATH = os.path.join(os.getcwd(), 'submission')\n",
    "output.to_csv(os.path.join(SUBMISSION_PATH, 'submission_wide_and_deep.csv'), index=False)"
   ]
  },
  {
   "attachments": {},
   "cell_type": "markdown",
   "metadata": {},
   "source": [
    "### 🌈 **log loss : private(0.4028), public(0.39897)**\n",
    "\n",
    "![image](./image/wide_and_deep_1.JPG)\n",
    "\n",
    "\n",
    "**💫점수와 가장 가까운 등수**\n",
    "\n",
    "![image](./image/wide_and_deep_near_1.JPG)\n"
   ]
  },
  {
   "attachments": {},
   "cell_type": "markdown",
   "metadata": {},
   "source": [
    "## 🤡**Model 3 : SVD + Wide and Deep**"
   ]
  },
  {
   "attachments": {},
   "cell_type": "markdown",
   "metadata": {},
   "source": [
    "### 🌈**Not Concatenate 1D Train Data**"
   ]
  },
  {
   "cell_type": "code",
   "execution_count": 98,
   "metadata": {},
   "outputs": [
    {
     "name": "stdout",
     "output_type": "stream",
     "text": [
      "[Q1 Shape] : (298526, 128), [Q2 Shape] : (298526, 128)\n"
     ]
    }
   ],
   "source": [
    "PREPROCESSED_PATH = os.path.join(os.getcwd(), 'preprocessed')\n",
    "TRAIN_Q1_DATA = 'q1_train_1d.npy'\n",
    "TRAIN_Q2_DATA = 'q2_train_1d.npy'\n",
    "TRAIN_LABEL_DATA = 'label_train_1d.npy'\n",
    "\n",
    "train_q1_data = np.load(open(os.path.join(PREPROCESSED_PATH, TRAIN_Q1_DATA), 'rb'))\n",
    "train_q2_data = np.load(open(os.path.join(PREPROCESSED_PATH, TRAIN_Q2_DATA), 'rb'))\n",
    "train_labels = np.load(open(os.path.join(PREPROCESSED_PATH, TRAIN_LABEL_DATA), 'rb'))\n",
    "\n",
    "print(f'[Q1 Shape] : {train_q1_data.shape}, [Q2 Shape] : {train_q2_data.shape}')"
   ]
  },
  {
   "cell_type": "code",
   "execution_count": 99,
   "metadata": {},
   "outputs": [
    {
     "data": {
      "text/plain": [
       "(597052, 128)"
      ]
     },
     "execution_count": 99,
     "metadata": {},
     "output_type": "execute_result"
    }
   ],
   "source": [
    "train_inputs = np.concatenate([train_q1_data, train_q2_data], axis=0)\n",
    "train_inputs.shape"
   ]
  },
  {
   "attachments": {},
   "cell_type": "markdown",
   "metadata": {},
   "source": [
    "### 🌈**SVD Train Data**"
   ]
  },
  {
   "cell_type": "code",
   "execution_count": 100,
   "metadata": {},
   "outputs": [
    {
     "data": {
      "text/html": [
       "<style>#sk-container-id-3 {color: black;background-color: white;}#sk-container-id-3 pre{padding: 0;}#sk-container-id-3 div.sk-toggleable {background-color: white;}#sk-container-id-3 label.sk-toggleable__label {cursor: pointer;display: block;width: 100%;margin-bottom: 0;padding: 0.3em;box-sizing: border-box;text-align: center;}#sk-container-id-3 label.sk-toggleable__label-arrow:before {content: \"▸\";float: left;margin-right: 0.25em;color: #696969;}#sk-container-id-3 label.sk-toggleable__label-arrow:hover:before {color: black;}#sk-container-id-3 div.sk-estimator:hover label.sk-toggleable__label-arrow:before {color: black;}#sk-container-id-3 div.sk-toggleable__content {max-height: 0;max-width: 0;overflow: hidden;text-align: left;background-color: #f0f8ff;}#sk-container-id-3 div.sk-toggleable__content pre {margin: 0.2em;color: black;border-radius: 0.25em;background-color: #f0f8ff;}#sk-container-id-3 input.sk-toggleable__control:checked~div.sk-toggleable__content {max-height: 200px;max-width: 100%;overflow: auto;}#sk-container-id-3 input.sk-toggleable__control:checked~label.sk-toggleable__label-arrow:before {content: \"▾\";}#sk-container-id-3 div.sk-estimator input.sk-toggleable__control:checked~label.sk-toggleable__label {background-color: #d4ebff;}#sk-container-id-3 div.sk-label input.sk-toggleable__control:checked~label.sk-toggleable__label {background-color: #d4ebff;}#sk-container-id-3 input.sk-hidden--visually {border: 0;clip: rect(1px 1px 1px 1px);clip: rect(1px, 1px, 1px, 1px);height: 1px;margin: -1px;overflow: hidden;padding: 0;position: absolute;width: 1px;}#sk-container-id-3 div.sk-estimator {font-family: monospace;background-color: #f0f8ff;border: 1px dotted black;border-radius: 0.25em;box-sizing: border-box;margin-bottom: 0.5em;}#sk-container-id-3 div.sk-estimator:hover {background-color: #d4ebff;}#sk-container-id-3 div.sk-parallel-item::after {content: \"\";width: 100%;border-bottom: 1px solid gray;flex-grow: 1;}#sk-container-id-3 div.sk-label:hover label.sk-toggleable__label {background-color: #d4ebff;}#sk-container-id-3 div.sk-serial::before {content: \"\";position: absolute;border-left: 1px solid gray;box-sizing: border-box;top: 0;bottom: 0;left: 50%;z-index: 0;}#sk-container-id-3 div.sk-serial {display: flex;flex-direction: column;align-items: center;background-color: white;padding-right: 0.2em;padding-left: 0.2em;position: relative;}#sk-container-id-3 div.sk-item {position: relative;z-index: 1;}#sk-container-id-3 div.sk-parallel {display: flex;align-items: stretch;justify-content: center;background-color: white;position: relative;}#sk-container-id-3 div.sk-item::before, #sk-container-id-3 div.sk-parallel-item::before {content: \"\";position: absolute;border-left: 1px solid gray;box-sizing: border-box;top: 0;bottom: 0;left: 50%;z-index: -1;}#sk-container-id-3 div.sk-parallel-item {display: flex;flex-direction: column;z-index: 1;position: relative;background-color: white;}#sk-container-id-3 div.sk-parallel-item:first-child::after {align-self: flex-end;width: 50%;}#sk-container-id-3 div.sk-parallel-item:last-child::after {align-self: flex-start;width: 50%;}#sk-container-id-3 div.sk-parallel-item:only-child::after {width: 0;}#sk-container-id-3 div.sk-dashed-wrapped {border: 1px dashed gray;margin: 0 0.4em 0.5em 0.4em;box-sizing: border-box;padding-bottom: 0.4em;background-color: white;}#sk-container-id-3 div.sk-label label {font-family: monospace;font-weight: bold;display: inline-block;line-height: 1.2em;}#sk-container-id-3 div.sk-label-container {text-align: center;}#sk-container-id-3 div.sk-container {/* jupyter's `normalize.less` sets `[hidden] { display: none; }` but bootstrap.min.css set `[hidden] { display: none !important; }` so we also need the `!important` here to be able to override the default hidden behavior on the sphinx rendered scikit-learn.org. See: https://github.com/scikit-learn/scikit-learn/issues/21755 */display: inline-block !important;position: relative;}#sk-container-id-3 div.sk-text-repr-fallback {display: none;}</style><div id=\"sk-container-id-3\" class=\"sk-top-container\"><div class=\"sk-text-repr-fallback\"><pre>TruncatedSVD(n_components=64)</pre><b>In a Jupyter environment, please rerun this cell to show the HTML representation or trust the notebook. <br />On GitHub, the HTML representation is unable to render, please try loading this page with nbviewer.org.</b></div><div class=\"sk-container\" hidden><div class=\"sk-item\"><div class=\"sk-estimator sk-toggleable\"><input class=\"sk-toggleable__control sk-hidden--visually\" id=\"sk-estimator-id-3\" type=\"checkbox\" checked><label for=\"sk-estimator-id-3\" class=\"sk-toggleable__label sk-toggleable__label-arrow\">TruncatedSVD</label><div class=\"sk-toggleable__content\"><pre>TruncatedSVD(n_components=64)</pre></div></div></div></div></div>"
      ],
      "text/plain": [
       "TruncatedSVD(n_components=64)"
      ]
     },
     "execution_count": 100,
     "metadata": {},
     "output_type": "execute_result"
    }
   ],
   "source": [
    "from sklearn.decomposition import TruncatedSVD\n",
    "\n",
    "tsvd = TruncatedSVD(n_components=64)\n",
    "tsvd.fit(train_inputs)\n",
    "joblib.dump(tsvd, os.path.join(MODEL_PATH, 'TSVD.joblib'))"
   ]
  },
  {
   "cell_type": "code",
   "execution_count": 101,
   "metadata": {},
   "outputs": [],
   "source": [
    "train_q1_data = tsvd.transform(train_q1_data)\n",
    "train_q2_data = tsvd.transform(train_q2_data)"
   ]
  },
  {
   "cell_type": "code",
   "execution_count": 102,
   "metadata": {},
   "outputs": [
    {
     "name": "stdout",
     "output_type": "stream",
     "text": [
      "[Q1 Shape] : (298526, 64), [Q2 Shape] : (298526, 64)\n"
     ]
    }
   ],
   "source": [
    "print(f'[Q1 Shape] : {train_q1_data.shape}, [Q2 Shape] : {train_q2_data.shape}')"
   ]
  },
  {
   "attachments": {},
   "cell_type": "markdown",
   "metadata": {},
   "source": [
    "### 🌈**Standard Scaling**"
   ]
  },
  {
   "cell_type": "code",
   "execution_count": 79,
   "metadata": {},
   "outputs": [],
   "source": [
    "from sklearn.preprocessing import StandardScaler\n",
    "\n",
    "svd_sdscaler = StandardScaler()\n",
    "svd_sdscaler.fit(np.concatenate([train_q1_data,train_q2_data]))\n",
    "joblib.dump(svd_sdscaler, os.path.join(MODEL_PATH, 'svd_scaler.joblib'))\n",
    "\n",
    "sdscaled_train_q1 = svd_sdscaler.transform(train_q1_data)\n",
    "sdscaled_train_q2 = svd_sdscaler.transform(train_q2_data)"
   ]
  },
  {
   "cell_type": "code",
   "execution_count": 103,
   "metadata": {},
   "outputs": [
    {
     "name": "stdout",
     "output_type": "stream",
     "text": [
      "[Q1 Shape] : (298526, 64), [Q2 Shape] : (298526, 64)\n"
     ]
    }
   ],
   "source": [
    "print(f'[Q1 Shape] : {train_q1_data.shape}, [Q2 Shape] : {train_q2_data.shape}')"
   ]
  },
  {
   "attachments": {},
   "cell_type": "markdown",
   "metadata": {},
   "source": [
    "### 🌈**Train/Test Split**\n",
    "### 🌈**Wide and Deep Model**"
   ]
  },
  {
   "cell_type": "code",
   "execution_count": 104,
   "metadata": {},
   "outputs": [],
   "source": [
    "# Build Model\n",
    "model = Wide_And_Deep(**kwargs)\n",
    "model.compile(optimizer=tf.keras.optimizers.Adam(),\n",
    "                loss = tf.keras.losses.BinaryCrossentropy(),\n",
    "                metrics=[tf.keras.metrics.BinaryCrossentropy(name='binary_crossentropy')])\n",
    "\n",
    "# callback funtion\n",
    "es_callback = EarlyStopping(monitor='val_binary_crossentropy', min_delta = 0.001, patience=30)\n",
    "checkpoint_path = os.path.join(MODEL_PATH, 'svd_wide_and_deep.h5')\n",
    "cp_callback = ModelCheckpoint(checkpoint_path, monitor='val_binary_crossentropy', verbose=1, save_best_only=True, save_weights_only=True)"
   ]
  },
  {
   "cell_type": "code",
   "execution_count": 105,
   "metadata": {},
   "outputs": [
    {
     "name": "stdout",
     "output_type": "stream",
     "text": [
      "Epoch 1/300\n",
      "409/409 [==============================] - ETA: 0s - loss: 0.5937 - binary_crossentropy: 0.5937\n",
      "Epoch 1: val_binary_crossentropy improved from inf to 1.45596, saving model to c:\\Users\\user\\Desktop\\github\\Kaggle\\Quora Quetions Pairs\\model\\svd_wide_and_deep.h5\n",
      "409/409 [==============================] - 11s 22ms/step - loss: 0.5937 - binary_crossentropy: 0.5937 - val_loss: 1.4560 - val_binary_crossentropy: 1.4560\n",
      "Epoch 2/300\n",
      "409/409 [==============================] - ETA: 0s - loss: 0.5144 - binary_crossentropy: 0.5144\n",
      "Epoch 2: val_binary_crossentropy improved from 1.45596 to 1.30619, saving model to c:\\Users\\user\\Desktop\\github\\Kaggle\\Quora Quetions Pairs\\model\\svd_wide_and_deep.h5\n",
      "409/409 [==============================] - 8s 21ms/step - loss: 0.5144 - binary_crossentropy: 0.5144 - val_loss: 1.3062 - val_binary_crossentropy: 1.3062\n",
      "Epoch 3/300\n",
      "407/409 [============================>.] - ETA: 0s - loss: 0.4961 - binary_crossentropy: 0.4961\n",
      "Epoch 3: val_binary_crossentropy improved from 1.30619 to 1.23896, saving model to c:\\Users\\user\\Desktop\\github\\Kaggle\\Quora Quetions Pairs\\model\\svd_wide_and_deep.h5\n",
      "409/409 [==============================] - 8s 20ms/step - loss: 0.4961 - binary_crossentropy: 0.4961 - val_loss: 1.2390 - val_binary_crossentropy: 1.2390\n",
      "Epoch 4/300\n",
      "406/409 [============================>.] - ETA: 0s - loss: 0.4859 - binary_crossentropy: 0.4859\n",
      "Epoch 4: val_binary_crossentropy improved from 1.23896 to 1.15111, saving model to c:\\Users\\user\\Desktop\\github\\Kaggle\\Quora Quetions Pairs\\model\\svd_wide_and_deep.h5\n",
      "409/409 [==============================] - 8s 19ms/step - loss: 0.4858 - binary_crossentropy: 0.4858 - val_loss: 1.1511 - val_binary_crossentropy: 1.1511\n",
      "Epoch 5/300\n",
      "408/409 [============================>.] - ETA: 0s - loss: 0.4784 - binary_crossentropy: 0.4784\n",
      "Epoch 5: val_binary_crossentropy improved from 1.15111 to 1.13131, saving model to c:\\Users\\user\\Desktop\\github\\Kaggle\\Quora Quetions Pairs\\model\\svd_wide_and_deep.h5\n",
      "409/409 [==============================] - 8s 19ms/step - loss: 0.4784 - binary_crossentropy: 0.4784 - val_loss: 1.1313 - val_binary_crossentropy: 1.1313\n",
      "Epoch 6/300\n",
      "409/409 [==============================] - ETA: 0s - loss: 0.4726 - binary_crossentropy: 0.4726\n",
      "Epoch 6: val_binary_crossentropy improved from 1.13131 to 1.08210, saving model to c:\\Users\\user\\Desktop\\github\\Kaggle\\Quora Quetions Pairs\\model\\svd_wide_and_deep.h5\n",
      "409/409 [==============================] - 8s 20ms/step - loss: 0.4726 - binary_crossentropy: 0.4726 - val_loss: 1.0821 - val_binary_crossentropy: 1.0821\n",
      "Epoch 7/300\n",
      "406/409 [============================>.] - ETA: 0s - loss: 0.4694 - binary_crossentropy: 0.4694\n",
      "Epoch 7: val_binary_crossentropy did not improve from 1.08210\n",
      "409/409 [==============================] - 8s 19ms/step - loss: 0.4694 - binary_crossentropy: 0.4694 - val_loss: 1.0900 - val_binary_crossentropy: 1.0900\n",
      "Epoch 8/300\n",
      "407/409 [============================>.] - ETA: 0s - loss: 0.4650 - binary_crossentropy: 0.4650\n",
      "Epoch 8: val_binary_crossentropy improved from 1.08210 to 1.05648, saving model to c:\\Users\\user\\Desktop\\github\\Kaggle\\Quora Quetions Pairs\\model\\svd_wide_and_deep.h5\n",
      "409/409 [==============================] - 8s 20ms/step - loss: 0.4650 - binary_crossentropy: 0.4650 - val_loss: 1.0565 - val_binary_crossentropy: 1.0565\n",
      "Epoch 9/300\n",
      "406/409 [============================>.] - ETA: 0s - loss: 0.4628 - binary_crossentropy: 0.4628\n",
      "Epoch 9: val_binary_crossentropy did not improve from 1.05648\n",
      "409/409 [==============================] - 8s 19ms/step - loss: 0.4628 - binary_crossentropy: 0.4628 - val_loss: 1.1138 - val_binary_crossentropy: 1.1138\n",
      "Epoch 10/300\n",
      "406/409 [============================>.] - ETA: 0s - loss: 0.4607 - binary_crossentropy: 0.4607\n",
      "Epoch 10: val_binary_crossentropy improved from 1.05648 to 1.05465, saving model to c:\\Users\\user\\Desktop\\github\\Kaggle\\Quora Quetions Pairs\\model\\svd_wide_and_deep.h5\n",
      "409/409 [==============================] - 8s 20ms/step - loss: 0.4605 - binary_crossentropy: 0.4605 - val_loss: 1.0546 - val_binary_crossentropy: 1.0546\n",
      "Epoch 11/300\n",
      "407/409 [============================>.] - ETA: 0s - loss: 0.4587 - binary_crossentropy: 0.4587\n",
      "Epoch 11: val_binary_crossentropy improved from 1.05465 to 1.04593, saving model to c:\\Users\\user\\Desktop\\github\\Kaggle\\Quora Quetions Pairs\\model\\svd_wide_and_deep.h5\n",
      "409/409 [==============================] - 8s 20ms/step - loss: 0.4587 - binary_crossentropy: 0.4587 - val_loss: 1.0459 - val_binary_crossentropy: 1.0459\n",
      "Epoch 12/300\n",
      "407/409 [============================>.] - ETA: 0s - loss: 0.4554 - binary_crossentropy: 0.4554\n",
      "Epoch 12: val_binary_crossentropy did not improve from 1.04593\n",
      "409/409 [==============================] - 8s 20ms/step - loss: 0.4556 - binary_crossentropy: 0.4556 - val_loss: 1.0547 - val_binary_crossentropy: 1.0547\n",
      "Epoch 13/300\n",
      "409/409 [==============================] - ETA: 0s - loss: 0.4540 - binary_crossentropy: 0.4540\n",
      "Epoch 13: val_binary_crossentropy improved from 1.04593 to 1.04407, saving model to c:\\Users\\user\\Desktop\\github\\Kaggle\\Quora Quetions Pairs\\model\\svd_wide_and_deep.h5\n",
      "409/409 [==============================] - 8s 20ms/step - loss: 0.4540 - binary_crossentropy: 0.4540 - val_loss: 1.0441 - val_binary_crossentropy: 1.0441\n",
      "Epoch 14/300\n",
      "408/409 [============================>.] - ETA: 0s - loss: 0.4529 - binary_crossentropy: 0.4529\n",
      "Epoch 14: val_binary_crossentropy improved from 1.04407 to 1.00058, saving model to c:\\Users\\user\\Desktop\\github\\Kaggle\\Quora Quetions Pairs\\model\\svd_wide_and_deep.h5\n",
      "409/409 [==============================] - 8s 20ms/step - loss: 0.4529 - binary_crossentropy: 0.4529 - val_loss: 1.0006 - val_binary_crossentropy: 1.0006\n",
      "Epoch 15/300\n",
      "408/409 [============================>.] - ETA: 0s - loss: 0.4499 - binary_crossentropy: 0.4499\n",
      "Epoch 15: val_binary_crossentropy did not improve from 1.00058\n",
      "409/409 [==============================] - 8s 19ms/step - loss: 0.4499 - binary_crossentropy: 0.4499 - val_loss: 1.0287 - val_binary_crossentropy: 1.0287\n",
      "Epoch 16/300\n",
      "406/409 [============================>.] - ETA: 0s - loss: 0.4486 - binary_crossentropy: 0.4486\n",
      "Epoch 16: val_binary_crossentropy did not improve from 1.00058\n",
      "409/409 [==============================] - 8s 20ms/step - loss: 0.4485 - binary_crossentropy: 0.4485 - val_loss: 1.0544 - val_binary_crossentropy: 1.0544\n",
      "Epoch 17/300\n",
      "408/409 [============================>.] - ETA: 0s - loss: 0.4476 - binary_crossentropy: 0.4476\n",
      "Epoch 17: val_binary_crossentropy did not improve from 1.00058\n",
      "409/409 [==============================] - 8s 20ms/step - loss: 0.4476 - binary_crossentropy: 0.4476 - val_loss: 1.0206 - val_binary_crossentropy: 1.0206\n",
      "Epoch 18/300\n",
      "406/409 [============================>.] - ETA: 0s - loss: 0.4451 - binary_crossentropy: 0.4451\n",
      "Epoch 18: val_binary_crossentropy did not improve from 1.00058\n",
      "409/409 [==============================] - 8s 19ms/step - loss: 0.4450 - binary_crossentropy: 0.4450 - val_loss: 1.0084 - val_binary_crossentropy: 1.0084\n",
      "Epoch 19/300\n",
      "407/409 [============================>.] - ETA: 0s - loss: 0.4444 - binary_crossentropy: 0.4444\n",
      "Epoch 19: val_binary_crossentropy did not improve from 1.00058\n",
      "409/409 [==============================] - 8s 20ms/step - loss: 0.4444 - binary_crossentropy: 0.4444 - val_loss: 1.0245 - val_binary_crossentropy: 1.0245\n",
      "Epoch 20/300\n",
      "406/409 [============================>.] - ETA: 0s - loss: 0.4433 - binary_crossentropy: 0.4433\n",
      "Epoch 20: val_binary_crossentropy did not improve from 1.00058\n",
      "409/409 [==============================] - 8s 20ms/step - loss: 0.4432 - binary_crossentropy: 0.4432 - val_loss: 1.0019 - val_binary_crossentropy: 1.0019\n",
      "Epoch 21/300\n",
      "407/409 [============================>.] - ETA: 0s - loss: 0.4425 - binary_crossentropy: 0.4425\n",
      "Epoch 21: val_binary_crossentropy did not improve from 1.00058\n",
      "409/409 [==============================] - 8s 20ms/step - loss: 0.4424 - binary_crossentropy: 0.4424 - val_loss: 1.0232 - val_binary_crossentropy: 1.0232\n",
      "Epoch 22/300\n",
      "406/409 [============================>.] - ETA: 0s - loss: 0.4410 - binary_crossentropy: 0.4410\n",
      "Epoch 22: val_binary_crossentropy improved from 1.00058 to 0.99951, saving model to c:\\Users\\user\\Desktop\\github\\Kaggle\\Quora Quetions Pairs\\model\\svd_wide_and_deep.h5\n",
      "409/409 [==============================] - 8s 20ms/step - loss: 0.4410 - binary_crossentropy: 0.4410 - val_loss: 0.9995 - val_binary_crossentropy: 0.9995\n",
      "Epoch 23/300\n",
      "406/409 [============================>.] - ETA: 0s - loss: 0.4392 - binary_crossentropy: 0.4392\n",
      "Epoch 23: val_binary_crossentropy did not improve from 0.99951\n",
      "409/409 [==============================] - 8s 19ms/step - loss: 0.4392 - binary_crossentropy: 0.4392 - val_loss: 1.0221 - val_binary_crossentropy: 1.0221\n",
      "Epoch 24/300\n",
      "406/409 [============================>.] - ETA: 0s - loss: 0.4390 - binary_crossentropy: 0.4390\n",
      "Epoch 24: val_binary_crossentropy improved from 0.99951 to 0.97185, saving model to c:\\Users\\user\\Desktop\\github\\Kaggle\\Quora Quetions Pairs\\model\\svd_wide_and_deep.h5\n",
      "409/409 [==============================] - 8s 20ms/step - loss: 0.4391 - binary_crossentropy: 0.4391 - val_loss: 0.9719 - val_binary_crossentropy: 0.9719\n",
      "Epoch 25/300\n",
      "407/409 [============================>.] - ETA: 0s - loss: 0.4375 - binary_crossentropy: 0.4375\n",
      "Epoch 25: val_binary_crossentropy did not improve from 0.97185\n",
      "409/409 [==============================] - 8s 20ms/step - loss: 0.4375 - binary_crossentropy: 0.4375 - val_loss: 1.0190 - val_binary_crossentropy: 1.0190\n",
      "Epoch 26/300\n",
      "408/409 [============================>.] - ETA: 0s - loss: 0.4357 - binary_crossentropy: 0.4357\n",
      "Epoch 26: val_binary_crossentropy did not improve from 0.97185\n",
      "409/409 [==============================] - 8s 20ms/step - loss: 0.4357 - binary_crossentropy: 0.4357 - val_loss: 1.0033 - val_binary_crossentropy: 1.0033\n",
      "Epoch 27/300\n",
      "407/409 [============================>.] - ETA: 0s - loss: 0.4358 - binary_crossentropy: 0.4358\n",
      "Epoch 27: val_binary_crossentropy did not improve from 0.97185\n",
      "409/409 [==============================] - 8s 20ms/step - loss: 0.4358 - binary_crossentropy: 0.4358 - val_loss: 0.9996 - val_binary_crossentropy: 0.9996\n",
      "Epoch 28/300\n",
      "408/409 [============================>.] - ETA: 0s - loss: 0.4334 - binary_crossentropy: 0.4334\n",
      "Epoch 28: val_binary_crossentropy did not improve from 0.97185\n",
      "409/409 [==============================] - 8s 20ms/step - loss: 0.4334 - binary_crossentropy: 0.4334 - val_loss: 1.0017 - val_binary_crossentropy: 1.0017\n",
      "Epoch 29/300\n",
      "407/409 [============================>.] - ETA: 0s - loss: 0.4334 - binary_crossentropy: 0.4334\n",
      "Epoch 29: val_binary_crossentropy did not improve from 0.97185\n",
      "409/409 [==============================] - 8s 19ms/step - loss: 0.4334 - binary_crossentropy: 0.4334 - val_loss: 1.0591 - val_binary_crossentropy: 1.0591\n",
      "Epoch 30/300\n",
      "408/409 [============================>.] - ETA: 0s - loss: 0.4333 - binary_crossentropy: 0.4333\n",
      "Epoch 30: val_binary_crossentropy did not improve from 0.97185\n",
      "409/409 [==============================] - 8s 20ms/step - loss: 0.4333 - binary_crossentropy: 0.4333 - val_loss: 1.0414 - val_binary_crossentropy: 1.0414\n",
      "Epoch 31/300\n",
      "409/409 [==============================] - ETA: 0s - loss: 0.4329 - binary_crossentropy: 0.4329\n",
      "Epoch 31: val_binary_crossentropy did not improve from 0.97185\n",
      "409/409 [==============================] - 8s 20ms/step - loss: 0.4329 - binary_crossentropy: 0.4329 - val_loss: 1.0775 - val_binary_crossentropy: 1.0775\n",
      "Epoch 32/300\n",
      "406/409 [============================>.] - ETA: 0s - loss: 0.4309 - binary_crossentropy: 0.4309\n",
      "Epoch 32: val_binary_crossentropy did not improve from 0.97185\n",
      "409/409 [==============================] - 8s 20ms/step - loss: 0.4309 - binary_crossentropy: 0.4309 - val_loss: 0.9926 - val_binary_crossentropy: 0.9926\n",
      "Epoch 33/300\n",
      "407/409 [============================>.] - ETA: 0s - loss: 0.4297 - binary_crossentropy: 0.4297\n",
      "Epoch 33: val_binary_crossentropy did not improve from 0.97185\n",
      "409/409 [==============================] - 8s 21ms/step - loss: 0.4297 - binary_crossentropy: 0.4297 - val_loss: 1.0725 - val_binary_crossentropy: 1.0725\n",
      "Epoch 34/300\n",
      "408/409 [============================>.] - ETA: 0s - loss: 0.4296 - binary_crossentropy: 0.4296\n",
      "Epoch 34: val_binary_crossentropy did not improve from 0.97185\n",
      "409/409 [==============================] - 8s 20ms/step - loss: 0.4296 - binary_crossentropy: 0.4296 - val_loss: 1.0256 - val_binary_crossentropy: 1.0256\n",
      "Epoch 35/300\n",
      "408/409 [============================>.] - ETA: 0s - loss: 0.4291 - binary_crossentropy: 0.4291\n",
      "Epoch 35: val_binary_crossentropy did not improve from 0.97185\n",
      "409/409 [==============================] - 8s 19ms/step - loss: 0.4291 - binary_crossentropy: 0.4291 - val_loss: 1.0484 - val_binary_crossentropy: 1.0484\n",
      "Epoch 36/300\n",
      "406/409 [============================>.] - ETA: 0s - loss: 0.4280 - binary_crossentropy: 0.4280\n",
      "Epoch 36: val_binary_crossentropy did not improve from 0.97185\n",
      "409/409 [==============================] - 8s 20ms/step - loss: 0.4279 - binary_crossentropy: 0.4279 - val_loss: 1.0150 - val_binary_crossentropy: 1.0150\n",
      "Epoch 37/300\n",
      "406/409 [============================>.] - ETA: 0s - loss: 0.4271 - binary_crossentropy: 0.4271\n",
      "Epoch 37: val_binary_crossentropy did not improve from 0.97185\n",
      "409/409 [==============================] - 8s 20ms/step - loss: 0.4270 - binary_crossentropy: 0.4270 - val_loss: 1.0083 - val_binary_crossentropy: 1.0083\n",
      "Epoch 38/300\n",
      "408/409 [============================>.] - ETA: 0s - loss: 0.4277 - binary_crossentropy: 0.4277\n",
      "Epoch 38: val_binary_crossentropy did not improve from 0.97185\n",
      "409/409 [==============================] - 8s 20ms/step - loss: 0.4277 - binary_crossentropy: 0.4277 - val_loss: 1.0128 - val_binary_crossentropy: 1.0128\n",
      "Epoch 39/300\n",
      "407/409 [============================>.] - ETA: 0s - loss: 0.4262 - binary_crossentropy: 0.4262\n",
      "Epoch 39: val_binary_crossentropy did not improve from 0.97185\n",
      "409/409 [==============================] - 8s 20ms/step - loss: 0.4262 - binary_crossentropy: 0.4262 - val_loss: 1.0489 - val_binary_crossentropy: 1.0489\n",
      "Epoch 40/300\n",
      "408/409 [============================>.] - ETA: 0s - loss: 0.4252 - binary_crossentropy: 0.4252\n",
      "Epoch 40: val_binary_crossentropy did not improve from 0.97185\n",
      "409/409 [==============================] - 8s 20ms/step - loss: 0.4252 - binary_crossentropy: 0.4252 - val_loss: 1.0621 - val_binary_crossentropy: 1.0621\n",
      "Epoch 41/300\n",
      "407/409 [============================>.] - ETA: 0s - loss: 0.4254 - binary_crossentropy: 0.4254\n",
      "Epoch 41: val_binary_crossentropy did not improve from 0.97185\n",
      "409/409 [==============================] - 8s 20ms/step - loss: 0.4254 - binary_crossentropy: 0.4254 - val_loss: 1.0672 - val_binary_crossentropy: 1.0672\n",
      "Epoch 42/300\n",
      "408/409 [============================>.] - ETA: 0s - loss: 0.4242 - binary_crossentropy: 0.4242\n",
      "Epoch 42: val_binary_crossentropy did not improve from 0.97185\n",
      "409/409 [==============================] - 8s 20ms/step - loss: 0.4242 - binary_crossentropy: 0.4242 - val_loss: 1.0624 - val_binary_crossentropy: 1.0624\n",
      "Epoch 43/300\n",
      "408/409 [============================>.] - ETA: 0s - loss: 0.4246 - binary_crossentropy: 0.4246\n",
      "Epoch 43: val_binary_crossentropy did not improve from 0.97185\n",
      "409/409 [==============================] - 8s 20ms/step - loss: 0.4246 - binary_crossentropy: 0.4246 - val_loss: 1.0338 - val_binary_crossentropy: 1.0338\n",
      "Epoch 44/300\n",
      "407/409 [============================>.] - ETA: 0s - loss: 0.4231 - binary_crossentropy: 0.4231\n",
      "Epoch 44: val_binary_crossentropy did not improve from 0.97185\n",
      "409/409 [==============================] - 8s 19ms/step - loss: 0.4233 - binary_crossentropy: 0.4233 - val_loss: 1.1305 - val_binary_crossentropy: 1.1305\n",
      "Epoch 45/300\n",
      "409/409 [==============================] - ETA: 0s - loss: 0.4228 - binary_crossentropy: 0.4228\n",
      "Epoch 45: val_binary_crossentropy did not improve from 0.97185\n",
      "409/409 [==============================] - 8s 20ms/step - loss: 0.4228 - binary_crossentropy: 0.4228 - val_loss: 1.0619 - val_binary_crossentropy: 1.0619\n",
      "Epoch 46/300\n",
      "407/409 [============================>.] - ETA: 0s - loss: 0.4218 - binary_crossentropy: 0.4218\n",
      "Epoch 46: val_binary_crossentropy did not improve from 0.97185\n",
      "409/409 [==============================] - 8s 20ms/step - loss: 0.4218 - binary_crossentropy: 0.4218 - val_loss: 1.0707 - val_binary_crossentropy: 1.0707\n",
      "Epoch 47/300\n",
      "408/409 [============================>.] - ETA: 0s - loss: 0.4214 - binary_crossentropy: 0.4214\n",
      "Epoch 47: val_binary_crossentropy did not improve from 0.97185\n",
      "409/409 [==============================] - 8s 20ms/step - loss: 0.4214 - binary_crossentropy: 0.4214 - val_loss: 1.0895 - val_binary_crossentropy: 1.0895\n",
      "Epoch 48/300\n",
      "406/409 [============================>.] - ETA: 0s - loss: 0.4208 - binary_crossentropy: 0.4208\n",
      "Epoch 48: val_binary_crossentropy did not improve from 0.97185\n",
      "409/409 [==============================] - 8s 20ms/step - loss: 0.4208 - binary_crossentropy: 0.4208 - val_loss: 1.0038 - val_binary_crossentropy: 1.0038\n",
      "Epoch 49/300\n",
      "406/409 [============================>.] - ETA: 0s - loss: 0.4209 - binary_crossentropy: 0.4209\n",
      "Epoch 49: val_binary_crossentropy did not improve from 0.97185\n",
      "409/409 [==============================] - 8s 20ms/step - loss: 0.4209 - binary_crossentropy: 0.4209 - val_loss: 1.0636 - val_binary_crossentropy: 1.0636\n",
      "Epoch 50/300\n",
      "406/409 [============================>.] - ETA: 0s - loss: 0.4200 - binary_crossentropy: 0.4200\n",
      "Epoch 50: val_binary_crossentropy did not improve from 0.97185\n",
      "409/409 [==============================] - 8s 19ms/step - loss: 0.4202 - binary_crossentropy: 0.4202 - val_loss: 1.1145 - val_binary_crossentropy: 1.1145\n",
      "Epoch 51/300\n",
      "407/409 [============================>.] - ETA: 0s - loss: 0.4205 - binary_crossentropy: 0.4205\n",
      "Epoch 51: val_binary_crossentropy did not improve from 0.97185\n",
      "409/409 [==============================] - 8s 20ms/step - loss: 0.4205 - binary_crossentropy: 0.4205 - val_loss: 1.0673 - val_binary_crossentropy: 1.0673\n",
      "Epoch 52/300\n",
      "407/409 [============================>.] - ETA: 0s - loss: 0.4195 - binary_crossentropy: 0.4195\n",
      "Epoch 52: val_binary_crossentropy did not improve from 0.97185\n",
      "409/409 [==============================] - 8s 20ms/step - loss: 0.4195 - binary_crossentropy: 0.4195 - val_loss: 1.1440 - val_binary_crossentropy: 1.1440\n",
      "Epoch 53/300\n",
      "408/409 [============================>.] - ETA: 0s - loss: 0.4188 - binary_crossentropy: 0.4188\n",
      "Epoch 53: val_binary_crossentropy did not improve from 0.97185\n",
      "409/409 [==============================] - 8s 20ms/step - loss: 0.4188 - binary_crossentropy: 0.4188 - val_loss: 1.1294 - val_binary_crossentropy: 1.1294\n",
      "Epoch 54/300\n",
      "407/409 [============================>.] - ETA: 0s - loss: 0.4191 - binary_crossentropy: 0.4191\n",
      "Epoch 54: val_binary_crossentropy did not improve from 0.97185\n",
      "409/409 [==============================] - 8s 20ms/step - loss: 0.4192 - binary_crossentropy: 0.4192 - val_loss: 1.0484 - val_binary_crossentropy: 1.0484\n"
     ]
    }
   ],
   "source": [
    "history = model.fit([sdscaled_train_q1, sdscaled_train_q2], train_labels, batch_size=BATCH_SIZE, epochs=NUM_EPOCHS,\n",
    "                    validation_split=VALIDATION_SPLIT, callbacks=[es_callback, cp_callback])"
   ]
  },
  {
   "attachments": {},
   "cell_type": "markdown",
   "metadata": {},
   "source": [
    "### 🌈**Predict Test Data and go to Kaggle!!**\n",
    "\n",
    "**😎예측을 위한 Test 전처리 data load**"
   ]
  },
  {
   "cell_type": "code",
   "execution_count": 106,
   "metadata": {},
   "outputs": [
    {
     "name": "stdout",
     "output_type": "stream",
     "text": [
      "[Q1 Shape] : (2345796, 128), [Q2 Shape] : (2345796, 128), [TEST ID] : (2345796,),\n"
     ]
    }
   ],
   "source": [
    "PREPROCESSED_PATH = os.path.join(os.getcwd(), 'preprocessed')\n",
    "\n",
    "TEST_ID = 'test_id_1d.npy'\n",
    "TEST_Q1_DATA = 'q1_test_1d.npy'\n",
    "TEST_Q2_DATA = 'q1_test_1d.npy'\n",
    "\n",
    "test_q1_data = np.load(open(os.path.join(PREPROCESSED_PATH, TEST_Q1_DATA), 'rb'))\n",
    "test_q2_data = np.load(open(os.path.join(PREPROCESSED_PATH, TEST_Q2_DATA), 'rb'))\n",
    "test_id = np.load(open(os.path.join(PREPROCESSED_PATH, TEST_ID), 'rb'))\n",
    "\n",
    "print(f'[Q1 Shape] : {test_q1_data.shape}, [Q2 Shape] : {test_q2_data.shape}, [TEST ID] : {test_id.shape},')"
   ]
  },
  {
   "attachments": {},
   "cell_type": "markdown",
   "metadata": {},
   "source": [
    "**😎SVD 적용**"
   ]
  },
  {
   "cell_type": "code",
   "execution_count": 107,
   "metadata": {},
   "outputs": [
    {
     "name": "stdout",
     "output_type": "stream",
     "text": [
      "[Q1 Shape] : (2345796, 64), [Q2 Shape] : (2345796, 64), [TEST ID] : (2345796,),\n"
     ]
    }
   ],
   "source": [
    "test_q1_data = tsvd.transform(test_q1_data)\n",
    "test_q2_data = tsvd.transform(test_q2_data)\n",
    "print(f'[Q1 Shape] : {test_q1_data.shape}, [Q2 Shape] : {test_q2_data.shape}, [TEST ID] : {test_id.shape},')"
   ]
  },
  {
   "attachments": {},
   "cell_type": "markdown",
   "metadata": {},
   "source": [
    "**😎Scaler 적용**"
   ]
  },
  {
   "cell_type": "code",
   "execution_count": 87,
   "metadata": {},
   "outputs": [],
   "source": [
    "test_q1_data = sdscaler.transform(test_q1_data)\n",
    "test_q2_data = sdscaler.transform(test_q2_data)"
   ]
  },
  {
   "attachments": {},
   "cell_type": "markdown",
   "metadata": {},
   "source": [
    "**😎BEST Model 예측**"
   ]
  },
  {
   "cell_type": "code",
   "execution_count": 108,
   "metadata": {},
   "outputs": [],
   "source": [
    "MODEL_PARAMS = os.path.join(MODEL_PATH, 'svd_wide_and_deep.h5')\n",
    "\n",
    "svd_wide_and_deep_model = Wide_And_Deep(**kwargs)\n",
    "svd_wide_and_deep_model.build(input_shape=(None, 2, 64))\n",
    "svd_wide_and_deep_model.load_weights(MODEL_PARAMS)"
   ]
  },
  {
   "cell_type": "code",
   "execution_count": 109,
   "metadata": {},
   "outputs": [
    {
     "name": "stdout",
     "output_type": "stream",
     "text": [
      "73307/73307 [==============================] - 662s 9ms/step\n"
     ]
    }
   ],
   "source": [
    "svd_wide_and_deep_test_predict_proba = svd_wide_and_deep_model.predict([test_q1_data, test_q2_data])"
   ]
  },
  {
   "attachments": {},
   "cell_type": "markdown",
   "metadata": {},
   "source": [
    "**😎Kaggle 제출 파일 생성**"
   ]
  },
  {
   "cell_type": "code",
   "execution_count": 110,
   "metadata": {},
   "outputs": [],
   "source": [
    "prob = [x[0] for x in svd_wide_and_deep_test_predict_proba]\n",
    "output = pd.DataFrame({'test_id' : test_id, 'is_duplicate' : prob})\n",
    "\n",
    "SUBMISSION_PATH = os.path.join(os.getcwd(), 'submission')\n",
    "output.to_csv(os.path.join(SUBMISSION_PATH, 'submission_svd_wide_and_deep.csv'), index=False)"
   ]
  },
  {
   "attachments": {},
   "cell_type": "markdown",
   "metadata": {},
   "source": [
    "### 🌈 **log loss : private(0.41512), public(0.41167)**\n",
    "\n",
    "![image](./image/svd_wide_and_deep_1.JPG)\n",
    "\n",
    "\n",
    "**💫점수와 가장 가까운 등수**\n",
    "\n",
    "![image](./image/svd_wide_and_deep_near_1.JPG)"
   ]
  },
  {
   "attachments": {},
   "cell_type": "markdown",
   "metadata": {},
   "source": [
    "# 👻Stacking Model\n",
    "\n",
    "## 🤡**Load Dataset and Train Test Split**"
   ]
  },
  {
   "cell_type": "code",
   "execution_count": 26,
   "metadata": {},
   "outputs": [
    {
     "name": "stdout",
     "output_type": "stream",
     "text": [
      "[Q1 Shape] : (298526, 128), [Q2 Shape] : (298526, 128)\n",
      "[Q1 Shape] : (2345796, 128), [Q2 Shape] : (2345796, 128), [TEST ID] : (2345796,),\n"
     ]
    }
   ],
   "source": [
    "PREPROCESSED_PATH = os.path.join(os.getcwd(), 'preprocessed')\n",
    "TRAIN_Q1_DATA = 'q1_train_1d.npy'\n",
    "TRAIN_Q2_DATA = 'q2_train_1d.npy'\n",
    "TRAIN_LABEL_DATA = 'label_train_1d.npy'\n",
    "TEST_ID = 'test_id_1d.npy'\n",
    "TEST_Q1_DATA = 'q1_test_1d.npy'\n",
    "TEST_Q2_DATA = 'q1_test_1d.npy'\n",
    "\n",
    "# load train data\n",
    "train_q1_data = np.load(open(os.path.join(PREPROCESSED_PATH, TRAIN_Q1_DATA), 'rb'))\n",
    "train_q2_data = np.load(open(os.path.join(PREPROCESSED_PATH, TRAIN_Q2_DATA), 'rb'))\n",
    "train_labels = np.load(open(os.path.join(PREPROCESSED_PATH, TRAIN_LABEL_DATA), 'rb'))\n",
    "\n",
    "# load test data\n",
    "test_q1_data = np.load(open(os.path.join(PREPROCESSED_PATH, TEST_Q1_DATA), 'rb'))\n",
    "test_q2_data = np.load(open(os.path.join(PREPROCESSED_PATH, TEST_Q2_DATA), 'rb'))\n",
    "test_id = np.load(open(os.path.join(PREPROCESSED_PATH, TEST_ID), 'rb'))\n",
    "\n",
    "print(f'[Q1 Shape] : {train_q1_data.shape}, [Q2 Shape] : {train_q2_data.shape}')\n",
    "print(f'[Q1 Shape] : {test_q1_data.shape}, [Q2 Shape] : {test_q2_data.shape}, [TEST ID] : {test_id.shape},')"
   ]
  },
  {
   "cell_type": "code",
   "execution_count": 29,
   "metadata": {},
   "outputs": [
    {
     "name": "stdout",
     "output_type": "stream",
     "text": [
      "[TRAIN Shape] : (208968, 2, 128), [TRAIN LABEL Shape] : (208968,)\n",
      "[EVAL Shape] : (89558, 2, 128), [EVAL LABEL Shape] : (89558,)\n",
      "[TEST Shape] : (2345796, 2, 128)\n"
     ]
    }
   ],
   "source": [
    "RANDOM_SEED = 42\n",
    "TEST_SPLIT = 0.3\n",
    "\n",
    "train = np.stack((train_q1_data, train_q2_data), axis=1)\n",
    "X_train, X_eval, y_train, y_eval = train_test_split(train, train_labels, test_size=TEST_SPLIT, random_state=RANDOM_SEED)\n",
    "X_test = np.stack((test_q1_data, test_q2_data), axis=1)\n",
    "\n",
    "print(f'[TRAIN Shape] : {X_train.shape}, [TRAIN LABEL Shape] : {y_train.shape}')\n",
    "print(f'[EVAL Shape] : {X_eval.shape}, [EVAL LABEL Shape] : {y_eval.shape}')\n",
    "print(f'[TEST Shape] : {X_test.shape}')"
   ]
  },
  {
   "attachments": {},
   "cell_type": "markdown",
   "metadata": {},
   "source": [
    "## 🤡**Stacking Layer1**"
   ]
  },
  {
   "attachments": {},
   "cell_type": "markdown",
   "metadata": {},
   "source": [
    "### 🌈**Random Forest**"
   ]
  },
  {
   "cell_type": "code",
   "execution_count": 10,
   "metadata": {},
   "outputs": [],
   "source": [
    "import joblib\n",
    "MODEL_PATH = os.path.join(os.getcwd(), 'model')"
   ]
  },
  {
   "cell_type": "code",
   "execution_count": 11,
   "metadata": {},
   "outputs": [],
   "source": [
    "random_forest = joblib.load(os.path.join(MODEL_PATH, 'rf_model_best.joblib'))"
   ]
  },
  {
   "cell_type": "code",
   "execution_count": 34,
   "metadata": {},
   "outputs": [
    {
     "name": "stdout",
     "output_type": "stream",
     "text": [
      "[TRAIN Shape] : (208968, 128), [TRAIN PREDICT Shape] : (208968, 2)\n",
      "[EVAL Shape] : (89558, 128), [EVAL PREDICT Shape] : (89558, 2)\n",
      "[TEST Shape] : (2345796, 128), [TEST PREDICT Shape] : (2345796, 2)\n"
     ]
    }
   ],
   "source": [
    "rf_train = X_train.sum(axis=1)\n",
    "rf_eval = X_eval.sum(axis=1)\n",
    "rf_test = X_test.sum(axis=1)\n",
    "\n",
    "rf_train_predict = random_forest.predict_proba(rf_train)\n",
    "rf_eval_predict = random_forest.predict_proba(rf_eval)\n",
    "rf_test_predict = random_forest.predict_proba(rf_test)\n",
    "\n",
    "print(f'[TRAIN Shape] : {rf_train.shape}, [TRAIN PREDICT Shape] : {rf_train_predict.shape}')\n",
    "print(f'[EVAL Shape] : {rf_eval.shape}, [EVAL PREDICT Shape] : {rf_eval_predict.shape}')\n",
    "print(f'[TEST Shape] : {rf_test.shape}, [TEST PREDICT Shape] : {rf_test_predict.shape}')"
   ]
  },
  {
   "attachments": {},
   "cell_type": "markdown",
   "metadata": {},
   "source": [
    "### 🌈**Wide and Deep**"
   ]
  },
  {
   "cell_type": "code",
   "execution_count": 35,
   "metadata": {},
   "outputs": [],
   "source": [
    "sdscaler = joblib.load(os.path.join(MODEL_PATH, 'scaler.joblib'))\n",
    "# Scaling Train data\n",
    "wad_train_q1_data = sdscaler.transform(X_train[:, 0, :])\n",
    "wad_train_q2_data = sdscaler.transform(X_train[:, 1, :])\n",
    "# Scaling Eval data\n",
    "wad_eval_q1_data = sdscaler.transform(X_eval[:, 0, :])\n",
    "wad_eval_q2_data = sdscaler.transform(X_eval[:, 1, :])\n",
    "# Scaling Test data\n",
    "wad_test_q1_data = sdscaler.transform(X_test[:, 0, :])\n",
    "wad_test_q2_data = sdscaler.transform(X_test[:, 1, :])"
   ]
  },
  {
   "cell_type": "code",
   "execution_count": 38,
   "metadata": {},
   "outputs": [],
   "source": [
    "WAD_MODEL_PARAMS = os.path.join(MODEL_PATH, 'wide_and_deep_best.h5')\n",
    "\n",
    "wide_and_deep_model = Wide_And_Deep(**kwargs)\n",
    "wide_and_deep_model.build(input_shape=(None, 2, 128))\n",
    "wide_and_deep_model.load_weights(WAD_MODEL_PARAMS)"
   ]
  },
  {
   "cell_type": "code",
   "execution_count": 39,
   "metadata": {},
   "outputs": [
    {
     "name": "stdout",
     "output_type": "stream",
     "text": [
      "6531/6531 [==============================] - 37s 5ms/step\n",
      "2799/2799 [==============================] - 16s 6ms/step\n",
      "73307/73307 [==============================] - 317s 4ms/step\n",
      "[TRAIN q1, q2 Shape] : (208968, 128), [TRAIN PREDICT Shape] : (208968, 1)\n",
      "[EVAL  q1, q2 Shape] : (89558, 128), [EVAL PREDICT Shape] : (89558, 1)\n",
      "[TEST  q1, q2 Shape] : (2345796, 128), [TEST PREDICT Shape] : (2345796, 1)\n"
     ]
    }
   ],
   "source": [
    "wad_train_predict = wide_and_deep_model.predict([wad_train_q1_data, wad_train_q2_data])\n",
    "wad_eval_predict = wide_and_deep_model.predict([wad_eval_q1_data, wad_eval_q2_data])\n",
    "wad_test_predict = wide_and_deep_model.predict([wad_test_q1_data, wad_test_q2_data])\n",
    "\n",
    "print(f'[TRAIN q1, q2 Shape] : {wad_train_q1_data.shape}, [TRAIN PREDICT Shape] : {wad_train_predict.shape}')\n",
    "print(f'[EVAL  q1, q2 Shape] : {wad_eval_q1_data.shape}, [EVAL PREDICT Shape] : {wad_eval_predict.shape}')\n",
    "print(f'[TEST  q1, q2 Shape] : {wad_test_q1_data.shape}, [TEST PREDICT Shape] : {wad_test_predict.shape}')"
   ]
  },
  {
   "attachments": {},
   "cell_type": "markdown",
   "metadata": {},
   "source": [
    "### 🌈**SVM + Wide and Deep**"
   ]
  },
  {
   "cell_type": "code",
   "execution_count": 40,
   "metadata": {},
   "outputs": [],
   "source": [
    "tsvd = joblib.load(os.path.join(MODEL_PATH, 'TSVD.joblib'))\n",
    "#  Train data\n",
    "svd_wad_train_q1_data = tsvd.transform(X_train[:, 0, :])\n",
    "svd_wad_train_q2_data = tsvd.transform(X_train[:, 1, :])\n",
    "#  Eval data\n",
    "svd_wad_eval_q1_data = tsvd.transform(X_eval[:, 0, :])\n",
    "svd_wad_eval_q2_data = tsvd.transform(X_eval[:, 1, :])\n",
    "#  Test data\n",
    "svd_wad_test_q1_data = tsvd.transform(X_test[:, 0, :])\n",
    "svd_wad_test_q2_data = tsvd.transform(X_test[:, 1, :])"
   ]
  },
  {
   "cell_type": "code",
   "execution_count": 41,
   "metadata": {},
   "outputs": [],
   "source": [
    "svd_sdscaler = joblib.load(os.path.join(MODEL_PATH, 'svd_scaler.joblib'))\n",
    "# Scaling Train data\n",
    "svd_wad_train_q1_data = svd_sdscaler.transform(svd_wad_train_q1_data)\n",
    "svd_wad_train_q2_data = svd_sdscaler.transform(svd_wad_train_q2_data)\n",
    "# Scaling Eval data\n",
    "svd_wad_eval_q1_data = svd_sdscaler.transform(svd_wad_eval_q1_data)\n",
    "svd_wad_eval_q2_data = svd_sdscaler.transform(svd_wad_eval_q2_data)\n",
    "# Scaling Test data\n",
    "svd_wad_test_q1_data = svd_sdscaler.transform(svd_wad_test_q1_data)\n",
    "svd_wad_test_q2_data = svd_sdscaler.transform(svd_wad_test_q2_data)"
   ]
  },
  {
   "cell_type": "code",
   "execution_count": 45,
   "metadata": {},
   "outputs": [],
   "source": [
    "SVD_MODEL_PARAMS = os.path.join(MODEL_PATH, 'svd_wide_and_deep_best.h5')\n",
    "\n",
    "svd_wide_and_deep_model = Wide_And_Deep(**kwargs)\n",
    "svd_wide_and_deep_model.build(input_shape=(None, 2, 64))\n",
    "svd_wide_and_deep_model.load_weights(SVD_MODEL_PARAMS)"
   ]
  },
  {
   "cell_type": "code",
   "execution_count": 46,
   "metadata": {},
   "outputs": [
    {
     "name": "stdout",
     "output_type": "stream",
     "text": [
      "6531/6531 [==============================] - 52s 8ms/step\n",
      "2799/2799 [==============================] - 24s 9ms/step\n",
      "73307/73307 [==============================] - 573s 8ms/step\n",
      "[TRAIN q1, q2 Shape] : (208968, 64), [TRAIN PREDICT Shape] : (208968, 1)\n",
      "[EVAL  q1, q2 Shape] : (89558, 64), [EVAL PREDICT Shape] : (89558, 1)\n",
      "[TEST  q1, q2 Shape] : (2345796, 64), [TEST PREDICT Shape] : (2345796, 1)\n"
     ]
    }
   ],
   "source": [
    "svd_wad_train_predict = wide_and_deep_model.predict([svd_wad_train_q1_data, svd_wad_train_q2_data])\n",
    "svd_wad_eval_predict = wide_and_deep_model.predict([svd_wad_eval_q1_data, svd_wad_eval_q2_data])\n",
    "svd_wad_test_predict = wide_and_deep_model.predict([svd_wad_test_q1_data, svd_wad_test_q2_data])\n",
    "\n",
    "print(f'[TRAIN q1, q2 Shape] : {svd_wad_train_q1_data.shape}, [TRAIN PREDICT Shape] : {svd_wad_train_predict.shape}')\n",
    "print(f'[EVAL  q1, q2 Shape] : {svd_wad_eval_q1_data.shape}, [EVAL PREDICT Shape] : {svd_wad_eval_predict.shape}')\n",
    "print(f'[TEST  q1, q2 Shape] : {svd_wad_test_q1_data.shape}, [TEST PREDICT Shape] : {svd_wad_test_predict.shape}')"
   ]
  },
  {
   "attachments": {},
   "cell_type": "markdown",
   "metadata": {},
   "source": [
    "## 🤡**Stacking Layer2**"
   ]
  },
  {
   "attachments": {},
   "cell_type": "markdown",
   "metadata": {},
   "source": [
    "### 🌈**Concat Layer1 Output**"
   ]
  },
  {
   "cell_type": "code",
   "execution_count": 118,
   "metadata": {},
   "outputs": [],
   "source": [
    "layer1_train_concat = np.concatenate([rf_train_predict[:, [1]], wad_train_predict, svd_wad_train_predict], axis=1)\n",
    "layer1_eval_concat = np.concatenate([rf_eval_predict[:, [1]], wad_eval_predict, svd_wad_eval_predict], axis=1)\n",
    "layer1_test_concat = np.concatenate([rf_test_predict[:, [1]], wad_test_predict, svd_wad_test_predict], axis=1)"
   ]
  },
  {
   "attachments": {},
   "cell_type": "markdown",
   "metadata": {},
   "source": [
    "### 🌈**Stacking Model**"
   ]
  },
  {
   "cell_type": "code",
   "execution_count": 134,
   "metadata": {},
   "outputs": [],
   "source": [
    "class Stacking(tf.keras.Model) :\n",
    "    def __init__(self) :\n",
    "        super(Stacking, self).__init__()\n",
    "        self.dense1 = Dense(units=1, activation='sigmoid')\n",
    "    \n",
    "    def call(self, input) :\n",
    "        x = self.dense1(input)\n",
    "        return x        "
   ]
  },
  {
   "cell_type": "code",
   "execution_count": 135,
   "metadata": {},
   "outputs": [],
   "source": [
    "# Build Model\n",
    "model = Stacking()\n",
    "model.compile(optimizer=tf.keras.optimizers.Adam(),\n",
    "                loss = tf.keras.losses.BinaryCrossentropy(),\n",
    "                metrics=[tf.keras.metrics.BinaryCrossentropy(name='binary_crossentropy')])\n",
    "\n",
    "# callback funtion\n",
    "es_callback = EarlyStopping(monitor='val_binary_crossentropy', min_delta = 0.001, patience=5)\n",
    "checkpoint_path = os.path.join(MODEL_PATH, 'stacking.h5')\n",
    "cp_callback = ModelCheckpoint(checkpoint_path, monitor='val_binary_crossentropy', verbose=1, save_best_only=True, save_weights_only=True)"
   ]
  },
  {
   "cell_type": "code",
   "execution_count": 136,
   "metadata": {},
   "outputs": [
    {
     "name": "stdout",
     "output_type": "stream",
     "text": [
      "Epoch 1/200\n",
      "170/205 [=======================>......] - ETA: 0s - loss: 1.0076 - binary_crossentropy: 1.0076\n",
      "Epoch 1: val_binary_crossentropy improved from inf to 0.86895, saving model to c:\\Users\\user\\Desktop\\github\\Kaggle\\Quora Quetions Pairs\\model\\stacking.h5\n",
      "205/205 [==============================] - 1s 2ms/step - loss: 0.9966 - binary_crossentropy: 0.9966 - val_loss: 0.8690 - val_binary_crossentropy: 0.8690\n",
      "Epoch 2/200\n",
      "150/205 [====================>.........] - ETA: 0s - loss: 0.8946 - binary_crossentropy: 0.8946\n",
      "Epoch 2: val_binary_crossentropy improved from 0.86895 to 0.79699, saving model to c:\\Users\\user\\Desktop\\github\\Kaggle\\Quora Quetions Pairs\\model\\stacking.h5\n",
      "205/205 [==============================] - 0s 1ms/step - loss: 0.8835 - binary_crossentropy: 0.8835 - val_loss: 0.7970 - val_binary_crossentropy: 0.7970\n",
      "Epoch 3/200\n",
      "159/205 [======================>.......] - ETA: 0s - loss: 0.8166 - binary_crossentropy: 0.8166\n",
      "Epoch 3: val_binary_crossentropy improved from 0.79699 to 0.75399, saving model to c:\\Users\\user\\Desktop\\github\\Kaggle\\Quora Quetions Pairs\\model\\stacking.h5\n",
      "205/205 [==============================] - 0s 1ms/step - loss: 0.8105 - binary_crossentropy: 0.8105 - val_loss: 0.7540 - val_binary_crossentropy: 0.7540\n",
      "Epoch 4/200\n",
      "178/205 [=========================>....] - ETA: 0s - loss: 0.7618 - binary_crossentropy: 0.7618\n",
      "Epoch 4: val_binary_crossentropy improved from 0.75399 to 0.72223, saving model to c:\\Users\\user\\Desktop\\github\\Kaggle\\Quora Quetions Pairs\\model\\stacking.h5\n",
      "205/205 [==============================] - 0s 1ms/step - loss: 0.7589 - binary_crossentropy: 0.7589 - val_loss: 0.7222 - val_binary_crossentropy: 0.7222\n",
      "Epoch 5/200\n",
      "191/205 [==========================>...] - ETA: 0s - loss: 0.7162 - binary_crossentropy: 0.7162\n",
      "Epoch 5: val_binary_crossentropy improved from 0.72223 to 0.69361, saving model to c:\\Users\\user\\Desktop\\github\\Kaggle\\Quora Quetions Pairs\\model\\stacking.h5\n",
      "205/205 [==============================] - 0s 1ms/step - loss: 0.7149 - binary_crossentropy: 0.7149 - val_loss: 0.6936 - val_binary_crossentropy: 0.6936\n",
      "Epoch 6/200\n",
      "170/205 [=======================>......] - ETA: 0s - loss: 0.6771 - binary_crossentropy: 0.6771\n",
      "Epoch 6: val_binary_crossentropy improved from 0.69361 to 0.66678, saving model to c:\\Users\\user\\Desktop\\github\\Kaggle\\Quora Quetions Pairs\\model\\stacking.h5\n",
      "205/205 [==============================] - 0s 1ms/step - loss: 0.6737 - binary_crossentropy: 0.6737 - val_loss: 0.6668 - val_binary_crossentropy: 0.6668\n",
      "Epoch 7/200\n",
      "191/205 [==========================>...] - ETA: 0s - loss: 0.6360 - binary_crossentropy: 0.6360\n",
      "Epoch 7: val_binary_crossentropy improved from 0.66678 to 0.64188, saving model to c:\\Users\\user\\Desktop\\github\\Kaggle\\Quora Quetions Pairs\\model\\stacking.h5\n",
      "205/205 [==============================] - 0s 1ms/step - loss: 0.6348 - binary_crossentropy: 0.6348 - val_loss: 0.6419 - val_binary_crossentropy: 0.6419\n",
      "Epoch 8/200\n",
      "163/205 [======================>.......] - ETA: 0s - loss: 0.6019 - binary_crossentropy: 0.6019\n",
      "Epoch 8: val_binary_crossentropy improved from 0.64188 to 0.61919, saving model to c:\\Users\\user\\Desktop\\github\\Kaggle\\Quora Quetions Pairs\\model\\stacking.h5\n",
      "205/205 [==============================] - 0s 1ms/step - loss: 0.5984 - binary_crossentropy: 0.5984 - val_loss: 0.6192 - val_binary_crossentropy: 0.6192\n",
      "Epoch 9/200\n",
      "172/205 [========================>.....] - ETA: 0s - loss: 0.5673 - binary_crossentropy: 0.5673\n",
      "Epoch 9: val_binary_crossentropy improved from 0.61919 to 0.59873, saving model to c:\\Users\\user\\Desktop\\github\\Kaggle\\Quora Quetions Pairs\\model\\stacking.h5\n",
      "205/205 [==============================] - 0s 1ms/step - loss: 0.5647 - binary_crossentropy: 0.5647 - val_loss: 0.5987 - val_binary_crossentropy: 0.5987\n",
      "Epoch 10/200\n",
      "162/205 [======================>.......] - ETA: 0s - loss: 0.5368 - binary_crossentropy: 0.5368\n",
      "Epoch 10: val_binary_crossentropy improved from 0.59873 to 0.58044, saving model to c:\\Users\\user\\Desktop\\github\\Kaggle\\Quora Quetions Pairs\\model\\stacking.h5\n",
      "205/205 [==============================] - 0s 1ms/step - loss: 0.5336 - binary_crossentropy: 0.5336 - val_loss: 0.5804 - val_binary_crossentropy: 0.5804\n",
      "Epoch 11/200\n",
      "170/205 [=======================>......] - ETA: 0s - loss: 0.5074 - binary_crossentropy: 0.5074\n",
      "Epoch 11: val_binary_crossentropy improved from 0.58044 to 0.56418, saving model to c:\\Users\\user\\Desktop\\github\\Kaggle\\Quora Quetions Pairs\\model\\stacking.h5\n",
      "205/205 [==============================] - 0s 1ms/step - loss: 0.5051 - binary_crossentropy: 0.5051 - val_loss: 0.5642 - val_binary_crossentropy: 0.5642\n",
      "Epoch 12/200\n",
      "158/205 [======================>.......] - ETA: 0s - loss: 0.4818 - binary_crossentropy: 0.4818\n",
      "Epoch 12: val_binary_crossentropy improved from 0.56418 to 0.54978, saving model to c:\\Users\\user\\Desktop\\github\\Kaggle\\Quora Quetions Pairs\\model\\stacking.h5\n",
      "205/205 [==============================] - 0s 2ms/step - loss: 0.4789 - binary_crossentropy: 0.4789 - val_loss: 0.5498 - val_binary_crossentropy: 0.5498\n",
      "Epoch 13/200\n",
      "193/205 [===========================>..] - ETA: 0s - loss: 0.4555 - binary_crossentropy: 0.4555\n",
      "Epoch 13: val_binary_crossentropy improved from 0.54978 to 0.53710, saving model to c:\\Users\\user\\Desktop\\github\\Kaggle\\Quora Quetions Pairs\\model\\stacking.h5\n",
      "205/205 [==============================] - 0s 1ms/step - loss: 0.4550 - binary_crossentropy: 0.4550 - val_loss: 0.5371 - val_binary_crossentropy: 0.5371\n",
      "Epoch 14/200\n",
      "199/205 [============================>.] - ETA: 0s - loss: 0.4334 - binary_crossentropy: 0.4334\n",
      "Epoch 14: val_binary_crossentropy improved from 0.53710 to 0.52602, saving model to c:\\Users\\user\\Desktop\\github\\Kaggle\\Quora Quetions Pairs\\model\\stacking.h5\n",
      "205/205 [==============================] - 0s 1ms/step - loss: 0.4330 - binary_crossentropy: 0.4330 - val_loss: 0.5260 - val_binary_crossentropy: 0.5260\n",
      "Epoch 15/200\n",
      "187/205 [==========================>...] - ETA: 0s - loss: 0.4137 - binary_crossentropy: 0.4137\n",
      "Epoch 15: val_binary_crossentropy improved from 0.52602 to 0.51626, saving model to c:\\Users\\user\\Desktop\\github\\Kaggle\\Quora Quetions Pairs\\model\\stacking.h5\n",
      "205/205 [==============================] - 0s 1ms/step - loss: 0.4128 - binary_crossentropy: 0.4128 - val_loss: 0.5163 - val_binary_crossentropy: 0.5163\n",
      "Epoch 16/200\n",
      "196/205 [===========================>..] - ETA: 0s - loss: 0.3946 - binary_crossentropy: 0.3946\n",
      "Epoch 16: val_binary_crossentropy improved from 0.51626 to 0.50773, saving model to c:\\Users\\user\\Desktop\\github\\Kaggle\\Quora Quetions Pairs\\model\\stacking.h5\n",
      "205/205 [==============================] - 0s 1ms/step - loss: 0.3943 - binary_crossentropy: 0.3943 - val_loss: 0.5077 - val_binary_crossentropy: 0.5077\n",
      "Epoch 17/200\n",
      "179/205 [=========================>....] - ETA: 0s - loss: 0.3783 - binary_crossentropy: 0.3783\n",
      "Epoch 17: val_binary_crossentropy improved from 0.50773 to 0.50029, saving model to c:\\Users\\user\\Desktop\\github\\Kaggle\\Quora Quetions Pairs\\model\\stacking.h5\n",
      "205/205 [==============================] - 0s 1ms/step - loss: 0.3772 - binary_crossentropy: 0.3772 - val_loss: 0.5003 - val_binary_crossentropy: 0.5003\n",
      "Epoch 18/200\n",
      "185/205 [==========================>...] - ETA: 0s - loss: 0.3621 - binary_crossentropy: 0.3621\n",
      "Epoch 18: val_binary_crossentropy improved from 0.50029 to 0.49379, saving model to c:\\Users\\user\\Desktop\\github\\Kaggle\\Quora Quetions Pairs\\model\\stacking.h5\n",
      "205/205 [==============================] - 0s 1ms/step - loss: 0.3614 - binary_crossentropy: 0.3614 - val_loss: 0.4938 - val_binary_crossentropy: 0.4938\n",
      "Epoch 19/200\n",
      "143/205 [===================>..........] - ETA: 0s - loss: 0.3485 - binary_crossentropy: 0.3485\n",
      "Epoch 19: val_binary_crossentropy improved from 0.49379 to 0.48816, saving model to c:\\Users\\user\\Desktop\\github\\Kaggle\\Quora Quetions Pairs\\model\\stacking.h5\n",
      "205/205 [==============================] - 0s 1ms/step - loss: 0.3467 - binary_crossentropy: 0.3467 - val_loss: 0.4882 - val_binary_crossentropy: 0.4882\n",
      "Epoch 20/200\n",
      "195/205 [===========================>..] - ETA: 0s - loss: 0.3332 - binary_crossentropy: 0.3332\n",
      "Epoch 20: val_binary_crossentropy improved from 0.48816 to 0.48329, saving model to c:\\Users\\user\\Desktop\\github\\Kaggle\\Quora Quetions Pairs\\model\\stacking.h5\n",
      "205/205 [==============================] - 0s 1ms/step - loss: 0.3330 - binary_crossentropy: 0.3330 - val_loss: 0.4833 - val_binary_crossentropy: 0.4833\n",
      "Epoch 21/200\n",
      "186/205 [==========================>...] - ETA: 0s - loss: 0.3211 - binary_crossentropy: 0.3211\n",
      "Epoch 21: val_binary_crossentropy improved from 0.48329 to 0.47912, saving model to c:\\Users\\user\\Desktop\\github\\Kaggle\\Quora Quetions Pairs\\model\\stacking.h5\n",
      "205/205 [==============================] - 0s 1ms/step - loss: 0.3203 - binary_crossentropy: 0.3203 - val_loss: 0.4791 - val_binary_crossentropy: 0.4791\n",
      "Epoch 22/200\n",
      "196/205 [===========================>..] - ETA: 0s - loss: 0.3087 - binary_crossentropy: 0.3087\n",
      "Epoch 22: val_binary_crossentropy improved from 0.47912 to 0.47550, saving model to c:\\Users\\user\\Desktop\\github\\Kaggle\\Quora Quetions Pairs\\model\\stacking.h5\n",
      "205/205 [==============================] - 0s 1ms/step - loss: 0.3084 - binary_crossentropy: 0.3084 - val_loss: 0.4755 - val_binary_crossentropy: 0.4755\n",
      "Epoch 23/200\n",
      "187/205 [==========================>...] - ETA: 0s - loss: 0.2976 - binary_crossentropy: 0.2976\n",
      "Epoch 23: val_binary_crossentropy improved from 0.47550 to 0.47243, saving model to c:\\Users\\user\\Desktop\\github\\Kaggle\\Quora Quetions Pairs\\model\\stacking.h5\n",
      "205/205 [==============================] - 0s 1ms/step - loss: 0.2973 - binary_crossentropy: 0.2973 - val_loss: 0.4724 - val_binary_crossentropy: 0.4724\n",
      "Epoch 24/200\n",
      "201/205 [============================>.] - ETA: 0s - loss: 0.2869 - binary_crossentropy: 0.2869\n",
      "Epoch 24: val_binary_crossentropy improved from 0.47243 to 0.46986, saving model to c:\\Users\\user\\Desktop\\github\\Kaggle\\Quora Quetions Pairs\\model\\stacking.h5\n",
      "205/205 [==============================] - 0s 1ms/step - loss: 0.2868 - binary_crossentropy: 0.2868 - val_loss: 0.4699 - val_binary_crossentropy: 0.4699\n",
      "Epoch 25/200\n",
      "197/205 [===========================>..] - ETA: 0s - loss: 0.2772 - binary_crossentropy: 0.2772\n",
      "Epoch 25: val_binary_crossentropy improved from 0.46986 to 0.46767, saving model to c:\\Users\\user\\Desktop\\github\\Kaggle\\Quora Quetions Pairs\\model\\stacking.h5\n",
      "205/205 [==============================] - 0s 1ms/step - loss: 0.2769 - binary_crossentropy: 0.2769 - val_loss: 0.4677 - val_binary_crossentropy: 0.4677\n",
      "Epoch 26/200\n",
      "194/205 [===========================>..] - ETA: 0s - loss: 0.2679 - binary_crossentropy: 0.2679\n",
      "Epoch 26: val_binary_crossentropy improved from 0.46767 to 0.46585, saving model to c:\\Users\\user\\Desktop\\github\\Kaggle\\Quora Quetions Pairs\\model\\stacking.h5\n",
      "205/205 [==============================] - 0s 1ms/step - loss: 0.2675 - binary_crossentropy: 0.2675 - val_loss: 0.4658 - val_binary_crossentropy: 0.4658\n",
      "Epoch 27/200\n",
      "193/205 [===========================>..] - ETA: 0s - loss: 0.2589 - binary_crossentropy: 0.2589\n",
      "Epoch 27: val_binary_crossentropy improved from 0.46585 to 0.46433, saving model to c:\\Users\\user\\Desktop\\github\\Kaggle\\Quora Quetions Pairs\\model\\stacking.h5\n",
      "205/205 [==============================] - 0s 1ms/step - loss: 0.2586 - binary_crossentropy: 0.2586 - val_loss: 0.4643 - val_binary_crossentropy: 0.4643\n",
      "Epoch 28/200\n",
      "197/205 [===========================>..] - ETA: 0s - loss: 0.2502 - binary_crossentropy: 0.2502\n",
      "Epoch 28: val_binary_crossentropy improved from 0.46433 to 0.46303, saving model to c:\\Users\\user\\Desktop\\github\\Kaggle\\Quora Quetions Pairs\\model\\stacking.h5\n",
      "205/205 [==============================] - 0s 1ms/step - loss: 0.2501 - binary_crossentropy: 0.2501 - val_loss: 0.4630 - val_binary_crossentropy: 0.4630\n",
      "Epoch 29/200\n",
      "194/205 [===========================>..] - ETA: 0s - loss: 0.2422 - binary_crossentropy: 0.2422\n",
      "Epoch 29: val_binary_crossentropy improved from 0.46303 to 0.46199, saving model to c:\\Users\\user\\Desktop\\github\\Kaggle\\Quora Quetions Pairs\\model\\stacking.h5\n",
      "205/205 [==============================] - 0s 1ms/step - loss: 0.2420 - binary_crossentropy: 0.2420 - val_loss: 0.4620 - val_binary_crossentropy: 0.4620\n",
      "Epoch 30/200\n",
      "196/205 [===========================>..] - ETA: 0s - loss: 0.2342 - binary_crossentropy: 0.2342\n",
      "Epoch 30: val_binary_crossentropy improved from 0.46199 to 0.46118, saving model to c:\\Users\\user\\Desktop\\github\\Kaggle\\Quora Quetions Pairs\\model\\stacking.h5\n",
      "205/205 [==============================] - 0s 1ms/step - loss: 0.2342 - binary_crossentropy: 0.2342 - val_loss: 0.4612 - val_binary_crossentropy: 0.4612\n",
      "Epoch 31/200\n",
      "194/205 [===========================>..] - ETA: 0s - loss: 0.2269 - binary_crossentropy: 0.2269\n",
      "Epoch 31: val_binary_crossentropy improved from 0.46118 to 0.46048, saving model to c:\\Users\\user\\Desktop\\github\\Kaggle\\Quora Quetions Pairs\\model\\stacking.h5\n",
      "205/205 [==============================] - 0s 1ms/step - loss: 0.2268 - binary_crossentropy: 0.2268 - val_loss: 0.4605 - val_binary_crossentropy: 0.4605\n",
      "Epoch 32/200\n",
      "192/205 [===========================>..] - ETA: 0s - loss: 0.2199 - binary_crossentropy: 0.2199\n",
      "Epoch 32: val_binary_crossentropy improved from 0.46048 to 0.46002, saving model to c:\\Users\\user\\Desktop\\github\\Kaggle\\Quora Quetions Pairs\\model\\stacking.h5\n",
      "205/205 [==============================] - 0s 1ms/step - loss: 0.2197 - binary_crossentropy: 0.2197 - val_loss: 0.4600 - val_binary_crossentropy: 0.4600\n",
      "Epoch 33/200\n",
      "194/205 [===========================>..] - ETA: 0s - loss: 0.2130 - binary_crossentropy: 0.2130\n",
      "Epoch 33: val_binary_crossentropy improved from 0.46002 to 0.45957, saving model to c:\\Users\\user\\Desktop\\github\\Kaggle\\Quora Quetions Pairs\\model\\stacking.h5\n",
      "205/205 [==============================] - 0s 1ms/step - loss: 0.2128 - binary_crossentropy: 0.2128 - val_loss: 0.4596 - val_binary_crossentropy: 0.4596\n",
      "Epoch 34/200\n",
      "197/205 [===========================>..] - ETA: 0s - loss: 0.2063 - binary_crossentropy: 0.2063\n",
      "Epoch 34: val_binary_crossentropy improved from 0.45957 to 0.45932, saving model to c:\\Users\\user\\Desktop\\github\\Kaggle\\Quora Quetions Pairs\\model\\stacking.h5\n",
      "205/205 [==============================] - 0s 1ms/step - loss: 0.2061 - binary_crossentropy: 0.2061 - val_loss: 0.4593 - val_binary_crossentropy: 0.4593\n",
      "Epoch 35/200\n",
      "201/205 [============================>.] - ETA: 0s - loss: 0.1998 - binary_crossentropy: 0.1998\n",
      "Epoch 35: val_binary_crossentropy improved from 0.45932 to 0.45907, saving model to c:\\Users\\user\\Desktop\\github\\Kaggle\\Quora Quetions Pairs\\model\\stacking.h5\n",
      "205/205 [==============================] - 0s 1ms/step - loss: 0.1997 - binary_crossentropy: 0.1997 - val_loss: 0.4591 - val_binary_crossentropy: 0.4591\n",
      "Epoch 36/200\n",
      "196/205 [===========================>..] - ETA: 0s - loss: 0.1937 - binary_crossentropy: 0.1937\n",
      "Epoch 36: val_binary_crossentropy improved from 0.45907 to 0.45902, saving model to c:\\Users\\user\\Desktop\\github\\Kaggle\\Quora Quetions Pairs\\model\\stacking.h5\n",
      "205/205 [==============================] - 0s 1ms/step - loss: 0.1936 - binary_crossentropy: 0.1936 - val_loss: 0.4590 - val_binary_crossentropy: 0.4590\n",
      "Epoch 37/200\n",
      "187/205 [==========================>...] - ETA: 0s - loss: 0.1881 - binary_crossentropy: 0.1881\n",
      "Epoch 37: val_binary_crossentropy did not improve from 0.45902\n",
      "205/205 [==============================] - 0s 1ms/step - loss: 0.1876 - binary_crossentropy: 0.1876 - val_loss: 0.4591 - val_binary_crossentropy: 0.4591\n",
      "Epoch 38/200\n",
      "190/205 [==========================>...] - ETA: 0s - loss: 0.1822 - binary_crossentropy: 0.1822\n",
      "Epoch 38: val_binary_crossentropy did not improve from 0.45902\n",
      "205/205 [==============================] - 0s 1ms/step - loss: 0.1819 - binary_crossentropy: 0.1819 - val_loss: 0.4592 - val_binary_crossentropy: 0.4592\n",
      "Epoch 39/200\n",
      "201/205 [============================>.] - ETA: 0s - loss: 0.1764 - binary_crossentropy: 0.1764\n",
      "Epoch 39: val_binary_crossentropy did not improve from 0.45902\n",
      "205/205 [==============================] - 0s 1ms/step - loss: 0.1764 - binary_crossentropy: 0.1764 - val_loss: 0.4592 - val_binary_crossentropy: 0.4592\n"
     ]
    }
   ],
   "source": [
    "BATCH_SIZE = 1024\n",
    "NUM_EPOCHS = 200\n",
    "history = model.fit(layer1_train_concat, y_train, batch_size=BATCH_SIZE, epochs=NUM_EPOCHS,\n",
    "                    validation_data = (layer1_eval_concat, y_eval), callbacks=[es_callback, cp_callback])"
   ]
  },
  {
   "cell_type": "code",
   "execution_count": 137,
   "metadata": {},
   "outputs": [
    {
     "name": "stdout",
     "output_type": "stream",
     "text": [
      "73307/73307 [==============================] - 45s 620us/step\n"
     ]
    }
   ],
   "source": [
    "stacking_predict = model.predict(layer1_test_concat)"
   ]
  },
  {
   "attachments": {},
   "cell_type": "markdown",
   "metadata": {},
   "source": [
    "### 🌈**Go Kaggle!!**"
   ]
  },
  {
   "cell_type": "code",
   "execution_count": 140,
   "metadata": {},
   "outputs": [],
   "source": [
    "prob = [x[0] for x in stacking_predict]\n",
    "output = pd.DataFrame({'test_id' : test_id, 'is_duplicate' : prob})\n",
    "\n",
    "SUBMISSION_PATH = os.path.join(os.getcwd(), 'submission')\n",
    "output.to_csv(os.path.join(SUBMISSION_PATH, 'stacking.csv'), index=False)"
   ]
  },
  {
   "attachments": {},
   "cell_type": "markdown",
   "metadata": {},
   "source": [
    "### 🌈 **log loss : private(0.61488), public(0.61391)**\n",
    "\n",
    "![image](./image/stacking_1.JPG)\n",
    "\n",
    "\n",
    "**💫점수와 가장 가까운 등수**\n",
    "\n",
    "![image](./image/stacking_near_1.JPG)"
   ]
  },
  {
   "cell_type": "code",
   "execution_count": null,
   "metadata": {},
   "outputs": [],
   "source": []
  }
 ],
 "metadata": {
  "kernelspec": {
   "display_name": "nlpproject",
   "language": "python",
   "name": "python3"
  },
  "language_info": {
   "codemirror_mode": {
    "name": "ipython",
    "version": 3
   },
   "file_extension": ".py",
   "mimetype": "text/x-python",
   "name": "python",
   "nbconvert_exporter": "python",
   "pygments_lexer": "ipython3",
   "version": "3.10.8"
  },
  "orig_nbformat": 4,
  "vscode": {
   "interpreter": {
    "hash": "3310d3cabcfe43f301d4126367e060a82f3896ba0e1f05dc3836dac6c22dd9a3"
   }
  }
 },
 "nbformat": 4,
 "nbformat_minor": 2
}
